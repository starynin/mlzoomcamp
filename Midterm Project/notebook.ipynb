{
 "cells": [
  {
   "cell_type": "code",
   "execution_count": 1,
   "id": "a19ea50c",
   "metadata": {},
   "outputs": [],
   "source": [
    "import pandas as pd\n",
    "import datetime\n",
    "import seaborn as sns\n",
    "import matplotlib.pyplot as plt\n",
    "import numpy as np"
   ]
  },
  {
   "cell_type": "code",
   "execution_count": 2,
   "id": "9a033f7f",
   "metadata": {},
   "outputs": [],
   "source": [
    "from IPython.display import display"
   ]
  },
  {
   "cell_type": "code",
   "execution_count": 3,
   "id": "0e399bac",
   "metadata": {},
   "outputs": [],
   "source": [
    "from sklearn.metrics import mutual_info_score\n",
    "from sklearn.model_selection import train_test_split\n",
    "from sklearn.feature_extraction import DictVectorizer\n",
    "from sklearn.linear_model import LogisticRegression"
   ]
  },
  {
   "cell_type": "code",
   "execution_count": 112,
   "id": "e0fa7690",
   "metadata": {},
   "outputs": [],
   "source": [
    "from sklearn.metrics import accuracy_score\n",
    "from sklearn.metrics import mutual_info_score"
   ]
  },
  {
   "cell_type": "code",
   "execution_count": 113,
   "id": "1de1ce30",
   "metadata": {},
   "outputs": [],
   "source": [
    "from sklearn.metrics import roc_auc_score\n",
    "from sklearn.metrics import auc\n",
    "from sklearn.metrics import roc_curve"
   ]
  },
  {
   "cell_type": "code",
   "execution_count": 11,
   "id": "df85d230",
   "metadata": {},
   "outputs": [],
   "source": [
    "from sklearn.ensemble import RandomForestClassifier\n",
    "import xgboost as xgb\n",
    "from sklearn.tree import DecisionTreeClassifier\n",
    "from sklearn.tree import export_text"
   ]
  },
  {
   "cell_type": "code",
   "execution_count": 10,
   "id": "afa1f61f",
   "metadata": {},
   "outputs": [],
   "source": [
    "import pickle"
   ]
  },
  {
   "cell_type": "code",
   "execution_count": 5,
   "id": "d5a1f030",
   "metadata": {},
   "outputs": [],
   "source": [
    "df = pd.read_csv('data/ai4i2020.csv')"
   ]
  },
  {
   "cell_type": "markdown",
   "id": "bb64eb3b",
   "metadata": {},
   "source": [
    "### EDA"
   ]
  },
  {
   "cell_type": "code",
   "execution_count": 15,
   "id": "9d5c0c61",
   "metadata": {},
   "outputs": [
    {
     "data": {
      "text/html": [
       "<div>\n",
       "<style scoped>\n",
       "    .dataframe tbody tr th:only-of-type {\n",
       "        vertical-align: middle;\n",
       "    }\n",
       "\n",
       "    .dataframe tbody tr th {\n",
       "        vertical-align: top;\n",
       "    }\n",
       "\n",
       "    .dataframe thead th {\n",
       "        text-align: right;\n",
       "    }\n",
       "</style>\n",
       "<table border=\"1\" class=\"dataframe\">\n",
       "  <thead>\n",
       "    <tr style=\"text-align: right;\">\n",
       "      <th></th>\n",
       "      <th>udi</th>\n",
       "      <th>product_id</th>\n",
       "      <th>type</th>\n",
       "      <th>air_temperature</th>\n",
       "      <th>process_temperature</th>\n",
       "      <th>rotational_speed</th>\n",
       "      <th>torque</th>\n",
       "      <th>tool_wear</th>\n",
       "      <th>machine_failure</th>\n",
       "      <th>twf</th>\n",
       "      <th>hdf</th>\n",
       "      <th>pwf</th>\n",
       "      <th>osf</th>\n",
       "      <th>rnf</th>\n",
       "    </tr>\n",
       "  </thead>\n",
       "  <tbody>\n",
       "    <tr>\n",
       "      <th>0</th>\n",
       "      <td>1</td>\n",
       "      <td>M14860</td>\n",
       "      <td>M</td>\n",
       "      <td>298.1</td>\n",
       "      <td>308.6</td>\n",
       "      <td>1551</td>\n",
       "      <td>42.8</td>\n",
       "      <td>0</td>\n",
       "      <td>0</td>\n",
       "      <td>0</td>\n",
       "      <td>0</td>\n",
       "      <td>0</td>\n",
       "      <td>0</td>\n",
       "      <td>0</td>\n",
       "    </tr>\n",
       "    <tr>\n",
       "      <th>1</th>\n",
       "      <td>2</td>\n",
       "      <td>L47181</td>\n",
       "      <td>L</td>\n",
       "      <td>298.2</td>\n",
       "      <td>308.7</td>\n",
       "      <td>1408</td>\n",
       "      <td>46.3</td>\n",
       "      <td>3</td>\n",
       "      <td>0</td>\n",
       "      <td>0</td>\n",
       "      <td>0</td>\n",
       "      <td>0</td>\n",
       "      <td>0</td>\n",
       "      <td>0</td>\n",
       "    </tr>\n",
       "    <tr>\n",
       "      <th>2</th>\n",
       "      <td>3</td>\n",
       "      <td>L47182</td>\n",
       "      <td>L</td>\n",
       "      <td>298.1</td>\n",
       "      <td>308.5</td>\n",
       "      <td>1498</td>\n",
       "      <td>49.4</td>\n",
       "      <td>5</td>\n",
       "      <td>0</td>\n",
       "      <td>0</td>\n",
       "      <td>0</td>\n",
       "      <td>0</td>\n",
       "      <td>0</td>\n",
       "      <td>0</td>\n",
       "    </tr>\n",
       "    <tr>\n",
       "      <th>3</th>\n",
       "      <td>4</td>\n",
       "      <td>L47183</td>\n",
       "      <td>L</td>\n",
       "      <td>298.2</td>\n",
       "      <td>308.6</td>\n",
       "      <td>1433</td>\n",
       "      <td>39.5</td>\n",
       "      <td>7</td>\n",
       "      <td>0</td>\n",
       "      <td>0</td>\n",
       "      <td>0</td>\n",
       "      <td>0</td>\n",
       "      <td>0</td>\n",
       "      <td>0</td>\n",
       "    </tr>\n",
       "    <tr>\n",
       "      <th>4</th>\n",
       "      <td>5</td>\n",
       "      <td>L47184</td>\n",
       "      <td>L</td>\n",
       "      <td>298.2</td>\n",
       "      <td>308.7</td>\n",
       "      <td>1408</td>\n",
       "      <td>40.0</td>\n",
       "      <td>9</td>\n",
       "      <td>0</td>\n",
       "      <td>0</td>\n",
       "      <td>0</td>\n",
       "      <td>0</td>\n",
       "      <td>0</td>\n",
       "      <td>0</td>\n",
       "    </tr>\n",
       "  </tbody>\n",
       "</table>\n",
       "</div>"
      ],
      "text/plain": [
       "   udi product_id type  air_temperature  process_temperature  \\\n",
       "0    1     M14860    M            298.1                308.6   \n",
       "1    2     L47181    L            298.2                308.7   \n",
       "2    3     L47182    L            298.1                308.5   \n",
       "3    4     L47183    L            298.2                308.6   \n",
       "4    5     L47184    L            298.2                308.7   \n",
       "\n",
       "   rotational_speed  torque  tool_wear  machine_failure  twf  hdf  pwf  osf  \\\n",
       "0              1551    42.8          0                0    0    0    0    0   \n",
       "1              1408    46.3          3                0    0    0    0    0   \n",
       "2              1498    49.4          5                0    0    0    0    0   \n",
       "3              1433    39.5          7                0    0    0    0    0   \n",
       "4              1408    40.0          9                0    0    0    0    0   \n",
       "\n",
       "   rnf  \n",
       "0    0  \n",
       "1    0  \n",
       "2    0  \n",
       "3    0  \n",
       "4    0  "
      ]
     },
     "execution_count": 15,
     "metadata": {},
     "output_type": "execute_result"
    }
   ],
   "source": [
    "df.head()"
   ]
  },
  {
   "cell_type": "code",
   "execution_count": 12,
   "id": "6fd220d9",
   "metadata": {},
   "outputs": [],
   "source": [
    "df.columns = df.columns.str.strip(' [K]').str.strip(' [rpm').str.strip(' [N').str.strip(' [min').str.lower().str.replace(' ', '_')"
   ]
  },
  {
   "cell_type": "code",
   "execution_count": 13,
   "id": "30541fde",
   "metadata": {
    "scrolled": true
   },
   "outputs": [
    {
     "data": {
      "text/html": [
       "<div>\n",
       "<style scoped>\n",
       "    .dataframe tbody tr th:only-of-type {\n",
       "        vertical-align: middle;\n",
       "    }\n",
       "\n",
       "    .dataframe tbody tr th {\n",
       "        vertical-align: top;\n",
       "    }\n",
       "\n",
       "    .dataframe thead th {\n",
       "        text-align: right;\n",
       "    }\n",
       "</style>\n",
       "<table border=\"1\" class=\"dataframe\">\n",
       "  <thead>\n",
       "    <tr style=\"text-align: right;\">\n",
       "      <th></th>\n",
       "      <th>udi</th>\n",
       "      <th>product_id</th>\n",
       "      <th>type</th>\n",
       "      <th>air_temperature</th>\n",
       "      <th>process_temperature</th>\n",
       "      <th>rotational_speed</th>\n",
       "      <th>torque</th>\n",
       "      <th>tool_wear</th>\n",
       "      <th>machine_failure</th>\n",
       "      <th>twf</th>\n",
       "      <th>hdf</th>\n",
       "      <th>pwf</th>\n",
       "      <th>osf</th>\n",
       "      <th>rnf</th>\n",
       "    </tr>\n",
       "  </thead>\n",
       "  <tbody>\n",
       "    <tr>\n",
       "      <th>0</th>\n",
       "      <td>1</td>\n",
       "      <td>M14860</td>\n",
       "      <td>M</td>\n",
       "      <td>298.1</td>\n",
       "      <td>308.6</td>\n",
       "      <td>1551</td>\n",
       "      <td>42.8</td>\n",
       "      <td>0</td>\n",
       "      <td>0</td>\n",
       "      <td>0</td>\n",
       "      <td>0</td>\n",
       "      <td>0</td>\n",
       "      <td>0</td>\n",
       "      <td>0</td>\n",
       "    </tr>\n",
       "    <tr>\n",
       "      <th>1</th>\n",
       "      <td>2</td>\n",
       "      <td>L47181</td>\n",
       "      <td>L</td>\n",
       "      <td>298.2</td>\n",
       "      <td>308.7</td>\n",
       "      <td>1408</td>\n",
       "      <td>46.3</td>\n",
       "      <td>3</td>\n",
       "      <td>0</td>\n",
       "      <td>0</td>\n",
       "      <td>0</td>\n",
       "      <td>0</td>\n",
       "      <td>0</td>\n",
       "      <td>0</td>\n",
       "    </tr>\n",
       "    <tr>\n",
       "      <th>2</th>\n",
       "      <td>3</td>\n",
       "      <td>L47182</td>\n",
       "      <td>L</td>\n",
       "      <td>298.1</td>\n",
       "      <td>308.5</td>\n",
       "      <td>1498</td>\n",
       "      <td>49.4</td>\n",
       "      <td>5</td>\n",
       "      <td>0</td>\n",
       "      <td>0</td>\n",
       "      <td>0</td>\n",
       "      <td>0</td>\n",
       "      <td>0</td>\n",
       "      <td>0</td>\n",
       "    </tr>\n",
       "  </tbody>\n",
       "</table>\n",
       "</div>"
      ],
      "text/plain": [
       "   udi product_id type  air_temperature  process_temperature  \\\n",
       "0    1     M14860    M            298.1                308.6   \n",
       "1    2     L47181    L            298.2                308.7   \n",
       "2    3     L47182    L            298.1                308.5   \n",
       "\n",
       "   rotational_speed  torque  tool_wear  machine_failure  twf  hdf  pwf  osf  \\\n",
       "0              1551    42.8          0                0    0    0    0    0   \n",
       "1              1408    46.3          3                0    0    0    0    0   \n",
       "2              1498    49.4          5                0    0    0    0    0   \n",
       "\n",
       "   rnf  \n",
       "0    0  \n",
       "1    0  \n",
       "2    0  "
      ]
     },
     "execution_count": 13,
     "metadata": {},
     "output_type": "execute_result"
    }
   ],
   "source": [
    "df.head(3)"
   ]
  },
  {
   "cell_type": "code",
   "execution_count": 14,
   "id": "e470dd06",
   "metadata": {
    "scrolled": true
   },
   "outputs": [
    {
     "data": {
      "text/plain": [
       "udi                      int64\n",
       "product_id              object\n",
       "type                    object\n",
       "air_temperature        float64\n",
       "process_temperature    float64\n",
       "rotational_speed         int64\n",
       "torque                 float64\n",
       "tool_wear                int64\n",
       "machine_failure          int64\n",
       "twf                      int64\n",
       "hdf                      int64\n",
       "pwf                      int64\n",
       "osf                      int64\n",
       "rnf                      int64\n",
       "dtype: object"
      ]
     },
     "execution_count": 14,
     "metadata": {},
     "output_type": "execute_result"
    }
   ],
   "source": [
    "df.dtypes"
   ]
  },
  {
   "cell_type": "code",
   "execution_count": 20,
   "id": "cceb0cb4",
   "metadata": {},
   "outputs": [
    {
     "data": {
      "text/plain": [
       "udi                      0\n",
       "product_id               0\n",
       "type                     0\n",
       "air_temperature_k        0\n",
       "process_temperature_k    0\n",
       "rotational_speed_rpm     0\n",
       "torque_nm                0\n",
       "tool_wear_min            0\n",
       "machine_failure          0\n",
       "twf                      0\n",
       "hdf                      0\n",
       "pwf                      0\n",
       "osf                      0\n",
       "rnf                      0\n",
       "dtype: int64"
      ]
     },
     "execution_count": 20,
     "metadata": {},
     "output_type": "execute_result"
    }
   ],
   "source": [
    "df.isna().sum()"
   ]
  },
  {
   "cell_type": "markdown",
   "id": "c386d1fc",
   "metadata": {},
   "source": [
    "- there are no NA in the dataset"
   ]
  },
  {
   "cell_type": "code",
   "execution_count": 54,
   "id": "1eb5b9a5",
   "metadata": {},
   "outputs": [
    {
     "data": {
      "text/plain": [
       "339"
      ]
     },
     "execution_count": 54,
     "metadata": {},
     "output_type": "execute_result"
    }
   ],
   "source": [
    "df.machine_failure.sum()"
   ]
  },
  {
   "cell_type": "code",
   "execution_count": 56,
   "id": "8abae0ec",
   "metadata": {},
   "outputs": [],
   "source": [
    "df['target'] = df.twf + df.hdf + df.pwf + df.osf + df.rnf"
   ]
  },
  {
   "cell_type": "code",
   "execution_count": 60,
   "id": "0d3d3cb6",
   "metadata": {},
   "outputs": [],
   "source": [
    "df.target = df.target.astype(bool)"
   ]
  },
  {
   "cell_type": "code",
   "execution_count": 61,
   "id": "22ce20b6",
   "metadata": {},
   "outputs": [],
   "source": [
    "df.target = df.target.astype(int)"
   ]
  },
  {
   "cell_type": "code",
   "execution_count": 62,
   "id": "ef64624e",
   "metadata": {},
   "outputs": [
    {
     "data": {
      "text/plain": [
       "0       0\n",
       "1       0\n",
       "2       0\n",
       "3       0\n",
       "4       0\n",
       "       ..\n",
       "9995    0\n",
       "9996    0\n",
       "9997    0\n",
       "9998    0\n",
       "9999    0\n",
       "Name: target, Length: 10000, dtype: int32"
      ]
     },
     "execution_count": 62,
     "metadata": {},
     "output_type": "execute_result"
    }
   ],
   "source": [
    "df.target"
   ]
  },
  {
   "cell_type": "code",
   "execution_count": 63,
   "id": "4b264595",
   "metadata": {
    "scrolled": true
   },
   "outputs": [
    {
     "data": {
      "text/plain": [
       "348"
      ]
     },
     "execution_count": 63,
     "metadata": {},
     "output_type": "execute_result"
    }
   ],
   "source": [
    "df.target.sum()"
   ]
  },
  {
   "cell_type": "markdown",
   "id": "7cdbbbc9",
   "metadata": {},
   "source": [
    "- There is a difference between target and machine_failure columns. It's better to use target as it always has 1 when any of \"failure\" is 1\n",
    "#### Let's find out how many values in those columns"
   ]
  },
  {
   "cell_type": "code",
   "execution_count": 64,
   "id": "33092a3b",
   "metadata": {},
   "outputs": [
    {
     "name": "stdout",
     "output_type": "stream",
     "text": [
      "twf\n",
      "0    0.9954\n",
      "1    0.0046\n",
      "Name: twf, dtype: float64\n",
      "\n",
      "hdf\n",
      "0    0.9885\n",
      "1    0.0115\n",
      "Name: hdf, dtype: float64\n",
      "\n",
      "pwf\n",
      "0    0.9905\n",
      "1    0.0095\n",
      "Name: pwf, dtype: float64\n",
      "\n",
      "osf\n",
      "0    0.9902\n",
      "1    0.0098\n",
      "Name: osf, dtype: float64\n",
      "\n",
      "rnf\n",
      "0    0.9981\n",
      "1    0.0019\n",
      "Name: rnf, dtype: float64\n",
      "\n",
      "target\n",
      "0    0.9652\n",
      "1    0.0348\n",
      "Name: target, dtype: float64\n",
      "\n"
     ]
    }
   ],
   "source": [
    "for i in ['twf', 'hdf', 'pwf', 'osf', 'rnf', 'target']:\n",
    "    print(i)\n",
    "    print(df[i].value_counts(normalize=True))\n",
    "    print()"
   ]
  },
  {
   "cell_type": "markdown",
   "id": "b14659d9",
   "metadata": {},
   "source": [
    "#### Find difference and risk of categorical columns\n",
    "Categorical is the only one field 'type'"
   ]
  },
  {
   "cell_type": "code",
   "execution_count": 65,
   "id": "6cd235bf",
   "metadata": {},
   "outputs": [],
   "source": [
    "categorical = ['type']"
   ]
  },
  {
   "cell_type": "code",
   "execution_count": 66,
   "id": "70324e93",
   "metadata": {},
   "outputs": [
    {
     "data": {
      "text/plain": [
       "0.0348"
      ]
     },
     "execution_count": 66,
     "metadata": {},
     "output_type": "execute_result"
    }
   ],
   "source": [
    "target_rate = df.target.mean()\n",
    "target_rate"
   ]
  },
  {
   "cell_type": "code",
   "execution_count": 67,
   "id": "df897199",
   "metadata": {},
   "outputs": [],
   "source": [
    "df_group = df.groupby('type').target.agg(['mean', 'count'])\n",
    "df_group['diff'] = df_group['mean'] - target_rate\n",
    "df_group['risk'] = df_group['mean'] / target_rate"
   ]
  },
  {
   "cell_type": "code",
   "execution_count": 68,
   "id": "7fbb4d21",
   "metadata": {},
   "outputs": [
    {
     "data": {
      "text/html": [
       "<div>\n",
       "<style scoped>\n",
       "    .dataframe tbody tr th:only-of-type {\n",
       "        vertical-align: middle;\n",
       "    }\n",
       "\n",
       "    .dataframe tbody tr th {\n",
       "        vertical-align: top;\n",
       "    }\n",
       "\n",
       "    .dataframe thead th {\n",
       "        text-align: right;\n",
       "    }\n",
       "</style>\n",
       "<table border=\"1\" class=\"dataframe\">\n",
       "  <thead>\n",
       "    <tr style=\"text-align: right;\">\n",
       "      <th></th>\n",
       "      <th>mean</th>\n",
       "      <th>count</th>\n",
       "      <th>diff</th>\n",
       "      <th>risk</th>\n",
       "    </tr>\n",
       "    <tr>\n",
       "      <th>type</th>\n",
       "      <th></th>\n",
       "      <th></th>\n",
       "      <th></th>\n",
       "      <th></th>\n",
       "    </tr>\n",
       "  </thead>\n",
       "  <tbody>\n",
       "    <tr>\n",
       "      <th>H</th>\n",
       "      <td>0.023928</td>\n",
       "      <td>1003</td>\n",
       "      <td>-0.010872</td>\n",
       "      <td>0.687592</td>\n",
       "    </tr>\n",
       "    <tr>\n",
       "      <th>L</th>\n",
       "      <td>0.040500</td>\n",
       "      <td>6000</td>\n",
       "      <td>0.005700</td>\n",
       "      <td>1.163793</td>\n",
       "    </tr>\n",
       "    <tr>\n",
       "      <th>M</th>\n",
       "      <td>0.027027</td>\n",
       "      <td>2997</td>\n",
       "      <td>-0.007773</td>\n",
       "      <td>0.776639</td>\n",
       "    </tr>\n",
       "  </tbody>\n",
       "</table>\n",
       "</div>"
      ],
      "text/plain": [
       "          mean  count      diff      risk\n",
       "type                                     \n",
       "H     0.023928   1003 -0.010872  0.687592\n",
       "L     0.040500   6000  0.005700  1.163793\n",
       "M     0.027027   2997 -0.007773  0.776639"
      ]
     },
     "execution_count": 68,
     "metadata": {},
     "output_type": "execute_result"
    }
   ],
   "source": [
    "df_group"
   ]
  },
  {
   "cell_type": "markdown",
   "id": "c9678860",
   "metadata": {},
   "source": [
    "#### Feature importance: Mutual information"
   ]
  },
  {
   "cell_type": "code",
   "execution_count": 70,
   "id": "c76afa2a",
   "metadata": {},
   "outputs": [
    {
     "data": {
      "text/plain": [
       "0.0007650673690752733"
      ]
     },
     "execution_count": 70,
     "metadata": {},
     "output_type": "execute_result"
    }
   ],
   "source": [
    "mutual_info_score(df.target, df.type)"
   ]
  },
  {
   "cell_type": "markdown",
   "id": "2a62537e",
   "metadata": {},
   "source": [
    "- There is a very low mutual impotance of target and type columns"
   ]
  },
  {
   "cell_type": "markdown",
   "id": "6a54e520",
   "metadata": {},
   "source": [
    "#### Correlations"
   ]
  },
  {
   "cell_type": "code",
   "execution_count": 72,
   "id": "bec82f2c",
   "metadata": {},
   "outputs": [
    {
     "data": {
      "text/html": [
       "<div>\n",
       "<style scoped>\n",
       "    .dataframe tbody tr th:only-of-type {\n",
       "        vertical-align: middle;\n",
       "    }\n",
       "\n",
       "    .dataframe tbody tr th {\n",
       "        vertical-align: top;\n",
       "    }\n",
       "\n",
       "    .dataframe thead th {\n",
       "        text-align: right;\n",
       "    }\n",
       "</style>\n",
       "<table border=\"1\" class=\"dataframe\">\n",
       "  <thead>\n",
       "    <tr style=\"text-align: right;\">\n",
       "      <th></th>\n",
       "      <th>udi</th>\n",
       "      <th>product_id</th>\n",
       "      <th>type</th>\n",
       "      <th>air_temperature</th>\n",
       "      <th>process_temperature</th>\n",
       "      <th>rotational_speed</th>\n",
       "      <th>torque</th>\n",
       "      <th>tool_wear</th>\n",
       "      <th>machine_failure</th>\n",
       "      <th>twf</th>\n",
       "      <th>hdf</th>\n",
       "      <th>pwf</th>\n",
       "      <th>osf</th>\n",
       "      <th>rnf</th>\n",
       "      <th>target</th>\n",
       "    </tr>\n",
       "  </thead>\n",
       "  <tbody>\n",
       "    <tr>\n",
       "      <th>0</th>\n",
       "      <td>1</td>\n",
       "      <td>M14860</td>\n",
       "      <td>M</td>\n",
       "      <td>298.1</td>\n",
       "      <td>308.6</td>\n",
       "      <td>1551</td>\n",
       "      <td>42.8</td>\n",
       "      <td>0</td>\n",
       "      <td>0</td>\n",
       "      <td>0</td>\n",
       "      <td>0</td>\n",
       "      <td>0</td>\n",
       "      <td>0</td>\n",
       "      <td>0</td>\n",
       "      <td>0</td>\n",
       "    </tr>\n",
       "  </tbody>\n",
       "</table>\n",
       "</div>"
      ],
      "text/plain": [
       "   udi product_id type  air_temperature  process_temperature  \\\n",
       "0    1     M14860    M            298.1                308.6   \n",
       "\n",
       "   rotational_speed  torque  tool_wear  machine_failure  twf  hdf  pwf  osf  \\\n",
       "0              1551    42.8          0                0    0    0    0    0   \n",
       "\n",
       "   rnf  target  \n",
       "0    0       0  "
      ]
     },
     "execution_count": 72,
     "metadata": {},
     "output_type": "execute_result"
    }
   ],
   "source": [
    "df.head(1)"
   ]
  },
  {
   "cell_type": "code",
   "execution_count": 75,
   "id": "8b3ecbca",
   "metadata": {},
   "outputs": [],
   "source": [
    "numerical = ['air_temperature', 'process_temperature', 'rotational_speed', 'torque', 'tool_wear']"
   ]
  },
  {
   "cell_type": "code",
   "execution_count": 76,
   "id": "c6c3bad2",
   "metadata": {},
   "outputs": [
    {
     "data": {
      "text/plain": [
       "torque                 0.19\n",
       "tool_wear              0.11\n",
       "air_temperature        0.08\n",
       "process_temperature    0.04\n",
       "rotational_speed      -0.05\n",
       "dtype: float64"
      ]
     },
     "execution_count": 76,
     "metadata": {},
     "output_type": "execute_result"
    }
   ],
   "source": [
    "df[numerical].corrwith(df.target).round(2).sort_values(ascending=False)"
   ]
  },
  {
   "cell_type": "code",
   "execution_count": 77,
   "id": "1fae9dd7",
   "metadata": {},
   "outputs": [
    {
     "data": {
      "text/plain": [
       "tool_wear              0.12\n",
       "air_temperature        0.01\n",
       "process_temperature    0.01\n",
       "rotational_speed       0.01\n",
       "torque                -0.01\n",
       "dtype: float64"
      ]
     },
     "execution_count": 77,
     "metadata": {},
     "output_type": "execute_result"
    }
   ],
   "source": [
    "df[numerical].corrwith(df.twf).round(2).sort_values(ascending=False)"
   ]
  },
  {
   "cell_type": "code",
   "execution_count": 78,
   "id": "f57e4cf4",
   "metadata": {},
   "outputs": [
    {
     "data": {
      "text/plain": [
       "air_temperature        0.14\n",
       "torque                 0.14\n",
       "process_temperature    0.06\n",
       "tool_wear             -0.00\n",
       "rotational_speed      -0.12\n",
       "dtype: float64"
      ]
     },
     "execution_count": 78,
     "metadata": {},
     "output_type": "execute_result"
    }
   ],
   "source": [
    "df[numerical].corrwith(df.hdf).round(2).sort_values(ascending=False)"
   ]
  },
  {
   "cell_type": "code",
   "execution_count": 79,
   "id": "6890b9ee",
   "metadata": {},
   "outputs": [
    {
     "data": {
      "text/plain": [
       "rotational_speed       0.12\n",
       "torque                 0.08\n",
       "air_temperature        0.00\n",
       "process_temperature   -0.00\n",
       "tool_wear             -0.01\n",
       "dtype: float64"
      ]
     },
     "execution_count": 79,
     "metadata": {},
     "output_type": "execute_result"
    }
   ],
   "source": [
    "df[numerical].corrwith(df.pwf).round(2).sort_values(ascending=False)"
   ]
  },
  {
   "cell_type": "code",
   "execution_count": 80,
   "id": "ffed034a",
   "metadata": {},
   "outputs": [
    {
     "data": {
      "text/plain": [
       "torque                 0.18\n",
       "tool_wear              0.16\n",
       "air_temperature        0.00\n",
       "process_temperature    0.00\n",
       "rotational_speed      -0.10\n",
       "dtype: float64"
      ]
     },
     "execution_count": 80,
     "metadata": {},
     "output_type": "execute_result"
    }
   ],
   "source": [
    "df[numerical].corrwith(df.osf).round(2).sort_values(ascending=False)"
   ]
  },
  {
   "cell_type": "code",
   "execution_count": 81,
   "id": "aaddfa43",
   "metadata": {},
   "outputs": [
    {
     "data": {
      "text/plain": [
       "air_temperature        0.02\n",
       "process_temperature    0.02\n",
       "torque                 0.02\n",
       "tool_wear              0.01\n",
       "rotational_speed      -0.01\n",
       "dtype: float64"
      ]
     },
     "execution_count": 81,
     "metadata": {},
     "output_type": "execute_result"
    }
   ],
   "source": [
    "df[numerical].corrwith(df.rnf).round(2).sort_values(ascending=False)"
   ]
  },
  {
   "cell_type": "code",
   "execution_count": 82,
   "id": "38f03a49",
   "metadata": {
    "scrolled": true
   },
   "outputs": [
    {
     "data": {
      "text/html": [
       "<div>\n",
       "<style scoped>\n",
       "    .dataframe tbody tr th:only-of-type {\n",
       "        vertical-align: middle;\n",
       "    }\n",
       "\n",
       "    .dataframe tbody tr th {\n",
       "        vertical-align: top;\n",
       "    }\n",
       "\n",
       "    .dataframe thead th {\n",
       "        text-align: right;\n",
       "    }\n",
       "</style>\n",
       "<table border=\"1\" class=\"dataframe\">\n",
       "  <thead>\n",
       "    <tr style=\"text-align: right;\">\n",
       "      <th></th>\n",
       "      <th>udi</th>\n",
       "      <th>air_temperature</th>\n",
       "      <th>process_temperature</th>\n",
       "      <th>rotational_speed</th>\n",
       "      <th>torque</th>\n",
       "      <th>tool_wear</th>\n",
       "      <th>machine_failure</th>\n",
       "      <th>twf</th>\n",
       "      <th>hdf</th>\n",
       "      <th>pwf</th>\n",
       "      <th>osf</th>\n",
       "      <th>rnf</th>\n",
       "      <th>target</th>\n",
       "    </tr>\n",
       "  </thead>\n",
       "  <tbody>\n",
       "    <tr>\n",
       "      <th>udi</th>\n",
       "      <td>1.000000</td>\n",
       "      <td>0.117428</td>\n",
       "      <td>0.324428</td>\n",
       "      <td>-0.006615</td>\n",
       "      <td>0.003207</td>\n",
       "      <td>-0.010702</td>\n",
       "      <td>-0.022892</td>\n",
       "      <td>0.009154</td>\n",
       "      <td>-0.022215</td>\n",
       "      <td>-0.023557</td>\n",
       "      <td>-0.000990</td>\n",
       "      <td>-0.005954</td>\n",
       "      <td>-0.024398</td>\n",
       "    </tr>\n",
       "    <tr>\n",
       "      <th>air_temperature</th>\n",
       "      <td>0.117428</td>\n",
       "      <td>1.000000</td>\n",
       "      <td>0.876107</td>\n",
       "      <td>0.022670</td>\n",
       "      <td>-0.013778</td>\n",
       "      <td>0.013853</td>\n",
       "      <td>0.082556</td>\n",
       "      <td>0.009955</td>\n",
       "      <td>0.137831</td>\n",
       "      <td>0.003470</td>\n",
       "      <td>0.001988</td>\n",
       "      <td>0.017688</td>\n",
       "      <td>0.084453</td>\n",
       "    </tr>\n",
       "    <tr>\n",
       "      <th>process_temperature</th>\n",
       "      <td>0.324428</td>\n",
       "      <td>0.876107</td>\n",
       "      <td>1.000000</td>\n",
       "      <td>0.019277</td>\n",
       "      <td>-0.014061</td>\n",
       "      <td>0.013488</td>\n",
       "      <td>0.035946</td>\n",
       "      <td>0.007315</td>\n",
       "      <td>0.056933</td>\n",
       "      <td>-0.003355</td>\n",
       "      <td>0.004554</td>\n",
       "      <td>0.022279</td>\n",
       "      <td>0.039816</td>\n",
       "    </tr>\n",
       "    <tr>\n",
       "      <th>rotational_speed</th>\n",
       "      <td>-0.006615</td>\n",
       "      <td>0.022670</td>\n",
       "      <td>0.019277</td>\n",
       "      <td>1.000000</td>\n",
       "      <td>-0.875027</td>\n",
       "      <td>0.000223</td>\n",
       "      <td>-0.044188</td>\n",
       "      <td>0.010389</td>\n",
       "      <td>-0.121241</td>\n",
       "      <td>0.123018</td>\n",
       "      <td>-0.104575</td>\n",
       "      <td>-0.013088</td>\n",
       "      <td>-0.045483</td>\n",
       "    </tr>\n",
       "    <tr>\n",
       "      <th>torque</th>\n",
       "      <td>0.003207</td>\n",
       "      <td>-0.013778</td>\n",
       "      <td>-0.014061</td>\n",
       "      <td>-0.875027</td>\n",
       "      <td>1.000000</td>\n",
       "      <td>-0.003093</td>\n",
       "      <td>0.191321</td>\n",
       "      <td>-0.014662</td>\n",
       "      <td>0.142610</td>\n",
       "      <td>0.083781</td>\n",
       "      <td>0.183465</td>\n",
       "      <td>0.016136</td>\n",
       "      <td>0.191563</td>\n",
       "    </tr>\n",
       "    <tr>\n",
       "      <th>tool_wear</th>\n",
       "      <td>-0.010702</td>\n",
       "      <td>0.013853</td>\n",
       "      <td>0.013488</td>\n",
       "      <td>0.000223</td>\n",
       "      <td>-0.003093</td>\n",
       "      <td>1.000000</td>\n",
       "      <td>0.105448</td>\n",
       "      <td>0.115792</td>\n",
       "      <td>-0.001287</td>\n",
       "      <td>-0.009334</td>\n",
       "      <td>0.155894</td>\n",
       "      <td>0.011326</td>\n",
       "      <td>0.105251</td>\n",
       "    </tr>\n",
       "    <tr>\n",
       "      <th>machine_failure</th>\n",
       "      <td>-0.022892</td>\n",
       "      <td>0.082556</td>\n",
       "      <td>0.035946</td>\n",
       "      <td>-0.044188</td>\n",
       "      <td>0.191321</td>\n",
       "      <td>0.105448</td>\n",
       "      <td>1.000000</td>\n",
       "      <td>0.362904</td>\n",
       "      <td>0.575800</td>\n",
       "      <td>0.522812</td>\n",
       "      <td>0.531083</td>\n",
       "      <td>0.004516</td>\n",
       "      <td>0.959389</td>\n",
       "    </tr>\n",
       "    <tr>\n",
       "      <th>twf</th>\n",
       "      <td>0.009154</td>\n",
       "      <td>0.009955</td>\n",
       "      <td>0.007315</td>\n",
       "      <td>0.010389</td>\n",
       "      <td>-0.014662</td>\n",
       "      <td>0.115792</td>\n",
       "      <td>0.362904</td>\n",
       "      <td>1.000000</td>\n",
       "      <td>-0.007332</td>\n",
       "      <td>0.008577</td>\n",
       "      <td>0.038243</td>\n",
       "      <td>0.030970</td>\n",
       "      <td>0.358013</td>\n",
       "    </tr>\n",
       "    <tr>\n",
       "      <th>hdf</th>\n",
       "      <td>-0.022215</td>\n",
       "      <td>0.137831</td>\n",
       "      <td>0.056933</td>\n",
       "      <td>-0.121241</td>\n",
       "      <td>0.142610</td>\n",
       "      <td>-0.001287</td>\n",
       "      <td>0.575800</td>\n",
       "      <td>-0.007332</td>\n",
       "      <td>1.000000</td>\n",
       "      <td>0.018443</td>\n",
       "      <td>0.046396</td>\n",
       "      <td>-0.004706</td>\n",
       "      <td>0.568041</td>\n",
       "    </tr>\n",
       "    <tr>\n",
       "      <th>pwf</th>\n",
       "      <td>-0.023557</td>\n",
       "      <td>0.003470</td>\n",
       "      <td>-0.003355</td>\n",
       "      <td>0.123018</td>\n",
       "      <td>0.083781</td>\n",
       "      <td>-0.009334</td>\n",
       "      <td>0.522812</td>\n",
       "      <td>0.008577</td>\n",
       "      <td>0.018443</td>\n",
       "      <td>1.000000</td>\n",
       "      <td>0.115836</td>\n",
       "      <td>-0.004273</td>\n",
       "      <td>0.515767</td>\n",
       "    </tr>\n",
       "    <tr>\n",
       "      <th>osf</th>\n",
       "      <td>-0.000990</td>\n",
       "      <td>0.001988</td>\n",
       "      <td>0.004554</td>\n",
       "      <td>-0.104575</td>\n",
       "      <td>0.183465</td>\n",
       "      <td>0.155894</td>\n",
       "      <td>0.531083</td>\n",
       "      <td>0.038243</td>\n",
       "      <td>0.046396</td>\n",
       "      <td>0.115836</td>\n",
       "      <td>1.000000</td>\n",
       "      <td>-0.004341</td>\n",
       "      <td>0.523927</td>\n",
       "    </tr>\n",
       "    <tr>\n",
       "      <th>rnf</th>\n",
       "      <td>-0.005954</td>\n",
       "      <td>0.017688</td>\n",
       "      <td>0.022279</td>\n",
       "      <td>-0.013088</td>\n",
       "      <td>0.016136</td>\n",
       "      <td>0.011326</td>\n",
       "      <td>0.004516</td>\n",
       "      <td>0.030970</td>\n",
       "      <td>-0.004706</td>\n",
       "      <td>-0.004273</td>\n",
       "      <td>-0.004341</td>\n",
       "      <td>1.000000</td>\n",
       "      <td>0.229778</td>\n",
       "    </tr>\n",
       "    <tr>\n",
       "      <th>target</th>\n",
       "      <td>-0.024398</td>\n",
       "      <td>0.084453</td>\n",
       "      <td>0.039816</td>\n",
       "      <td>-0.045483</td>\n",
       "      <td>0.191563</td>\n",
       "      <td>0.105251</td>\n",
       "      <td>0.959389</td>\n",
       "      <td>0.358013</td>\n",
       "      <td>0.568041</td>\n",
       "      <td>0.515767</td>\n",
       "      <td>0.523927</td>\n",
       "      <td>0.229778</td>\n",
       "      <td>1.000000</td>\n",
       "    </tr>\n",
       "  </tbody>\n",
       "</table>\n",
       "</div>"
      ],
      "text/plain": [
       "                          udi  air_temperature  process_temperature  \\\n",
       "udi                  1.000000         0.117428             0.324428   \n",
       "air_temperature      0.117428         1.000000             0.876107   \n",
       "process_temperature  0.324428         0.876107             1.000000   \n",
       "rotational_speed    -0.006615         0.022670             0.019277   \n",
       "torque               0.003207        -0.013778            -0.014061   \n",
       "tool_wear           -0.010702         0.013853             0.013488   \n",
       "machine_failure     -0.022892         0.082556             0.035946   \n",
       "twf                  0.009154         0.009955             0.007315   \n",
       "hdf                 -0.022215         0.137831             0.056933   \n",
       "pwf                 -0.023557         0.003470            -0.003355   \n",
       "osf                 -0.000990         0.001988             0.004554   \n",
       "rnf                 -0.005954         0.017688             0.022279   \n",
       "target              -0.024398         0.084453             0.039816   \n",
       "\n",
       "                     rotational_speed    torque  tool_wear  machine_failure  \\\n",
       "udi                         -0.006615  0.003207  -0.010702        -0.022892   \n",
       "air_temperature              0.022670 -0.013778   0.013853         0.082556   \n",
       "process_temperature          0.019277 -0.014061   0.013488         0.035946   \n",
       "rotational_speed             1.000000 -0.875027   0.000223        -0.044188   \n",
       "torque                      -0.875027  1.000000  -0.003093         0.191321   \n",
       "tool_wear                    0.000223 -0.003093   1.000000         0.105448   \n",
       "machine_failure             -0.044188  0.191321   0.105448         1.000000   \n",
       "twf                          0.010389 -0.014662   0.115792         0.362904   \n",
       "hdf                         -0.121241  0.142610  -0.001287         0.575800   \n",
       "pwf                          0.123018  0.083781  -0.009334         0.522812   \n",
       "osf                         -0.104575  0.183465   0.155894         0.531083   \n",
       "rnf                         -0.013088  0.016136   0.011326         0.004516   \n",
       "target                      -0.045483  0.191563   0.105251         0.959389   \n",
       "\n",
       "                          twf       hdf       pwf       osf       rnf  \\\n",
       "udi                  0.009154 -0.022215 -0.023557 -0.000990 -0.005954   \n",
       "air_temperature      0.009955  0.137831  0.003470  0.001988  0.017688   \n",
       "process_temperature  0.007315  0.056933 -0.003355  0.004554  0.022279   \n",
       "rotational_speed     0.010389 -0.121241  0.123018 -0.104575 -0.013088   \n",
       "torque              -0.014662  0.142610  0.083781  0.183465  0.016136   \n",
       "tool_wear            0.115792 -0.001287 -0.009334  0.155894  0.011326   \n",
       "machine_failure      0.362904  0.575800  0.522812  0.531083  0.004516   \n",
       "twf                  1.000000 -0.007332  0.008577  0.038243  0.030970   \n",
       "hdf                 -0.007332  1.000000  0.018443  0.046396 -0.004706   \n",
       "pwf                  0.008577  0.018443  1.000000  0.115836 -0.004273   \n",
       "osf                  0.038243  0.046396  0.115836  1.000000 -0.004341   \n",
       "rnf                  0.030970 -0.004706 -0.004273 -0.004341  1.000000   \n",
       "target               0.358013  0.568041  0.515767  0.523927  0.229778   \n",
       "\n",
       "                       target  \n",
       "udi                 -0.024398  \n",
       "air_temperature      0.084453  \n",
       "process_temperature  0.039816  \n",
       "rotational_speed    -0.045483  \n",
       "torque               0.191563  \n",
       "tool_wear            0.105251  \n",
       "machine_failure      0.959389  \n",
       "twf                  0.358013  \n",
       "hdf                  0.568041  \n",
       "pwf                  0.515767  \n",
       "osf                  0.523927  \n",
       "rnf                  0.229778  \n",
       "target               1.000000  "
      ]
     },
     "execution_count": 82,
     "metadata": {},
     "output_type": "execute_result"
    }
   ],
   "source": [
    "df.corr()"
   ]
  },
  {
   "cell_type": "code",
   "execution_count": 83,
   "id": "a66e492d",
   "metadata": {},
   "outputs": [
    {
     "data": {
      "text/plain": [
       "<AxesSubplot:>"
      ]
     },
     "execution_count": 83,
     "metadata": {},
     "output_type": "execute_result"
    },
    {
     "data": {
      "image/png": "[encoded data removed]",
      "text/plain": [
       "<Figure size 432x288 with 2 Axes>"
      ]
     },
     "metadata": {
      "needs_background": "light"
     },
     "output_type": "display_data"
    }
   ],
   "source": [
    "sns.heatmap(df.corr(), annot=True, fmt=\".1f\")"
   ]
  },
  {
   "cell_type": "code",
   "execution_count": 84,
   "id": "45476df2",
   "metadata": {},
   "outputs": [],
   "source": [
    "all_targets = ['twf', 'hdf', 'pwf', 'osf', 'rnf', 'target']"
   ]
  },
  {
   "cell_type": "code",
   "execution_count": 85,
   "id": "3c37ea90",
   "metadata": {},
   "outputs": [
    {
     "name": "stdout",
     "output_type": "stream",
     "text": [
      "twf\n",
      "46\n",
      "0.0046\n",
      "---\n",
      "hdf\n",
      "115\n",
      "0.0115\n",
      "---\n",
      "pwf\n",
      "95\n",
      "0.0095\n",
      "---\n",
      "osf\n",
      "98\n",
      "0.0098\n",
      "---\n",
      "rnf\n",
      "19\n",
      "0.0019\n",
      "---\n",
      "target\n",
      "348\n",
      "0.0348\n",
      "---\n"
     ]
    }
   ],
   "source": [
    "for i in all_targets:\n",
    "    print(i)\n",
    "    print(df[i].sum())\n",
    "    print(df[i].mean())\n",
    "    print('---')"
   ]
  },
  {
   "cell_type": "code",
   "execution_count": 86,
   "id": "b537f433",
   "metadata": {},
   "outputs": [
    {
     "data": {
      "text/html": [
       "<div>\n",
       "<style scoped>\n",
       "    .dataframe tbody tr th:only-of-type {\n",
       "        vertical-align: middle;\n",
       "    }\n",
       "\n",
       "    .dataframe tbody tr th {\n",
       "        vertical-align: top;\n",
       "    }\n",
       "\n",
       "    .dataframe thead th {\n",
       "        text-align: right;\n",
       "    }\n",
       "</style>\n",
       "<table border=\"1\" class=\"dataframe\">\n",
       "  <thead>\n",
       "    <tr style=\"text-align: right;\">\n",
       "      <th></th>\n",
       "      <th>udi</th>\n",
       "      <th>product_id</th>\n",
       "      <th>type</th>\n",
       "      <th>air_temperature</th>\n",
       "      <th>process_temperature</th>\n",
       "      <th>rotational_speed</th>\n",
       "      <th>torque</th>\n",
       "      <th>tool_wear</th>\n",
       "      <th>machine_failure</th>\n",
       "      <th>twf</th>\n",
       "      <th>hdf</th>\n",
       "      <th>pwf</th>\n",
       "      <th>osf</th>\n",
       "      <th>rnf</th>\n",
       "      <th>target</th>\n",
       "    </tr>\n",
       "  </thead>\n",
       "  <tbody>\n",
       "    <tr>\n",
       "      <th>0</th>\n",
       "      <td>1</td>\n",
       "      <td>M14860</td>\n",
       "      <td>M</td>\n",
       "      <td>298.1</td>\n",
       "      <td>308.6</td>\n",
       "      <td>1551</td>\n",
       "      <td>42.8</td>\n",
       "      <td>0</td>\n",
       "      <td>0</td>\n",
       "      <td>0</td>\n",
       "      <td>0</td>\n",
       "      <td>0</td>\n",
       "      <td>0</td>\n",
       "      <td>0</td>\n",
       "      <td>0</td>\n",
       "    </tr>\n",
       "    <tr>\n",
       "      <th>1</th>\n",
       "      <td>2</td>\n",
       "      <td>L47181</td>\n",
       "      <td>L</td>\n",
       "      <td>298.2</td>\n",
       "      <td>308.7</td>\n",
       "      <td>1408</td>\n",
       "      <td>46.3</td>\n",
       "      <td>3</td>\n",
       "      <td>0</td>\n",
       "      <td>0</td>\n",
       "      <td>0</td>\n",
       "      <td>0</td>\n",
       "      <td>0</td>\n",
       "      <td>0</td>\n",
       "      <td>0</td>\n",
       "    </tr>\n",
       "    <tr>\n",
       "      <th>2</th>\n",
       "      <td>3</td>\n",
       "      <td>L47182</td>\n",
       "      <td>L</td>\n",
       "      <td>298.1</td>\n",
       "      <td>308.5</td>\n",
       "      <td>1498</td>\n",
       "      <td>49.4</td>\n",
       "      <td>5</td>\n",
       "      <td>0</td>\n",
       "      <td>0</td>\n",
       "      <td>0</td>\n",
       "      <td>0</td>\n",
       "      <td>0</td>\n",
       "      <td>0</td>\n",
       "      <td>0</td>\n",
       "    </tr>\n",
       "    <tr>\n",
       "      <th>3</th>\n",
       "      <td>4</td>\n",
       "      <td>L47183</td>\n",
       "      <td>L</td>\n",
       "      <td>298.2</td>\n",
       "      <td>308.6</td>\n",
       "      <td>1433</td>\n",
       "      <td>39.5</td>\n",
       "      <td>7</td>\n",
       "      <td>0</td>\n",
       "      <td>0</td>\n",
       "      <td>0</td>\n",
       "      <td>0</td>\n",
       "      <td>0</td>\n",
       "      <td>0</td>\n",
       "      <td>0</td>\n",
       "    </tr>\n",
       "    <tr>\n",
       "      <th>4</th>\n",
       "      <td>5</td>\n",
       "      <td>L47184</td>\n",
       "      <td>L</td>\n",
       "      <td>298.2</td>\n",
       "      <td>308.7</td>\n",
       "      <td>1408</td>\n",
       "      <td>40.0</td>\n",
       "      <td>9</td>\n",
       "      <td>0</td>\n",
       "      <td>0</td>\n",
       "      <td>0</td>\n",
       "      <td>0</td>\n",
       "      <td>0</td>\n",
       "      <td>0</td>\n",
       "      <td>0</td>\n",
       "    </tr>\n",
       "  </tbody>\n",
       "</table>\n",
       "</div>"
      ],
      "text/plain": [
       "   udi product_id type  air_temperature  process_temperature  \\\n",
       "0    1     M14860    M            298.1                308.6   \n",
       "1    2     L47181    L            298.2                308.7   \n",
       "2    3     L47182    L            298.1                308.5   \n",
       "3    4     L47183    L            298.2                308.6   \n",
       "4    5     L47184    L            298.2                308.7   \n",
       "\n",
       "   rotational_speed  torque  tool_wear  machine_failure  twf  hdf  pwf  osf  \\\n",
       "0              1551    42.8          0                0    0    0    0    0   \n",
       "1              1408    46.3          3                0    0    0    0    0   \n",
       "2              1498    49.4          5                0    0    0    0    0   \n",
       "3              1433    39.5          7                0    0    0    0    0   \n",
       "4              1408    40.0          9                0    0    0    0    0   \n",
       "\n",
       "   rnf  target  \n",
       "0    0       0  \n",
       "1    0       0  \n",
       "2    0       0  \n",
       "3    0       0  \n",
       "4    0       0  "
      ]
     },
     "execution_count": 86,
     "metadata": {},
     "output_type": "execute_result"
    }
   ],
   "source": [
    "df.head()"
   ]
  },
  {
   "cell_type": "code",
   "execution_count": 87,
   "id": "68e43409",
   "metadata": {},
   "outputs": [],
   "source": [
    "del df['udi']\n",
    "del df['product_id']\n",
    "del df['machine_failure']"
   ]
  },
  {
   "cell_type": "markdown",
   "id": "da76d09d",
   "metadata": {},
   "source": [
    "- Delete columns we don't need in df"
   ]
  },
  {
   "cell_type": "code",
   "execution_count": 88,
   "id": "3597aa43",
   "metadata": {},
   "outputs": [
    {
     "data": {
      "text/html": [
       "<div>\n",
       "<style scoped>\n",
       "    .dataframe tbody tr th:only-of-type {\n",
       "        vertical-align: middle;\n",
       "    }\n",
       "\n",
       "    .dataframe tbody tr th {\n",
       "        vertical-align: top;\n",
       "    }\n",
       "\n",
       "    .dataframe thead th {\n",
       "        text-align: right;\n",
       "    }\n",
       "</style>\n",
       "<table border=\"1\" class=\"dataframe\">\n",
       "  <thead>\n",
       "    <tr style=\"text-align: right;\">\n",
       "      <th></th>\n",
       "      <th>type</th>\n",
       "      <th>air_temperature</th>\n",
       "      <th>process_temperature</th>\n",
       "      <th>rotational_speed</th>\n",
       "      <th>torque</th>\n",
       "      <th>tool_wear</th>\n",
       "      <th>twf</th>\n",
       "      <th>hdf</th>\n",
       "      <th>pwf</th>\n",
       "      <th>osf</th>\n",
       "      <th>rnf</th>\n",
       "      <th>target</th>\n",
       "    </tr>\n",
       "  </thead>\n",
       "  <tbody>\n",
       "    <tr>\n",
       "      <th>0</th>\n",
       "      <td>M</td>\n",
       "      <td>298.1</td>\n",
       "      <td>308.6</td>\n",
       "      <td>1551</td>\n",
       "      <td>42.8</td>\n",
       "      <td>0</td>\n",
       "      <td>0</td>\n",
       "      <td>0</td>\n",
       "      <td>0</td>\n",
       "      <td>0</td>\n",
       "      <td>0</td>\n",
       "      <td>0</td>\n",
       "    </tr>\n",
       "    <tr>\n",
       "      <th>1</th>\n",
       "      <td>L</td>\n",
       "      <td>298.2</td>\n",
       "      <td>308.7</td>\n",
       "      <td>1408</td>\n",
       "      <td>46.3</td>\n",
       "      <td>3</td>\n",
       "      <td>0</td>\n",
       "      <td>0</td>\n",
       "      <td>0</td>\n",
       "      <td>0</td>\n",
       "      <td>0</td>\n",
       "      <td>0</td>\n",
       "    </tr>\n",
       "  </tbody>\n",
       "</table>\n",
       "</div>"
      ],
      "text/plain": [
       "  type  air_temperature  process_temperature  rotational_speed  torque  \\\n",
       "0    M            298.1                308.6              1551    42.8   \n",
       "1    L            298.2                308.7              1408    46.3   \n",
       "\n",
       "   tool_wear  twf  hdf  pwf  osf  rnf  target  \n",
       "0          0    0    0    0    0    0       0  \n",
       "1          3    0    0    0    0    0       0  "
      ]
     },
     "execution_count": 88,
     "metadata": {},
     "output_type": "execute_result"
    }
   ],
   "source": [
    "df.head(2)"
   ]
  },
  {
   "cell_type": "markdown",
   "id": "f337868d",
   "metadata": {},
   "source": [
    "### Train, validation, test split"
   ]
  },
  {
   "cell_type": "code",
   "execution_count": 89,
   "id": "32f67435",
   "metadata": {},
   "outputs": [],
   "source": [
    "df_full_train, df_test = train_test_split(df, test_size=0.2, random_state=1)\n",
    "df_train, df_val = train_test_split(df_full_train, test_size=0.25, random_state=1)"
   ]
  },
  {
   "cell_type": "code",
   "execution_count": 90,
   "id": "9c89b503",
   "metadata": {},
   "outputs": [
    {
     "data": {
      "text/plain": [
       "(6000, 2000, 2000)"
      ]
     },
     "execution_count": 90,
     "metadata": {},
     "output_type": "execute_result"
    }
   ],
   "source": [
    "len(df_train), len(df_val), len(df_test)"
   ]
  },
  {
   "cell_type": "code",
   "execution_count": 91,
   "id": "00eb17ce",
   "metadata": {},
   "outputs": [
    {
     "data": {
      "text/html": [
       "<div>\n",
       "<style scoped>\n",
       "    .dataframe tbody tr th:only-of-type {\n",
       "        vertical-align: middle;\n",
       "    }\n",
       "\n",
       "    .dataframe tbody tr th {\n",
       "        vertical-align: top;\n",
       "    }\n",
       "\n",
       "    .dataframe thead th {\n",
       "        text-align: right;\n",
       "    }\n",
       "</style>\n",
       "<table border=\"1\" class=\"dataframe\">\n",
       "  <thead>\n",
       "    <tr style=\"text-align: right;\">\n",
       "      <th></th>\n",
       "      <th>type</th>\n",
       "      <th>air_temperature</th>\n",
       "      <th>process_temperature</th>\n",
       "      <th>rotational_speed</th>\n",
       "      <th>torque</th>\n",
       "      <th>tool_wear</th>\n",
       "      <th>twf</th>\n",
       "      <th>hdf</th>\n",
       "      <th>pwf</th>\n",
       "      <th>osf</th>\n",
       "      <th>rnf</th>\n",
       "      <th>target</th>\n",
       "    </tr>\n",
       "  </thead>\n",
       "  <tbody>\n",
       "    <tr>\n",
       "      <th>4495</th>\n",
       "      <td>L</td>\n",
       "      <td>302.6</td>\n",
       "      <td>310.4</td>\n",
       "      <td>1359</td>\n",
       "      <td>57.2</td>\n",
       "      <td>67</td>\n",
       "      <td>0</td>\n",
       "      <td>1</td>\n",
       "      <td>0</td>\n",
       "      <td>0</td>\n",
       "      <td>0</td>\n",
       "      <td>1</td>\n",
       "    </tr>\n",
       "    <tr>\n",
       "      <th>6470</th>\n",
       "      <td>L</td>\n",
       "      <td>300.4</td>\n",
       "      <td>309.6</td>\n",
       "      <td>1379</td>\n",
       "      <td>54.5</td>\n",
       "      <td>122</td>\n",
       "      <td>0</td>\n",
       "      <td>0</td>\n",
       "      <td>0</td>\n",
       "      <td>0</td>\n",
       "      <td>0</td>\n",
       "      <td>0</td>\n",
       "    </tr>\n",
       "    <tr>\n",
       "      <th>2221</th>\n",
       "      <td>L</td>\n",
       "      <td>299.6</td>\n",
       "      <td>309.0</td>\n",
       "      <td>1372</td>\n",
       "      <td>60.4</td>\n",
       "      <td>149</td>\n",
       "      <td>0</td>\n",
       "      <td>0</td>\n",
       "      <td>0</td>\n",
       "      <td>0</td>\n",
       "      <td>0</td>\n",
       "      <td>0</td>\n",
       "    </tr>\n",
       "    <tr>\n",
       "      <th>7686</th>\n",
       "      <td>M</td>\n",
       "      <td>300.7</td>\n",
       "      <td>311.7</td>\n",
       "      <td>1504</td>\n",
       "      <td>36.9</td>\n",
       "      <td>229</td>\n",
       "      <td>0</td>\n",
       "      <td>0</td>\n",
       "      <td>0</td>\n",
       "      <td>0</td>\n",
       "      <td>0</td>\n",
       "      <td>0</td>\n",
       "    </tr>\n",
       "    <tr>\n",
       "      <th>9419</th>\n",
       "      <td>L</td>\n",
       "      <td>298.0</td>\n",
       "      <td>308.4</td>\n",
       "      <td>1911</td>\n",
       "      <td>22.0</td>\n",
       "      <td>13</td>\n",
       "      <td>0</td>\n",
       "      <td>0</td>\n",
       "      <td>0</td>\n",
       "      <td>0</td>\n",
       "      <td>0</td>\n",
       "      <td>0</td>\n",
       "    </tr>\n",
       "    <tr>\n",
       "      <th>...</th>\n",
       "      <td>...</td>\n",
       "      <td>...</td>\n",
       "      <td>...</td>\n",
       "      <td>...</td>\n",
       "      <td>...</td>\n",
       "      <td>...</td>\n",
       "      <td>...</td>\n",
       "      <td>...</td>\n",
       "      <td>...</td>\n",
       "      <td>...</td>\n",
       "      <td>...</td>\n",
       "      <td>...</td>\n",
       "    </tr>\n",
       "    <tr>\n",
       "      <th>7586</th>\n",
       "      <td>L</td>\n",
       "      <td>300.4</td>\n",
       "      <td>311.1</td>\n",
       "      <td>1589</td>\n",
       "      <td>35.5</td>\n",
       "      <td>191</td>\n",
       "      <td>0</td>\n",
       "      <td>0</td>\n",
       "      <td>0</td>\n",
       "      <td>0</td>\n",
       "      <td>0</td>\n",
       "      <td>0</td>\n",
       "    </tr>\n",
       "    <tr>\n",
       "      <th>8288</th>\n",
       "      <td>M</td>\n",
       "      <td>298.8</td>\n",
       "      <td>310.6</td>\n",
       "      <td>1640</td>\n",
       "      <td>33.8</td>\n",
       "      <td>9</td>\n",
       "      <td>0</td>\n",
       "      <td>0</td>\n",
       "      <td>0</td>\n",
       "      <td>0</td>\n",
       "      <td>0</td>\n",
       "      <td>0</td>\n",
       "    </tr>\n",
       "    <tr>\n",
       "      <th>9718</th>\n",
       "      <td>L</td>\n",
       "      <td>298.9</td>\n",
       "      <td>309.9</td>\n",
       "      <td>1517</td>\n",
       "      <td>36.6</td>\n",
       "      <td>117</td>\n",
       "      <td>0</td>\n",
       "      <td>0</td>\n",
       "      <td>0</td>\n",
       "      <td>0</td>\n",
       "      <td>0</td>\n",
       "      <td>0</td>\n",
       "    </tr>\n",
       "    <tr>\n",
       "      <th>7562</th>\n",
       "      <td>M</td>\n",
       "      <td>300.3</td>\n",
       "      <td>311.1</td>\n",
       "      <td>1350</td>\n",
       "      <td>58.7</td>\n",
       "      <td>130</td>\n",
       "      <td>0</td>\n",
       "      <td>0</td>\n",
       "      <td>0</td>\n",
       "      <td>0</td>\n",
       "      <td>0</td>\n",
       "      <td>0</td>\n",
       "    </tr>\n",
       "    <tr>\n",
       "      <th>7029</th>\n",
       "      <td>L</td>\n",
       "      <td>300.6</td>\n",
       "      <td>310.6</td>\n",
       "      <td>1454</td>\n",
       "      <td>39.7</td>\n",
       "      <td>67</td>\n",
       "      <td>0</td>\n",
       "      <td>0</td>\n",
       "      <td>0</td>\n",
       "      <td>0</td>\n",
       "      <td>0</td>\n",
       "      <td>0</td>\n",
       "    </tr>\n",
       "  </tbody>\n",
       "</table>\n",
       "<p>6000 rows × 12 columns</p>\n",
       "</div>"
      ],
      "text/plain": [
       "     type  air_temperature  process_temperature  rotational_speed  torque  \\\n",
       "4495    L            302.6                310.4              1359    57.2   \n",
       "6470    L            300.4                309.6              1379    54.5   \n",
       "2221    L            299.6                309.0              1372    60.4   \n",
       "7686    M            300.7                311.7              1504    36.9   \n",
       "9419    L            298.0                308.4              1911    22.0   \n",
       "...   ...              ...                  ...               ...     ...   \n",
       "7586    L            300.4                311.1              1589    35.5   \n",
       "8288    M            298.8                310.6              1640    33.8   \n",
       "9718    L            298.9                309.9              1517    36.6   \n",
       "7562    M            300.3                311.1              1350    58.7   \n",
       "7029    L            300.6                310.6              1454    39.7   \n",
       "\n",
       "      tool_wear  twf  hdf  pwf  osf  rnf  target  \n",
       "4495         67    0    1    0    0    0       1  \n",
       "6470        122    0    0    0    0    0       0  \n",
       "2221        149    0    0    0    0    0       0  \n",
       "7686        229    0    0    0    0    0       0  \n",
       "9419         13    0    0    0    0    0       0  \n",
       "...         ...  ...  ...  ...  ...  ...     ...  \n",
       "7586        191    0    0    0    0    0       0  \n",
       "8288          9    0    0    0    0    0       0  \n",
       "9718        117    0    0    0    0    0       0  \n",
       "7562        130    0    0    0    0    0       0  \n",
       "7029         67    0    0    0    0    0       0  \n",
       "\n",
       "[6000 rows x 12 columns]"
      ]
     },
     "execution_count": 91,
     "metadata": {},
     "output_type": "execute_result"
    }
   ],
   "source": [
    "df_train"
   ]
  },
  {
   "cell_type": "code",
   "execution_count": 92,
   "id": "31d527b1",
   "metadata": {},
   "outputs": [],
   "source": [
    "df_train = df_train.reset_index(drop=True)\n",
    "df_val = df_val.reset_index(drop=True)\n",
    "df_test = df_test.reset_index(drop=True)"
   ]
  },
  {
   "cell_type": "code",
   "execution_count": 93,
   "id": "9f4ca855",
   "metadata": {},
   "outputs": [
    {
     "data": {
      "text/html": [
       "<div>\n",
       "<style scoped>\n",
       "    .dataframe tbody tr th:only-of-type {\n",
       "        vertical-align: middle;\n",
       "    }\n",
       "\n",
       "    .dataframe tbody tr th {\n",
       "        vertical-align: top;\n",
       "    }\n",
       "\n",
       "    .dataframe thead th {\n",
       "        text-align: right;\n",
       "    }\n",
       "</style>\n",
       "<table border=\"1\" class=\"dataframe\">\n",
       "  <thead>\n",
       "    <tr style=\"text-align: right;\">\n",
       "      <th></th>\n",
       "      <th>type</th>\n",
       "      <th>air_temperature</th>\n",
       "      <th>process_temperature</th>\n",
       "      <th>rotational_speed</th>\n",
       "      <th>torque</th>\n",
       "      <th>tool_wear</th>\n",
       "      <th>twf</th>\n",
       "      <th>hdf</th>\n",
       "      <th>pwf</th>\n",
       "      <th>osf</th>\n",
       "      <th>rnf</th>\n",
       "      <th>target</th>\n",
       "    </tr>\n",
       "  </thead>\n",
       "  <tbody>\n",
       "    <tr>\n",
       "      <th>0</th>\n",
       "      <td>L</td>\n",
       "      <td>302.6</td>\n",
       "      <td>310.4</td>\n",
       "      <td>1359</td>\n",
       "      <td>57.2</td>\n",
       "      <td>67</td>\n",
       "      <td>0</td>\n",
       "      <td>1</td>\n",
       "      <td>0</td>\n",
       "      <td>0</td>\n",
       "      <td>0</td>\n",
       "      <td>1</td>\n",
       "    </tr>\n",
       "    <tr>\n",
       "      <th>1</th>\n",
       "      <td>L</td>\n",
       "      <td>300.4</td>\n",
       "      <td>309.6</td>\n",
       "      <td>1379</td>\n",
       "      <td>54.5</td>\n",
       "      <td>122</td>\n",
       "      <td>0</td>\n",
       "      <td>0</td>\n",
       "      <td>0</td>\n",
       "      <td>0</td>\n",
       "      <td>0</td>\n",
       "      <td>0</td>\n",
       "    </tr>\n",
       "    <tr>\n",
       "      <th>2</th>\n",
       "      <td>L</td>\n",
       "      <td>299.6</td>\n",
       "      <td>309.0</td>\n",
       "      <td>1372</td>\n",
       "      <td>60.4</td>\n",
       "      <td>149</td>\n",
       "      <td>0</td>\n",
       "      <td>0</td>\n",
       "      <td>0</td>\n",
       "      <td>0</td>\n",
       "      <td>0</td>\n",
       "      <td>0</td>\n",
       "    </tr>\n",
       "    <tr>\n",
       "      <th>3</th>\n",
       "      <td>M</td>\n",
       "      <td>300.7</td>\n",
       "      <td>311.7</td>\n",
       "      <td>1504</td>\n",
       "      <td>36.9</td>\n",
       "      <td>229</td>\n",
       "      <td>0</td>\n",
       "      <td>0</td>\n",
       "      <td>0</td>\n",
       "      <td>0</td>\n",
       "      <td>0</td>\n",
       "      <td>0</td>\n",
       "    </tr>\n",
       "    <tr>\n",
       "      <th>4</th>\n",
       "      <td>L</td>\n",
       "      <td>298.0</td>\n",
       "      <td>308.4</td>\n",
       "      <td>1911</td>\n",
       "      <td>22.0</td>\n",
       "      <td>13</td>\n",
       "      <td>0</td>\n",
       "      <td>0</td>\n",
       "      <td>0</td>\n",
       "      <td>0</td>\n",
       "      <td>0</td>\n",
       "      <td>0</td>\n",
       "    </tr>\n",
       "    <tr>\n",
       "      <th>...</th>\n",
       "      <td>...</td>\n",
       "      <td>...</td>\n",
       "      <td>...</td>\n",
       "      <td>...</td>\n",
       "      <td>...</td>\n",
       "      <td>...</td>\n",
       "      <td>...</td>\n",
       "      <td>...</td>\n",
       "      <td>...</td>\n",
       "      <td>...</td>\n",
       "      <td>...</td>\n",
       "      <td>...</td>\n",
       "    </tr>\n",
       "    <tr>\n",
       "      <th>5995</th>\n",
       "      <td>L</td>\n",
       "      <td>300.4</td>\n",
       "      <td>311.1</td>\n",
       "      <td>1589</td>\n",
       "      <td>35.5</td>\n",
       "      <td>191</td>\n",
       "      <td>0</td>\n",
       "      <td>0</td>\n",
       "      <td>0</td>\n",
       "      <td>0</td>\n",
       "      <td>0</td>\n",
       "      <td>0</td>\n",
       "    </tr>\n",
       "    <tr>\n",
       "      <th>5996</th>\n",
       "      <td>M</td>\n",
       "      <td>298.8</td>\n",
       "      <td>310.6</td>\n",
       "      <td>1640</td>\n",
       "      <td>33.8</td>\n",
       "      <td>9</td>\n",
       "      <td>0</td>\n",
       "      <td>0</td>\n",
       "      <td>0</td>\n",
       "      <td>0</td>\n",
       "      <td>0</td>\n",
       "      <td>0</td>\n",
       "    </tr>\n",
       "    <tr>\n",
       "      <th>5997</th>\n",
       "      <td>L</td>\n",
       "      <td>298.9</td>\n",
       "      <td>309.9</td>\n",
       "      <td>1517</td>\n",
       "      <td>36.6</td>\n",
       "      <td>117</td>\n",
       "      <td>0</td>\n",
       "      <td>0</td>\n",
       "      <td>0</td>\n",
       "      <td>0</td>\n",
       "      <td>0</td>\n",
       "      <td>0</td>\n",
       "    </tr>\n",
       "    <tr>\n",
       "      <th>5998</th>\n",
       "      <td>M</td>\n",
       "      <td>300.3</td>\n",
       "      <td>311.1</td>\n",
       "      <td>1350</td>\n",
       "      <td>58.7</td>\n",
       "      <td>130</td>\n",
       "      <td>0</td>\n",
       "      <td>0</td>\n",
       "      <td>0</td>\n",
       "      <td>0</td>\n",
       "      <td>0</td>\n",
       "      <td>0</td>\n",
       "    </tr>\n",
       "    <tr>\n",
       "      <th>5999</th>\n",
       "      <td>L</td>\n",
       "      <td>300.6</td>\n",
       "      <td>310.6</td>\n",
       "      <td>1454</td>\n",
       "      <td>39.7</td>\n",
       "      <td>67</td>\n",
       "      <td>0</td>\n",
       "      <td>0</td>\n",
       "      <td>0</td>\n",
       "      <td>0</td>\n",
       "      <td>0</td>\n",
       "      <td>0</td>\n",
       "    </tr>\n",
       "  </tbody>\n",
       "</table>\n",
       "<p>6000 rows × 12 columns</p>\n",
       "</div>"
      ],
      "text/plain": [
       "     type  air_temperature  process_temperature  rotational_speed  torque  \\\n",
       "0       L            302.6                310.4              1359    57.2   \n",
       "1       L            300.4                309.6              1379    54.5   \n",
       "2       L            299.6                309.0              1372    60.4   \n",
       "3       M            300.7                311.7              1504    36.9   \n",
       "4       L            298.0                308.4              1911    22.0   \n",
       "...   ...              ...                  ...               ...     ...   \n",
       "5995    L            300.4                311.1              1589    35.5   \n",
       "5996    M            298.8                310.6              1640    33.8   \n",
       "5997    L            298.9                309.9              1517    36.6   \n",
       "5998    M            300.3                311.1              1350    58.7   \n",
       "5999    L            300.6                310.6              1454    39.7   \n",
       "\n",
       "      tool_wear  twf  hdf  pwf  osf  rnf  target  \n",
       "0            67    0    1    0    0    0       1  \n",
       "1           122    0    0    0    0    0       0  \n",
       "2           149    0    0    0    0    0       0  \n",
       "3           229    0    0    0    0    0       0  \n",
       "4            13    0    0    0    0    0       0  \n",
       "...         ...  ...  ...  ...  ...  ...     ...  \n",
       "5995        191    0    0    0    0    0       0  \n",
       "5996          9    0    0    0    0    0       0  \n",
       "5997        117    0    0    0    0    0       0  \n",
       "5998        130    0    0    0    0    0       0  \n",
       "5999         67    0    0    0    0    0       0  \n",
       "\n",
       "[6000 rows x 12 columns]"
      ]
     },
     "execution_count": 93,
     "metadata": {},
     "output_type": "execute_result"
    }
   ],
   "source": [
    "df_train"
   ]
  },
  {
   "cell_type": "code",
   "execution_count": 94,
   "id": "4964ded8",
   "metadata": {},
   "outputs": [],
   "source": [
    "y_train = df_train.target.values\n",
    "y_val = df_val.target.values\n",
    "y_test = df_test.target.values"
   ]
  },
  {
   "cell_type": "code",
   "execution_count": 95,
   "id": "616776ce",
   "metadata": {},
   "outputs": [],
   "source": [
    "y_train_twf = df_train.twf.values\n",
    "y_val_twf = df_val.twf.values\n",
    "y_test_twf = df_test.twf.values"
   ]
  },
  {
   "cell_type": "code",
   "execution_count": 96,
   "id": "810b7d73",
   "metadata": {},
   "outputs": [],
   "source": [
    "y_train_hdf = df_train.hdf.values\n",
    "y_val_hdf = df_val.hdf.values\n",
    "y_test_hdf = df_test.hdf.values"
   ]
  },
  {
   "cell_type": "code",
   "execution_count": 97,
   "id": "2c61c153",
   "metadata": {},
   "outputs": [],
   "source": [
    "y_train_pwf = df_train.pwf.values\n",
    "y_val_pwf = df_val.pwf.values\n",
    "y_test_pwf = df_test.pwf.values"
   ]
  },
  {
   "cell_type": "code",
   "execution_count": 98,
   "id": "52eb1e98",
   "metadata": {},
   "outputs": [],
   "source": [
    "y_train_osf = df_train.osf.values\n",
    "y_val_osf = df_val.osf.values\n",
    "y_test_osf = df_test.osf.values"
   ]
  },
  {
   "cell_type": "code",
   "execution_count": 99,
   "id": "7d145d90",
   "metadata": {},
   "outputs": [],
   "source": [
    "y_train_rnf = df_train.rnf.values\n",
    "y_val_rnf = df_val.rnf.values\n",
    "y_test_rnf = df_test.rnf.values"
   ]
  },
  {
   "cell_type": "code",
   "execution_count": 100,
   "id": "cd2bc2f2",
   "metadata": {},
   "outputs": [],
   "source": [
    "del df_train['target']\n",
    "del df_val['target']\n",
    "del df_test['target']"
   ]
  },
  {
   "cell_type": "code",
   "execution_count": 101,
   "id": "463705a3",
   "metadata": {},
   "outputs": [],
   "source": [
    "del df_train['twf']\n",
    "del df_val['twf']\n",
    "del df_test['twf']\n",
    "\n",
    "del df_train['hdf']\n",
    "del df_val['hdf']\n",
    "del df_test['hdf']\n",
    "\n",
    "del df_train['pwf']\n",
    "del df_val['pwf']\n",
    "del df_test['pwf']\n",
    "\n",
    "del df_train['osf']\n",
    "del df_val['osf']\n",
    "del df_test['osf']\n",
    "\n",
    "del df_train['rnf']\n",
    "del df_val['rnf']\n",
    "del df_test['rnf']"
   ]
  },
  {
   "cell_type": "code",
   "execution_count": 102,
   "id": "cde5e67c",
   "metadata": {},
   "outputs": [
    {
     "data": {
      "text/html": [
       "<div>\n",
       "<style scoped>\n",
       "    .dataframe tbody tr th:only-of-type {\n",
       "        vertical-align: middle;\n",
       "    }\n",
       "\n",
       "    .dataframe tbody tr th {\n",
       "        vertical-align: top;\n",
       "    }\n",
       "\n",
       "    .dataframe thead th {\n",
       "        text-align: right;\n",
       "    }\n",
       "</style>\n",
       "<table border=\"1\" class=\"dataframe\">\n",
       "  <thead>\n",
       "    <tr style=\"text-align: right;\">\n",
       "      <th></th>\n",
       "      <th>type</th>\n",
       "      <th>air_temperature</th>\n",
       "      <th>process_temperature</th>\n",
       "      <th>rotational_speed</th>\n",
       "      <th>torque</th>\n",
       "      <th>tool_wear</th>\n",
       "    </tr>\n",
       "  </thead>\n",
       "  <tbody>\n",
       "    <tr>\n",
       "      <th>0</th>\n",
       "      <td>L</td>\n",
       "      <td>302.6</td>\n",
       "      <td>310.4</td>\n",
       "      <td>1359</td>\n",
       "      <td>57.2</td>\n",
       "      <td>67</td>\n",
       "    </tr>\n",
       "    <tr>\n",
       "      <th>1</th>\n",
       "      <td>L</td>\n",
       "      <td>300.4</td>\n",
       "      <td>309.6</td>\n",
       "      <td>1379</td>\n",
       "      <td>54.5</td>\n",
       "      <td>122</td>\n",
       "    </tr>\n",
       "    <tr>\n",
       "      <th>2</th>\n",
       "      <td>L</td>\n",
       "      <td>299.6</td>\n",
       "      <td>309.0</td>\n",
       "      <td>1372</td>\n",
       "      <td>60.4</td>\n",
       "      <td>149</td>\n",
       "    </tr>\n",
       "  </tbody>\n",
       "</table>\n",
       "</div>"
      ],
      "text/plain": [
       "  type  air_temperature  process_temperature  rotational_speed  torque  \\\n",
       "0    L            302.6                310.4              1359    57.2   \n",
       "1    L            300.4                309.6              1379    54.5   \n",
       "2    L            299.6                309.0              1372    60.4   \n",
       "\n",
       "   tool_wear  \n",
       "0         67  \n",
       "1        122  \n",
       "2        149  "
      ]
     },
     "execution_count": 102,
     "metadata": {},
     "output_type": "execute_result"
    }
   ],
   "source": [
    "df_train.head(3)"
   ]
  },
  {
   "cell_type": "markdown",
   "id": "a6d9b1ee",
   "metadata": {},
   "source": [
    "- In this project the model will be created for predicting the **\"target\" only** (not others)."
   ]
  },
  {
   "cell_type": "markdown",
   "id": "f328bcf5",
   "metadata": {},
   "source": [
    "### One-hot encoding"
   ]
  },
  {
   "cell_type": "code",
   "execution_count": 103,
   "id": "3a09e418",
   "metadata": {},
   "outputs": [],
   "source": [
    "dv = DictVectorizer(sparse=False)\n",
    "\n",
    "train_dict = df_train.to_dict(orient='records')\n",
    "X_train = dv.fit_transform(train_dict)\n",
    "\n",
    "val_dict = df_val.to_dict(orient='records')\n",
    "X_val = dv.transform(val_dict)"
   ]
  },
  {
   "cell_type": "code",
   "execution_count": 104,
   "id": "e8b61eb3",
   "metadata": {},
   "outputs": [
    {
     "data": {
      "text/plain": [
       "array([[3.026e+02, 3.104e+02, 1.359e+03, ..., 0.000e+00, 1.000e+00,\n",
       "        0.000e+00],\n",
       "       [3.004e+02, 3.096e+02, 1.379e+03, ..., 0.000e+00, 1.000e+00,\n",
       "        0.000e+00],\n",
       "       [2.996e+02, 3.090e+02, 1.372e+03, ..., 0.000e+00, 1.000e+00,\n",
       "        0.000e+00],\n",
       "       ...,\n",
       "       [2.989e+02, 3.099e+02, 1.517e+03, ..., 0.000e+00, 1.000e+00,\n",
       "        0.000e+00],\n",
       "       [3.003e+02, 3.111e+02, 1.350e+03, ..., 0.000e+00, 0.000e+00,\n",
       "        1.000e+00],\n",
       "       [3.006e+02, 3.106e+02, 1.454e+03, ..., 0.000e+00, 1.000e+00,\n",
       "        0.000e+00]])"
      ]
     },
     "execution_count": 104,
     "metadata": {},
     "output_type": "execute_result"
    }
   ],
   "source": [
    "X_train"
   ]
  },
  {
   "cell_type": "markdown",
   "id": "5c7a1120",
   "metadata": {},
   "source": [
    "### Training logistic regression"
   ]
  },
  {
   "cell_type": "code",
   "execution_count": 105,
   "id": "e330e50c",
   "metadata": {},
   "outputs": [
    {
     "data": {
      "text/plain": [
       "LogisticRegression(solver='liblinear')"
      ]
     },
     "execution_count": 105,
     "metadata": {},
     "output_type": "execute_result"
    }
   ],
   "source": [
    "model = LogisticRegression(solver='liblinear')\n",
    "model.fit(X_train, y_train)"
   ]
  },
  {
   "cell_type": "code",
   "execution_count": 106,
   "id": "c24571f9",
   "metadata": {},
   "outputs": [
    {
     "data": {
      "text/plain": [
       "-0.013967495067394076"
      ]
     },
     "execution_count": 106,
     "metadata": {},
     "output_type": "execute_result"
    }
   ],
   "source": [
    "model.intercept_[0]"
   ]
  },
  {
   "cell_type": "code",
   "execution_count": 107,
   "id": "df61f2cb",
   "metadata": {},
   "outputs": [
    {
     "data": {
      "text/plain": [
       "array([ 0.796, -0.877,  0.011,  0.012,  0.264, -0.271,  0.311, -0.053])"
      ]
     },
     "execution_count": 107,
     "metadata": {},
     "output_type": "execute_result"
    }
   ],
   "source": [
    "model.coef_[0].round(3)"
   ]
  },
  {
   "cell_type": "code",
   "execution_count": 108,
   "id": "ee03ddf8",
   "metadata": {},
   "outputs": [],
   "source": [
    "y_pred = model.predict(X_val)"
   ]
  },
  {
   "cell_type": "code",
   "execution_count": 109,
   "id": "eb7671a6",
   "metadata": {},
   "outputs": [
    {
     "data": {
      "text/plain": [
       "array([0, 0, 0, ..., 0, 0, 0])"
      ]
     },
     "execution_count": 109,
     "metadata": {},
     "output_type": "execute_result"
    }
   ],
   "source": [
    "y_pred"
   ]
  },
  {
   "cell_type": "code",
   "execution_count": 110,
   "id": "3ee18dbb",
   "metadata": {},
   "outputs": [
    {
     "data": {
      "text/plain": [
       "array([0.00074935, 0.03084307, 0.05349892, ..., 0.00563861, 0.0239297 ,\n",
       "       0.00433648])"
      ]
     },
     "execution_count": 110,
     "metadata": {},
     "output_type": "execute_result"
    }
   ],
   "source": [
    "y_pred = model.predict_proba(X_val)[:, 1]\n",
    "y_pred"
   ]
  },
  {
   "cell_type": "markdown",
   "id": "e38847b9",
   "metadata": {},
   "source": [
    "#### Test the model on the test dataset"
   ]
  },
  {
   "cell_type": "code",
   "execution_count": 131,
   "id": "de023e80",
   "metadata": {},
   "outputs": [],
   "source": [
    "dicts_full_train = df_full_train[categorical + numerical].to_dict(orient='records')"
   ]
  },
  {
   "cell_type": "code",
   "execution_count": 132,
   "id": "26ee624c",
   "metadata": {},
   "outputs": [
    {
     "data": {
      "text/plain": [
       "[{'type': 'M',\n",
       "  'air_temperature': 300.1,\n",
       "  'process_temperature': 309.6,\n",
       "  'rotational_speed': 1625,\n",
       "  'torque': 38.0,\n",
       "  'tool_wear': 46}]"
      ]
     },
     "execution_count": 132,
     "metadata": {},
     "output_type": "execute_result"
    }
   ],
   "source": [
    "dicts_full_train[:1]"
   ]
  },
  {
   "cell_type": "code",
   "execution_count": 133,
   "id": "96803d4d",
   "metadata": {},
   "outputs": [
    {
     "data": {
      "text/plain": [
       "8000"
      ]
     },
     "execution_count": 133,
     "metadata": {},
     "output_type": "execute_result"
    }
   ],
   "source": [
    "len(dicts_full_train)"
   ]
  },
  {
   "cell_type": "code",
   "execution_count": 134,
   "id": "016e6843",
   "metadata": {},
   "outputs": [],
   "source": [
    "dv = DictVectorizer(sparse=False)\n",
    "X_full_train = dv.fit_transform(dicts_full_train)"
   ]
  },
  {
   "cell_type": "code",
   "execution_count": 135,
   "id": "69d7a5a3",
   "metadata": {},
   "outputs": [],
   "source": [
    "y_full_train = df_full_train.target.values"
   ]
  },
  {
   "cell_type": "code",
   "execution_count": 136,
   "id": "95627135",
   "metadata": {},
   "outputs": [
    {
     "data": {
      "text/plain": [
       "0    7719\n",
       "1     281\n",
       "Name: target, dtype: int64"
      ]
     },
     "execution_count": 136,
     "metadata": {},
     "output_type": "execute_result"
    }
   ],
   "source": [
    "df_full_train.target.value_counts()"
   ]
  },
  {
   "cell_type": "code",
   "execution_count": 137,
   "id": "f1037dd2",
   "metadata": {},
   "outputs": [
    {
     "data": {
      "text/plain": [
       "LogisticRegression(solver='liblinear')"
      ]
     },
     "execution_count": 137,
     "metadata": {},
     "output_type": "execute_result"
    }
   ],
   "source": [
    "model.fit(X_full_train, y_full_train)"
   ]
  },
  {
   "cell_type": "code",
   "execution_count": 138,
   "id": "c300c595",
   "metadata": {},
   "outputs": [],
   "source": [
    "dicts_test = df_test[categorical + numerical].to_dict(orient='records')\n",
    "X_test = dv.transform(dicts_test)"
   ]
  },
  {
   "cell_type": "code",
   "execution_count": 139,
   "id": "c2ec29c0",
   "metadata": {},
   "outputs": [
    {
     "data": {
      "text/plain": [
       "array([0.00665555, 0.01783834, 0.19675615, ..., 0.0042186 , 0.01395155,\n",
       "       0.03447484])"
      ]
     },
     "execution_count": 139,
     "metadata": {},
     "output_type": "execute_result"
    }
   ],
   "source": [
    "y_pred = model.predict_proba(X_test)[:, 1]\n",
    "y_pred"
   ]
  },
  {
   "cell_type": "markdown",
   "id": "5fcc09ff",
   "metadata": {},
   "source": [
    "### Evaluation Metrics for Classification\n",
    "Metric - function that compares the predictions with the actual values and outputs a single number that tells how good the predictions are"
   ]
  },
  {
   "cell_type": "code",
   "execution_count": 116,
   "id": "dce03386",
   "metadata": {},
   "outputs": [
    {
     "data": {
      "text/plain": [
       "0.974"
      ]
     },
     "execution_count": 116,
     "metadata": {},
     "output_type": "execute_result"
    }
   ],
   "source": [
    "accuracy_score(y_val, y_pred >= 0.5)"
   ]
  },
  {
   "cell_type": "code",
   "execution_count": 117,
   "id": "3a396b62",
   "metadata": {},
   "outputs": [
    {
     "name": "stdout",
     "output_type": "stream",
     "text": [
      "0.00 0.031\n",
      "0.05 0.862\n",
      "0.10 0.929\n",
      "0.15 0.952\n",
      "0.20 0.962\n",
      "0.25 0.965\n",
      "0.30 0.970\n",
      "0.35 0.970\n",
      "0.40 0.972\n",
      "0.45 0.973\n",
      "0.50 0.974\n",
      "0.55 0.974\n",
      "0.60 0.974\n",
      "0.65 0.973\n",
      "0.70 0.973\n",
      "0.75 0.972\n",
      "0.80 0.971\n",
      "0.85 0.970\n",
      "0.90 0.969\n",
      "0.95 0.969\n",
      "1.00 0.969\n"
     ]
    }
   ],
   "source": [
    "thresholds = np.linspace(0, 1, 21)\n",
    "\n",
    "scores = []\n",
    "\n",
    "for t in thresholds:\n",
    "    score = accuracy_score(y_val, y_pred >= t)\n",
    "    print('%.2f %.3f' % (t, score))\n",
    "    scores.append(score)"
   ]
  },
  {
   "cell_type": "code",
   "execution_count": 118,
   "id": "10efb986",
   "metadata": {
    "scrolled": true
   },
   "outputs": [
    {
     "data": {
      "text/plain": [
       "[<matplotlib.lines.Line2D at 0x1310673d040>]"
      ]
     },
     "execution_count": 118,
     "metadata": {},
     "output_type": "execute_result"
    },
    {
     "data": {
      "image/png": "[encoded data removed]",
      "text/plain": [
       "<Figure size 432x288 with 1 Axes>"
      ]
     },
     "metadata": {
      "needs_background": "light"
     },
     "output_type": "display_data"
    }
   ],
   "source": [
    "plt.plot(thresholds, scores)"
   ]
  },
  {
   "cell_type": "markdown",
   "id": "39f98779",
   "metadata": {},
   "source": [
    "#### Confusion table"
   ]
  },
  {
   "cell_type": "code",
   "execution_count": 141,
   "id": "1952a734",
   "metadata": {},
   "outputs": [],
   "source": [
    "actual_positive = (y_test == 1)\n",
    "actual_negative = (y_test == 0)"
   ]
  },
  {
   "cell_type": "code",
   "execution_count": 142,
   "id": "f6ccb9fa",
   "metadata": {},
   "outputs": [],
   "source": [
    "t = 0.5\n",
    "predict_positive = (y_pred >= t)\n",
    "predict_negative = (y_pred < t)"
   ]
  },
  {
   "cell_type": "code",
   "execution_count": 143,
   "id": "44a8a872",
   "metadata": {},
   "outputs": [
    {
     "data": {
      "text/plain": [
       "18"
      ]
     },
     "execution_count": 143,
     "metadata": {},
     "output_type": "execute_result"
    }
   ],
   "source": [
    "predict_positive.sum()"
   ]
  },
  {
   "cell_type": "code",
   "execution_count": 144,
   "id": "9c80cd1f",
   "metadata": {},
   "outputs": [
    {
     "data": {
      "text/plain": [
       "1982"
      ]
     },
     "execution_count": 144,
     "metadata": {},
     "output_type": "execute_result"
    }
   ],
   "source": [
    "predict_negative.sum()"
   ]
  },
  {
   "cell_type": "code",
   "execution_count": 145,
   "id": "fad0a108",
   "metadata": {},
   "outputs": [
    {
     "data": {
      "text/plain": [
       "67"
      ]
     },
     "execution_count": 145,
     "metadata": {},
     "output_type": "execute_result"
    }
   ],
   "source": [
    "actual_positive.sum()"
   ]
  },
  {
   "cell_type": "code",
   "execution_count": 146,
   "id": "50321e78",
   "metadata": {},
   "outputs": [
    {
     "data": {
      "text/plain": [
       "1933"
      ]
     },
     "execution_count": 146,
     "metadata": {},
     "output_type": "execute_result"
    }
   ],
   "source": [
    "actual_negative.sum()"
   ]
  },
  {
   "cell_type": "code",
   "execution_count": 147,
   "id": "d4df3d00",
   "metadata": {},
   "outputs": [
    {
     "data": {
      "text/plain": [
       "(2000,)"
      ]
     },
     "execution_count": 147,
     "metadata": {},
     "output_type": "execute_result"
    }
   ],
   "source": [
    "y_pred.shape"
   ]
  },
  {
   "cell_type": "code",
   "execution_count": 148,
   "id": "70aff9be",
   "metadata": {},
   "outputs": [],
   "source": [
    "tp = (predict_positive & actual_positive).sum()\n",
    "tn = (predict_negative & actual_negative).sum()\n",
    "\n",
    "fp = (predict_positive & actual_negative).sum()\n",
    "fn = (predict_negative & actual_positive).sum()"
   ]
  },
  {
   "cell_type": "code",
   "execution_count": 149,
   "id": "30fab71e",
   "metadata": {},
   "outputs": [
    {
     "data": {
      "text/plain": [
       "array([[1929,    4],\n",
       "       [  53,   14]])"
      ]
     },
     "execution_count": 149,
     "metadata": {},
     "output_type": "execute_result"
    }
   ],
   "source": [
    "confusion_matrix = np.array([\n",
    "    [tn, fp],\n",
    "    [fn, tp]\n",
    "])\n",
    "confusion_matrix"
   ]
  },
  {
   "cell_type": "code",
   "execution_count": 150,
   "id": "ab91cdda",
   "metadata": {},
   "outputs": [
    {
     "data": {
      "text/plain": [
       "array([[0.96, 0.  ],\n",
       "       [0.03, 0.01]])"
      ]
     },
     "execution_count": 150,
     "metadata": {},
     "output_type": "execute_result"
    }
   ],
   "source": [
    "(confusion_matrix / confusion_matrix.sum()).round(2)"
   ]
  },
  {
   "cell_type": "markdown",
   "id": "6f26fe08",
   "metadata": {},
   "source": [
    "### Precision and Recall"
   ]
  },
  {
   "cell_type": "code",
   "execution_count": 151,
   "id": "aa72766e",
   "metadata": {},
   "outputs": [
    {
     "data": {
      "text/plain": [
       "0.7777777777777778"
      ]
     },
     "execution_count": 151,
     "metadata": {},
     "output_type": "execute_result"
    }
   ],
   "source": [
    "p = tp / (tp + fp)\n",
    "p"
   ]
  },
  {
   "cell_type": "code",
   "execution_count": 152,
   "id": "e761aa4d",
   "metadata": {},
   "outputs": [
    {
     "data": {
      "text/plain": [
       "0.208955223880597"
      ]
     },
     "execution_count": 152,
     "metadata": {},
     "output_type": "execute_result"
    }
   ],
   "source": [
    "r = tp / (tp + fn)\n",
    "r"
   ]
  },
  {
   "cell_type": "markdown",
   "id": "67a011fe",
   "metadata": {},
   "source": [
    "### ROC Curves"
   ]
  },
  {
   "cell_type": "code",
   "execution_count": 153,
   "id": "a805e5da",
   "metadata": {},
   "outputs": [
    {
     "data": {
      "text/plain": [
       "0.208955223880597"
      ]
     },
     "execution_count": 153,
     "metadata": {},
     "output_type": "execute_result"
    }
   ],
   "source": [
    "tpr = tp / (tp + fn)\n",
    "tpr"
   ]
  },
  {
   "cell_type": "code",
   "execution_count": 154,
   "id": "9fa611ab",
   "metadata": {},
   "outputs": [
    {
     "data": {
      "text/plain": [
       "0.0020693222969477496"
      ]
     },
     "execution_count": 154,
     "metadata": {},
     "output_type": "execute_result"
    }
   ],
   "source": [
    "fpr = fp / (fp + tn)\n",
    "fpr"
   ]
  },
  {
   "cell_type": "code",
   "execution_count": 155,
   "id": "ca526414",
   "metadata": {},
   "outputs": [],
   "source": [
    "fpr, tpr, thresholds = roc_curve(y_test, y_pred)"
   ]
  },
  {
   "cell_type": "code",
   "execution_count": 156,
   "id": "c9e132f9",
   "metadata": {},
   "outputs": [
    {
     "data": {
      "text/plain": [
       "<matplotlib.legend.Legend at 0x13106c74be0>"
      ]
     },
     "execution_count": 156,
     "metadata": {},
     "output_type": "execute_result"
    },
    {
     "data": {
      "image/png": "[encoded data removed]",
      "text/plain": [
       "<Figure size 360x360 with 1 Axes>"
      ]
     },
     "metadata": {
      "needs_background": "light"
     },
     "output_type": "display_data"
    }
   ],
   "source": [
    "plt.figure(figsize=(5, 5))\n",
    "\n",
    "plt.plot(fpr, tpr, label='Model')\n",
    "plt.plot([0, 1], [0, 1], label='Random', linestyle='--')\n",
    "\n",
    "plt.xlabel('FPR')\n",
    "plt.ylabel('TPR')\n",
    "\n",
    "plt.legend()"
   ]
  },
  {
   "cell_type": "markdown",
   "id": "8db0d7d8",
   "metadata": {},
   "source": [
    "### ROC AUC\n",
    "test on the test dataset"
   ]
  },
  {
   "cell_type": "code",
   "execution_count": 157,
   "id": "31cd80e8",
   "metadata": {},
   "outputs": [
    {
     "data": {
      "text/plain": [
       "0.9048729451552378"
      ]
     },
     "execution_count": 157,
     "metadata": {},
     "output_type": "execute_result"
    }
   ],
   "source": [
    "roc_auc_score(y_test, y_pred)"
   ]
  },
  {
   "cell_type": "code",
   "execution_count": 158,
   "id": "856e9268",
   "metadata": {},
   "outputs": [
    {
     "data": {
      "text/plain": [
       "0.9048729451552378"
      ]
     },
     "execution_count": 158,
     "metadata": {},
     "output_type": "execute_result"
    }
   ],
   "source": [
    "auc(fpr, tpr)"
   ]
  },
  {
   "cell_type": "code",
   "execution_count": 159,
   "id": "f38e3410",
   "metadata": {},
   "outputs": [
    {
     "data": {
      "text/plain": [
       "0.9048729451552378"
      ]
     },
     "execution_count": 159,
     "metadata": {},
     "output_type": "execute_result"
    }
   ],
   "source": [
    "fpr, tpr, thresholds = roc_curve(y_test, y_pred)\n",
    "auc(fpr, tpr)"
   ]
  },
  {
   "cell_type": "markdown",
   "id": "e4471a5e",
   "metadata": {},
   "source": [
    "### Decision trees"
   ]
  },
  {
   "cell_type": "code",
   "execution_count": 160,
   "id": "c06675f1",
   "metadata": {},
   "outputs": [
    {
     "data": {
      "text/plain": [
       "DecisionTreeClassifier()"
      ]
     },
     "execution_count": 160,
     "metadata": {},
     "output_type": "execute_result"
    }
   ],
   "source": [
    "dt = DecisionTreeClassifier()\n",
    "dt.fit(X_train, y_train)"
   ]
  },
  {
   "cell_type": "code",
   "execution_count": 161,
   "id": "89713174",
   "metadata": {},
   "outputs": [],
   "source": [
    "y_pred = dt.predict_proba(X_val)[:, 1]"
   ]
  },
  {
   "cell_type": "code",
   "execution_count": 162,
   "id": "f822844d",
   "metadata": {},
   "outputs": [
    {
     "data": {
      "text/plain": [
       "(2000,)"
      ]
     },
     "execution_count": 162,
     "metadata": {},
     "output_type": "execute_result"
    }
   ],
   "source": [
    "y_pred.shape"
   ]
  },
  {
   "cell_type": "code",
   "execution_count": 163,
   "id": "95b22ec7",
   "metadata": {},
   "outputs": [
    {
     "data": {
      "text/plain": [
       "(6000,)"
      ]
     },
     "execution_count": 163,
     "metadata": {},
     "output_type": "execute_result"
    }
   ],
   "source": [
    "y_train.shape"
   ]
  },
  {
   "cell_type": "code",
   "execution_count": 164,
   "id": "85d5c363",
   "metadata": {},
   "outputs": [
    {
     "data": {
      "text/plain": [
       "0.816388694696894"
      ]
     },
     "execution_count": 164,
     "metadata": {},
     "output_type": "execute_result"
    }
   ],
   "source": [
    "roc_auc_score(y_val, y_pred)"
   ]
  },
  {
   "cell_type": "code",
   "execution_count": 165,
   "id": "dd852053",
   "metadata": {},
   "outputs": [
    {
     "data": {
      "text/plain": [
       "1.0"
      ]
     },
     "execution_count": 165,
     "metadata": {},
     "output_type": "execute_result"
    }
   ],
   "source": [
    "y_pred = dt.predict_proba(X_train)[:, 1]\n",
    "roc_auc_score(y_train, y_pred)"
   ]
  },
  {
   "cell_type": "markdown",
   "id": "44ab298e",
   "metadata": {},
   "source": [
    "This means model is overfitted"
   ]
  },
  {
   "cell_type": "code",
   "execution_count": 166,
   "id": "5c1520be",
   "metadata": {},
   "outputs": [
    {
     "data": {
      "text/plain": [
       "DecisionTreeClassifier(max_depth=2)"
      ]
     },
     "execution_count": 166,
     "metadata": {},
     "output_type": "execute_result"
    }
   ],
   "source": [
    "dt = DecisionTreeClassifier(max_depth=2)\n",
    "dt.fit(X_train, y_train)"
   ]
  },
  {
   "cell_type": "code",
   "execution_count": 167,
   "id": "ecfb336f",
   "metadata": {},
   "outputs": [
    {
     "name": "stdout",
     "output_type": "stream",
     "text": [
      "train: 0.6373168599071591\n",
      "val: 0.6420736376044476\n"
     ]
    }
   ],
   "source": [
    "y_pred = dt.predict_proba(X_train)[:, 1]\n",
    "auc = roc_auc_score(y_train, y_pred)\n",
    "print('train:', auc)\n",
    "\n",
    "y_pred = dt.predict_proba(X_val)[:, 1]\n",
    "auc = roc_auc_score(y_val, y_pred)\n",
    "print('val:', auc)"
   ]
  },
  {
   "cell_type": "code",
   "execution_count": 168,
   "id": "6cd90d2c",
   "metadata": {},
   "outputs": [
    {
     "name": "stdout",
     "output_type": "stream",
     "text": [
      "|--- torque <= 62.35\n",
      "|   |--- torque <= 13.15\n",
      "|   |   |--- class: 1\n",
      "|   |--- torque >  13.15\n",
      "|   |   |--- class: 0\n",
      "|--- torque >  62.35\n",
      "|   |--- torque <= 65.00\n",
      "|   |   |--- class: 0\n",
      "|   |--- torque >  65.00\n",
      "|   |   |--- class: 1\n",
      "\n"
     ]
    },
    {
     "name": "stderr",
     "output_type": "stream",
     "text": [
      "C:\\Users\\HP\\miniconda3\\lib\\site-packages\\sklearn\\utils\\deprecation.py:87: FutureWarning: Function get_feature_names is deprecated; get_feature_names is deprecated in 1.0 and will be removed in 1.2. Please use get_feature_names_out instead.\n",
      "  warnings.warn(msg, category=FutureWarning)\n"
     ]
    }
   ],
   "source": [
    "print(export_text(dt, feature_names=dv.get_feature_names()))"
   ]
  },
  {
   "cell_type": "markdown",
   "id": "ce961d03",
   "metadata": {},
   "source": [
    "#### Decision tree - parameters tuning"
   ]
  },
  {
   "cell_type": "code",
   "execution_count": 169,
   "id": "e3798b59",
   "metadata": {},
   "outputs": [
    {
     "name": "stdout",
     "output_type": "stream",
     "text": [
      "   1 -> 0.609\n",
      "   2 -> 0.642\n",
      "   3 -> 0.800\n",
      "   4 -> 0.804\n",
      "   5 -> 0.840\n",
      "   6 -> 0.875\n",
      "  10 -> 0.858\n",
      "  15 -> 0.815\n",
      "  20 -> 0.809\n",
      "None -> 0.816\n"
     ]
    }
   ],
   "source": [
    "depths = [1, 2, 3, 4, 5, 6, 10, 15, 20, None]\n",
    "\n",
    "for depth in depths: \n",
    "    dt = DecisionTreeClassifier(max_depth=depth)\n",
    "    dt.fit(X_train, y_train)\n",
    "    \n",
    "    y_pred = dt.predict_proba(X_val)[:, 1]\n",
    "    auc = roc_auc_score(y_val, y_pred)\n",
    "    \n",
    "    print('%4s -> %.3f' % (depth, auc))"
   ]
  },
  {
   "cell_type": "markdown",
   "id": "fe6e978a",
   "metadata": {},
   "source": [
    "- The best auc with max_depth 5, 6, 10"
   ]
  },
  {
   "cell_type": "code",
   "execution_count": 170,
   "id": "6ec040f5",
   "metadata": {},
   "outputs": [],
   "source": [
    "scores = []\n",
    "\n",
    "for depth in [5, 6, 10]:\n",
    "    for s in [1, 5, 10, 15, 20, 500, 100, 200]:\n",
    "        dt = DecisionTreeClassifier(max_depth=depth, min_samples_leaf=s)\n",
    "        dt.fit(X_train, y_train)\n",
    "\n",
    "        y_pred = dt.predict_proba(X_val)[:, 1]\n",
    "        auc = roc_auc_score(y_val, y_pred)\n",
    "        \n",
    "        scores.append((depth, s, auc))"
   ]
  },
  {
   "cell_type": "code",
   "execution_count": 171,
   "id": "2ce745e8",
   "metadata": {},
   "outputs": [],
   "source": [
    "columns = ['max_depth', 'min_samples_leaf', 'auc']\n",
    "df_scores = pd.DataFrame(scores, columns=columns)"
   ]
  },
  {
   "cell_type": "code",
   "execution_count": 172,
   "id": "03461bf9",
   "metadata": {},
   "outputs": [
    {
     "data": {
      "text/html": [
       "<div>\n",
       "<style scoped>\n",
       "    .dataframe tbody tr th:only-of-type {\n",
       "        vertical-align: middle;\n",
       "    }\n",
       "\n",
       "    .dataframe tbody tr th {\n",
       "        vertical-align: top;\n",
       "    }\n",
       "\n",
       "    .dataframe thead th {\n",
       "        text-align: right;\n",
       "    }\n",
       "</style>\n",
       "<table border=\"1\" class=\"dataframe\">\n",
       "  <thead>\n",
       "    <tr style=\"text-align: right;\">\n",
       "      <th></th>\n",
       "      <th>max_depth</th>\n",
       "      <th>min_samples_leaf</th>\n",
       "      <th>auc</th>\n",
       "    </tr>\n",
       "  </thead>\n",
       "  <tbody>\n",
       "    <tr>\n",
       "      <th>0</th>\n",
       "      <td>5</td>\n",
       "      <td>1</td>\n",
       "      <td>0.840149</td>\n",
       "    </tr>\n",
       "    <tr>\n",
       "      <th>1</th>\n",
       "      <td>5</td>\n",
       "      <td>5</td>\n",
       "      <td>0.839492</td>\n",
       "    </tr>\n",
       "    <tr>\n",
       "      <th>2</th>\n",
       "      <td>5</td>\n",
       "      <td>10</td>\n",
       "      <td>0.853624</td>\n",
       "    </tr>\n",
       "    <tr>\n",
       "      <th>3</th>\n",
       "      <td>5</td>\n",
       "      <td>15</td>\n",
       "      <td>0.853187</td>\n",
       "    </tr>\n",
       "    <tr>\n",
       "      <th>4</th>\n",
       "      <td>5</td>\n",
       "      <td>20</td>\n",
       "      <td>0.852409</td>\n",
       "    </tr>\n",
       "    <tr>\n",
       "      <th>5</th>\n",
       "      <td>5</td>\n",
       "      <td>500</td>\n",
       "      <td>0.868550</td>\n",
       "    </tr>\n",
       "    <tr>\n",
       "      <th>6</th>\n",
       "      <td>5</td>\n",
       "      <td>100</td>\n",
       "      <td>0.929338</td>\n",
       "    </tr>\n",
       "    <tr>\n",
       "      <th>7</th>\n",
       "      <td>5</td>\n",
       "      <td>200</td>\n",
       "      <td>0.904770</td>\n",
       "    </tr>\n",
       "    <tr>\n",
       "      <th>8</th>\n",
       "      <td>6</td>\n",
       "      <td>1</td>\n",
       "      <td>0.875462</td>\n",
       "    </tr>\n",
       "    <tr>\n",
       "      <th>9</th>\n",
       "      <td>6</td>\n",
       "      <td>5</td>\n",
       "      <td>0.889777</td>\n",
       "    </tr>\n",
       "    <tr>\n",
       "      <th>10</th>\n",
       "      <td>6</td>\n",
       "      <td>10</td>\n",
       "      <td>0.935471</td>\n",
       "    </tr>\n",
       "    <tr>\n",
       "      <th>11</th>\n",
       "      <td>6</td>\n",
       "      <td>15</td>\n",
       "      <td>0.934489</td>\n",
       "    </tr>\n",
       "    <tr>\n",
       "      <th>12</th>\n",
       "      <td>6</td>\n",
       "      <td>20</td>\n",
       "      <td>0.926296</td>\n",
       "    </tr>\n",
       "    <tr>\n",
       "      <th>13</th>\n",
       "      <td>6</td>\n",
       "      <td>500</td>\n",
       "      <td>0.869253</td>\n",
       "    </tr>\n",
       "    <tr>\n",
       "      <th>14</th>\n",
       "      <td>6</td>\n",
       "      <td>100</td>\n",
       "      <td>0.942333</td>\n",
       "    </tr>\n",
       "    <tr>\n",
       "      <th>15</th>\n",
       "      <td>6</td>\n",
       "      <td>200</td>\n",
       "      <td>0.905248</td>\n",
       "    </tr>\n",
       "    <tr>\n",
       "      <th>16</th>\n",
       "      <td>10</td>\n",
       "      <td>1</td>\n",
       "      <td>0.866736</td>\n",
       "    </tr>\n",
       "    <tr>\n",
       "      <th>17</th>\n",
       "      <td>10</td>\n",
       "      <td>5</td>\n",
       "      <td>0.872944</td>\n",
       "    </tr>\n",
       "    <tr>\n",
       "      <th>18</th>\n",
       "      <td>10</td>\n",
       "      <td>10</td>\n",
       "      <td>0.923845</td>\n",
       "    </tr>\n",
       "    <tr>\n",
       "      <th>19</th>\n",
       "      <td>10</td>\n",
       "      <td>15</td>\n",
       "      <td>0.942799</td>\n",
       "    </tr>\n",
       "    <tr>\n",
       "      <th>20</th>\n",
       "      <td>10</td>\n",
       "      <td>20</td>\n",
       "      <td>0.919896</td>\n",
       "    </tr>\n",
       "    <tr>\n",
       "      <th>21</th>\n",
       "      <td>10</td>\n",
       "      <td>500</td>\n",
       "      <td>0.869253</td>\n",
       "    </tr>\n",
       "    <tr>\n",
       "      <th>22</th>\n",
       "      <td>10</td>\n",
       "      <td>100</td>\n",
       "      <td>0.940923</td>\n",
       "    </tr>\n",
       "    <tr>\n",
       "      <th>23</th>\n",
       "      <td>10</td>\n",
       "      <td>200</td>\n",
       "      <td>0.902647</td>\n",
       "    </tr>\n",
       "  </tbody>\n",
       "</table>\n",
       "</div>"
      ],
      "text/plain": [
       "    max_depth  min_samples_leaf       auc\n",
       "0           5                 1  0.840149\n",
       "1           5                 5  0.839492\n",
       "2           5                10  0.853624\n",
       "3           5                15  0.853187\n",
       "4           5                20  0.852409\n",
       "5           5               500  0.868550\n",
       "6           5               100  0.929338\n",
       "7           5               200  0.904770\n",
       "8           6                 1  0.875462\n",
       "9           6                 5  0.889777\n",
       "10          6                10  0.935471\n",
       "11          6                15  0.934489\n",
       "12          6                20  0.926296\n",
       "13          6               500  0.869253\n",
       "14          6               100  0.942333\n",
       "15          6               200  0.905248\n",
       "16         10                 1  0.866736\n",
       "17         10                 5  0.872944\n",
       "18         10                10  0.923845\n",
       "19         10                15  0.942799\n",
       "20         10                20  0.919896\n",
       "21         10               500  0.869253\n",
       "22         10               100  0.940923\n",
       "23         10               200  0.902647"
      ]
     },
     "execution_count": 172,
     "metadata": {},
     "output_type": "execute_result"
    }
   ],
   "source": [
    "df_scores"
   ]
  },
  {
   "cell_type": "code",
   "execution_count": 173,
   "id": "534e610e",
   "metadata": {},
   "outputs": [
    {
     "data": {
      "text/html": [
       "<div>\n",
       "<style scoped>\n",
       "    .dataframe tbody tr th:only-of-type {\n",
       "        vertical-align: middle;\n",
       "    }\n",
       "\n",
       "    .dataframe tbody tr th {\n",
       "        vertical-align: top;\n",
       "    }\n",
       "\n",
       "    .dataframe thead tr th {\n",
       "        text-align: left;\n",
       "    }\n",
       "\n",
       "    .dataframe thead tr:last-of-type th {\n",
       "        text-align: right;\n",
       "    }\n",
       "</style>\n",
       "<table border=\"1\" class=\"dataframe\">\n",
       "  <thead>\n",
       "    <tr>\n",
       "      <th></th>\n",
       "      <th colspan=\"3\" halign=\"left\">auc</th>\n",
       "    </tr>\n",
       "    <tr>\n",
       "      <th>max_depth</th>\n",
       "      <th>5</th>\n",
       "      <th>6</th>\n",
       "      <th>10</th>\n",
       "    </tr>\n",
       "    <tr>\n",
       "      <th>min_samples_leaf</th>\n",
       "      <th></th>\n",
       "      <th></th>\n",
       "      <th></th>\n",
       "    </tr>\n",
       "  </thead>\n",
       "  <tbody>\n",
       "    <tr>\n",
       "      <th>1</th>\n",
       "      <td>0.840149</td>\n",
       "      <td>0.875462</td>\n",
       "      <td>0.866736</td>\n",
       "    </tr>\n",
       "    <tr>\n",
       "      <th>5</th>\n",
       "      <td>0.839492</td>\n",
       "      <td>0.889777</td>\n",
       "      <td>0.872944</td>\n",
       "    </tr>\n",
       "    <tr>\n",
       "      <th>10</th>\n",
       "      <td>0.853624</td>\n",
       "      <td>0.935471</td>\n",
       "      <td>0.923845</td>\n",
       "    </tr>\n",
       "    <tr>\n",
       "      <th>15</th>\n",
       "      <td>0.853187</td>\n",
       "      <td>0.934489</td>\n",
       "      <td>0.942799</td>\n",
       "    </tr>\n",
       "    <tr>\n",
       "      <th>20</th>\n",
       "      <td>0.852409</td>\n",
       "      <td>0.926296</td>\n",
       "      <td>0.919896</td>\n",
       "    </tr>\n",
       "    <tr>\n",
       "      <th>100</th>\n",
       "      <td>0.929338</td>\n",
       "      <td>0.942333</td>\n",
       "      <td>0.940923</td>\n",
       "    </tr>\n",
       "    <tr>\n",
       "      <th>200</th>\n",
       "      <td>0.904770</td>\n",
       "      <td>0.905248</td>\n",
       "      <td>0.902647</td>\n",
       "    </tr>\n",
       "    <tr>\n",
       "      <th>500</th>\n",
       "      <td>0.868550</td>\n",
       "      <td>0.869253</td>\n",
       "      <td>0.869253</td>\n",
       "    </tr>\n",
       "  </tbody>\n",
       "</table>\n",
       "</div>"
      ],
      "text/plain": [
       "                       auc                    \n",
       "max_depth               5         6         10\n",
       "min_samples_leaf                              \n",
       "1                 0.840149  0.875462  0.866736\n",
       "5                 0.839492  0.889777  0.872944\n",
       "10                0.853624  0.935471  0.923845\n",
       "15                0.853187  0.934489  0.942799\n",
       "20                0.852409  0.926296  0.919896\n",
       "100               0.929338  0.942333  0.940923\n",
       "200               0.904770  0.905248  0.902647\n",
       "500               0.868550  0.869253  0.869253"
      ]
     },
     "execution_count": 173,
     "metadata": {},
     "output_type": "execute_result"
    }
   ],
   "source": [
    "df_scores_pivot = df_scores.pivot(index='min_samples_leaf', columns=['max_depth'], values=['auc'])\n",
    "df_scores_pivot"
   ]
  },
  {
   "cell_type": "code",
   "execution_count": 174,
   "id": "a4cdcf4a",
   "metadata": {},
   "outputs": [
    {
     "data": {
      "text/plain": [
       "<AxesSubplot:xlabel='None-max_depth', ylabel='min_samples_leaf'>"
      ]
     },
     "execution_count": 174,
     "metadata": {},
     "output_type": "execute_result"
    },
    {
     "data": {
      "image/png": "[encoded data removed]",
      "text/plain": [
       "<Figure size 432x288 with 2 Axes>"
      ]
     },
     "metadata": {
      "needs_background": "light"
     },
     "output_type": "display_data"
    }
   ],
   "source": [
    "sns.heatmap(df_scores_pivot, annot=True, fmt=\".3f\")"
   ]
  },
  {
   "cell_type": "markdown",
   "id": "27942ad8",
   "metadata": {},
   "source": [
    "- The best auc with max_depth=10, min_samples_leaf=15"
   ]
  },
  {
   "cell_type": "code",
   "execution_count": 175,
   "id": "52f77356",
   "metadata": {},
   "outputs": [
    {
     "data": {
      "text/plain": [
       "DecisionTreeClassifier(max_depth=10, min_samples_leaf=15)"
      ]
     },
     "execution_count": 175,
     "metadata": {},
     "output_type": "execute_result"
    }
   ],
   "source": [
    "dt = DecisionTreeClassifier(max_depth=10, min_samples_leaf=15)\n",
    "dt.fit(X_train, y_train)"
   ]
  },
  {
   "cell_type": "code",
   "execution_count": 176,
   "id": "26739a40",
   "metadata": {},
   "outputs": [
    {
     "name": "stdout",
     "output_type": "stream",
     "text": [
      "train: 0.9873965178007944\n",
      "val: 0.9429533273411232\n"
     ]
    }
   ],
   "source": [
    "y_pred = dt.predict_proba(X_train)[:, 1]\n",
    "auc = roc_auc_score(y_train, y_pred)\n",
    "print('train:', auc)\n",
    "\n",
    "y_pred = dt.predict_proba(X_val)[:, 1]\n",
    "auc = roc_auc_score(y_val, y_pred)\n",
    "print('val:', auc)"
   ]
  },
  {
   "cell_type": "code",
   "execution_count": 177,
   "id": "ce502779",
   "metadata": {},
   "outputs": [
    {
     "name": "stdout",
     "output_type": "stream",
     "text": [
      "|--- torque <= 62.35\n",
      "|   |--- torque <= 13.15\n",
      "|   |   |--- class: 1\n",
      "|   |--- torque >  13.15\n",
      "|   |   |--- rotational_speed <= 1380.50\n",
      "|   |   |   |--- air_temperature <= 301.55\n",
      "|   |   |   |   |--- tool_wear <= 201.50\n",
      "|   |   |   |   |   |--- tool_wear <= 186.50\n",
      "|   |   |   |   |   |   |--- class: 0\n",
      "|   |   |   |   |   |--- tool_wear >  186.50\n",
      "|   |   |   |   |   |   |--- torque <= 56.30\n",
      "|   |   |   |   |   |   |   |--- class: 0\n",
      "|   |   |   |   |   |   |--- torque >  56.30\n",
      "|   |   |   |   |   |   |   |--- class: 0\n",
      "|   |   |   |   |--- tool_wear >  201.50\n",
      "|   |   |   |   |   |--- torque <= 53.10\n",
      "|   |   |   |   |   |   |--- class: 0\n",
      "|   |   |   |   |   |--- torque >  53.10\n",
      "|   |   |   |   |   |   |--- class: 1\n",
      "|   |   |   |--- air_temperature >  301.55\n",
      "|   |   |   |   |--- process_temperature <= 310.75\n",
      "|   |   |   |   |   |--- air_temperature <= 301.95\n",
      "|   |   |   |   |   |   |--- class: 1\n",
      "|   |   |   |   |   |--- air_temperature >  301.95\n",
      "|   |   |   |   |   |   |--- air_temperature <= 302.35\n",
      "|   |   |   |   |   |   |   |--- class: 1\n",
      "|   |   |   |   |   |   |--- air_temperature >  302.35\n",
      "|   |   |   |   |   |   |   |--- class: 1\n",
      "|   |   |   |   |--- process_temperature >  310.75\n",
      "|   |   |   |   |   |--- process_temperature <= 312.15\n",
      "|   |   |   |   |   |   |--- air_temperature <= 302.65\n",
      "|   |   |   |   |   |   |   |--- process_temperature <= 310.95\n",
      "|   |   |   |   |   |   |   |   |--- class: 0\n",
      "|   |   |   |   |   |   |   |--- process_temperature >  310.95\n",
      "|   |   |   |   |   |   |   |   |--- tool_wear <= 164.50\n",
      "|   |   |   |   |   |   |   |   |   |--- process_temperature <= 311.35\n",
      "|   |   |   |   |   |   |   |   |   |   |--- class: 0\n",
      "|   |   |   |   |   |   |   |   |   |--- process_temperature >  311.35\n",
      "|   |   |   |   |   |   |   |   |   |   |--- class: 0\n",
      "|   |   |   |   |   |   |   |   |--- tool_wear >  164.50\n",
      "|   |   |   |   |   |   |   |   |   |--- class: 0\n",
      "|   |   |   |   |   |   |--- air_temperature >  302.65\n",
      "|   |   |   |   |   |   |   |--- class: 1\n",
      "|   |   |   |   |   |--- process_temperature >  312.15\n",
      "|   |   |   |   |   |   |--- torque <= 54.45\n",
      "|   |   |   |   |   |   |   |--- class: 0\n",
      "|   |   |   |   |   |   |--- torque >  54.45\n",
      "|   |   |   |   |   |   |   |--- class: 0\n",
      "|   |   |--- rotational_speed >  1380.50\n",
      "|   |   |   |--- tool_wear <= 224.50\n",
      "|   |   |   |   |--- torque <= 58.75\n",
      "|   |   |   |   |   |--- tool_wear <= 202.50\n",
      "|   |   |   |   |   |   |--- torque <= 57.45\n",
      "|   |   |   |   |   |   |   |--- torque <= 15.45\n",
      "|   |   |   |   |   |   |   |   |--- class: 0\n",
      "|   |   |   |   |   |   |   |--- torque >  15.45\n",
      "|   |   |   |   |   |   |   |   |--- tool_wear <= 197.50\n",
      "|   |   |   |   |   |   |   |   |   |--- tool_wear <= 131.50\n",
      "|   |   |   |   |   |   |   |   |   |   |--- class: 0\n",
      "|   |   |   |   |   |   |   |   |   |--- tool_wear >  131.50\n",
      "|   |   |   |   |   |   |   |   |   |   |--- class: 0\n",
      "|   |   |   |   |   |   |   |   |--- tool_wear >  197.50\n",
      "|   |   |   |   |   |   |   |   |   |--- process_temperature <= 308.95\n",
      "|   |   |   |   |   |   |   |   |   |   |--- class: 0\n",
      "|   |   |   |   |   |   |   |   |   |--- process_temperature >  308.95\n",
      "|   |   |   |   |   |   |   |   |   |   |--- class: 0\n",
      "|   |   |   |   |   |   |--- torque >  57.45\n",
      "|   |   |   |   |   |   |   |--- class: 0\n",
      "|   |   |   |   |   |--- tool_wear >  202.50\n",
      "|   |   |   |   |   |   |--- torque <= 49.75\n",
      "|   |   |   |   |   |   |   |--- torque <= 41.35\n",
      "|   |   |   |   |   |   |   |   |--- rotational_speed <= 1569.00\n",
      "|   |   |   |   |   |   |   |   |   |--- process_temperature <= 308.95\n",
      "|   |   |   |   |   |   |   |   |   |   |--- class: 0\n",
      "|   |   |   |   |   |   |   |   |   |--- process_temperature >  308.95\n",
      "|   |   |   |   |   |   |   |   |   |   |--- class: 0\n",
      "|   |   |   |   |   |   |   |   |--- rotational_speed >  1569.00\n",
      "|   |   |   |   |   |   |   |   |   |--- tool_wear <= 216.50\n",
      "|   |   |   |   |   |   |   |   |   |   |--- class: 0\n",
      "|   |   |   |   |   |   |   |   |   |--- tool_wear >  216.50\n",
      "|   |   |   |   |   |   |   |   |   |   |--- class: 0\n",
      "|   |   |   |   |   |   |   |--- torque >  41.35\n",
      "|   |   |   |   |   |   |   |   |--- rotational_speed <= 1402.00\n",
      "|   |   |   |   |   |   |   |   |   |--- class: 0\n",
      "|   |   |   |   |   |   |   |   |--- rotational_speed >  1402.00\n",
      "|   |   |   |   |   |   |   |   |   |--- class: 0\n",
      "|   |   |   |   |   |   |--- torque >  49.75\n",
      "|   |   |   |   |   |   |   |--- class: 0\n",
      "|   |   |   |   |--- torque >  58.75\n",
      "|   |   |   |   |   |--- class: 0\n",
      "|   |   |   |--- tool_wear >  224.50\n",
      "|   |   |   |   |--- air_temperature <= 299.40\n",
      "|   |   |   |   |   |--- class: 0\n",
      "|   |   |   |   |--- air_temperature >  299.40\n",
      "|   |   |   |   |   |--- class: 0\n",
      "|--- torque >  62.35\n",
      "|   |--- torque <= 65.00\n",
      "|   |   |--- class: 0\n",
      "|   |--- torque >  65.00\n",
      "|   |   |--- rotational_speed <= 1283.00\n",
      "|   |   |   |--- class: 1\n",
      "|   |   |--- rotational_speed >  1283.00\n",
      "|   |   |   |--- class: 1\n",
      "\n"
     ]
    },
    {
     "name": "stderr",
     "output_type": "stream",
     "text": [
      "C:\\Users\\HP\\miniconda3\\lib\\site-packages\\sklearn\\utils\\deprecation.py:87: FutureWarning: Function get_feature_names is deprecated; get_feature_names is deprecated in 1.0 and will be removed in 1.2. Please use get_feature_names_out instead.\n",
      "  warnings.warn(msg, category=FutureWarning)\n"
     ]
    }
   ],
   "source": [
    "print(export_text(dt, feature_names=dv.get_feature_names()))"
   ]
  },
  {
   "cell_type": "markdown",
   "id": "dab9a49d",
   "metadata": {},
   "source": [
    "### Random forest"
   ]
  },
  {
   "cell_type": "code",
   "execution_count": 178,
   "id": "6b13d0e9",
   "metadata": {},
   "outputs": [],
   "source": [
    "scores = []\n",
    "\n",
    "for n in range(10, 201, 10):\n",
    "    rf = RandomForestClassifier(n_estimators=n, random_state=1)\n",
    "    rf.fit(X_train, y_train)\n",
    "\n",
    "    y_pred = rf.predict_proba(X_val)[:, 1]\n",
    "    auc = roc_auc_score(y_val, y_pred)\n",
    "    \n",
    "    scores.append((n, auc))"
   ]
  },
  {
   "cell_type": "code",
   "execution_count": 179,
   "id": "6173d3f7",
   "metadata": {},
   "outputs": [],
   "source": [
    "df_scores = pd.DataFrame(scores, columns=['n_estimators', 'auc'])"
   ]
  },
  {
   "cell_type": "code",
   "execution_count": 180,
   "id": "5365f97d",
   "metadata": {},
   "outputs": [
    {
     "data": {
      "text/html": [
       "<div>\n",
       "<style scoped>\n",
       "    .dataframe tbody tr th:only-of-type {\n",
       "        vertical-align: middle;\n",
       "    }\n",
       "\n",
       "    .dataframe tbody tr th {\n",
       "        vertical-align: top;\n",
       "    }\n",
       "\n",
       "    .dataframe thead th {\n",
       "        text-align: right;\n",
       "    }\n",
       "</style>\n",
       "<table border=\"1\" class=\"dataframe\">\n",
       "  <thead>\n",
       "    <tr style=\"text-align: right;\">\n",
       "      <th></th>\n",
       "      <th>n_estimators</th>\n",
       "      <th>auc</th>\n",
       "    </tr>\n",
       "  </thead>\n",
       "  <tbody>\n",
       "    <tr>\n",
       "      <th>19</th>\n",
       "      <td>200</td>\n",
       "      <td>0.939</td>\n",
       "    </tr>\n",
       "    <tr>\n",
       "      <th>17</th>\n",
       "      <td>180</td>\n",
       "      <td>0.939</td>\n",
       "    </tr>\n",
       "    <tr>\n",
       "      <th>16</th>\n",
       "      <td>170</td>\n",
       "      <td>0.939</td>\n",
       "    </tr>\n",
       "    <tr>\n",
       "      <th>6</th>\n",
       "      <td>70</td>\n",
       "      <td>0.939</td>\n",
       "    </tr>\n",
       "    <tr>\n",
       "      <th>14</th>\n",
       "      <td>150</td>\n",
       "      <td>0.939</td>\n",
       "    </tr>\n",
       "    <tr>\n",
       "      <th>13</th>\n",
       "      <td>140</td>\n",
       "      <td>0.939</td>\n",
       "    </tr>\n",
       "    <tr>\n",
       "      <th>18</th>\n",
       "      <td>190</td>\n",
       "      <td>0.938</td>\n",
       "    </tr>\n",
       "    <tr>\n",
       "      <th>15</th>\n",
       "      <td>160</td>\n",
       "      <td>0.938</td>\n",
       "    </tr>\n",
       "    <tr>\n",
       "      <th>12</th>\n",
       "      <td>130</td>\n",
       "      <td>0.938</td>\n",
       "    </tr>\n",
       "    <tr>\n",
       "      <th>11</th>\n",
       "      <td>120</td>\n",
       "      <td>0.937</td>\n",
       "    </tr>\n",
       "  </tbody>\n",
       "</table>\n",
       "</div>"
      ],
      "text/plain": [
       "    n_estimators    auc\n",
       "19           200  0.939\n",
       "17           180  0.939\n",
       "16           170  0.939\n",
       "6             70  0.939\n",
       "14           150  0.939\n",
       "13           140  0.939\n",
       "18           190  0.938\n",
       "15           160  0.938\n",
       "12           130  0.938\n",
       "11           120  0.937"
      ]
     },
     "execution_count": 180,
     "metadata": {},
     "output_type": "execute_result"
    }
   ],
   "source": [
    "df_scores.round(3).sort_values('auc', ascending=False).head(10)"
   ]
  },
  {
   "cell_type": "code",
   "execution_count": 181,
   "id": "54ab8dbc",
   "metadata": {},
   "outputs": [
    {
     "data": {
      "text/plain": [
       "[<matplotlib.lines.Line2D at 0x13106d7e580>]"
      ]
     },
     "execution_count": 181,
     "metadata": {},
     "output_type": "execute_result"
    },
    {
     "data": {
      "image/png": "[encoded data removed]",
      "text/plain": [
       "<Figure size 432x288 with 1 Axes>"
      ]
     },
     "metadata": {
      "needs_background": "light"
     },
     "output_type": "display_data"
    }
   ],
   "source": [
    "plt.plot(df_scores.n_estimators, df_scores.auc)"
   ]
  },
  {
   "cell_type": "code",
   "execution_count": 182,
   "id": "fef18f6c",
   "metadata": {},
   "outputs": [],
   "source": [
    "scores = []\n",
    "\n",
    "for d in [5, 10, 15]:\n",
    "    for n in range(50, 201, 10):\n",
    "        rf = RandomForestClassifier(n_estimators=n,\n",
    "                                    max_depth=d,\n",
    "                                    random_state=1)\n",
    "        rf.fit(X_train, y_train)\n",
    "\n",
    "        y_pred = rf.predict_proba(X_val)[:, 1]\n",
    "        auc = roc_auc_score(y_val, y_pred)\n",
    "\n",
    "        scores.append((d, n, auc))"
   ]
  },
  {
   "cell_type": "code",
   "execution_count": 183,
   "id": "6aaaf4be",
   "metadata": {},
   "outputs": [],
   "source": [
    "columns = ['max_depth', 'n_estimators', 'auc']\n",
    "df_scores = pd.DataFrame(scores, columns=columns)"
   ]
  },
  {
   "cell_type": "code",
   "execution_count": 184,
   "id": "cb605a50",
   "metadata": {},
   "outputs": [
    {
     "data": {
      "text/plain": [
       "<matplotlib.legend.Legend at 0x13106ca4b80>"
      ]
     },
     "execution_count": 184,
     "metadata": {},
     "output_type": "execute_result"
    },
    {
     "data": {
      "image/png": "[encoded data removed]",
      "text/plain": [
       "<Figure size 432x288 with 1 Axes>"
      ]
     },
     "metadata": {
      "needs_background": "light"
     },
     "output_type": "display_data"
    }
   ],
   "source": [
    "for d in [5, 10, 15]:\n",
    "    df_subset = df_scores[df_scores.max_depth == d]\n",
    "    \n",
    "    plt.plot(df_subset.n_estimators, df_subset.auc,\n",
    "             label='max_depth=%d' % d)\n",
    "\n",
    "plt.legend()"
   ]
  },
  {
   "cell_type": "code",
   "execution_count": 185,
   "id": "c8defa6c",
   "metadata": {},
   "outputs": [],
   "source": [
    "max_depth = 10"
   ]
  },
  {
   "cell_type": "code",
   "execution_count": 186,
   "id": "30538fd4",
   "metadata": {},
   "outputs": [],
   "source": [
    "scores = []\n",
    "\n",
    "for s in [1, 3, 5, 10, 50]:\n",
    "    for n in range(50, 201, 10):\n",
    "        rf = RandomForestClassifier(n_estimators=n,\n",
    "                                    max_depth=max_depth,\n",
    "                                    min_samples_leaf=s,\n",
    "                                    random_state=1)\n",
    "        rf.fit(X_train, y_train)\n",
    "\n",
    "        y_pred = rf.predict_proba(X_val)[:, 1]\n",
    "        auc = roc_auc_score(y_val, y_pred)\n",
    "\n",
    "        scores.append((s, n, auc))"
   ]
  },
  {
   "cell_type": "code",
   "execution_count": 187,
   "id": "a1222bdd",
   "metadata": {},
   "outputs": [],
   "source": [
    "columns = ['min_samples_leaf', 'n_estimators', 'auc']\n",
    "df_scores = pd.DataFrame(scores, columns=columns)"
   ]
  },
  {
   "cell_type": "code",
   "execution_count": 188,
   "id": "3f47eabf",
   "metadata": {},
   "outputs": [
    {
     "data": {
      "text/plain": [
       "<matplotlib.legend.Legend at 0x13106dd7dc0>"
      ]
     },
     "execution_count": 188,
     "metadata": {},
     "output_type": "execute_result"
    },
    {
     "data": {
      "image/png": "[encoded data removed]",
      "text/plain": [
       "<Figure size 432x288 with 1 Axes>"
      ]
     },
     "metadata": {
      "needs_background": "light"
     },
     "output_type": "display_data"
    }
   ],
   "source": [
    "colors = ['black', 'blue', 'orange', 'red', 'grey']\n",
    "values = [1, 3, 5, 10, 50]\n",
    "\n",
    "for s, col in zip(values, colors):\n",
    "    df_subset = df_scores[df_scores.min_samples_leaf == s]\n",
    "    \n",
    "    plt.plot(df_subset.n_estimators, df_subset.auc,\n",
    "             color=col,\n",
    "             label='min_samples_leaf=%d' % s)\n",
    "\n",
    "plt.legend()"
   ]
  },
  {
   "cell_type": "code",
   "execution_count": 189,
   "id": "72b12bfd",
   "metadata": {},
   "outputs": [],
   "source": [
    "min_samples_leaf = 10"
   ]
  },
  {
   "cell_type": "code",
   "execution_count": 190,
   "id": "53a4caef",
   "metadata": {},
   "outputs": [
    {
     "data": {
      "text/plain": [
       "RandomForestClassifier(max_depth=10, min_samples_leaf=10, n_estimators=80,\n",
       "                       random_state=1)"
      ]
     },
     "execution_count": 190,
     "metadata": {},
     "output_type": "execute_result"
    }
   ],
   "source": [
    "rf = RandomForestClassifier(n_estimators=80,\n",
    "                            max_depth=max_depth,\n",
    "                            min_samples_leaf=min_samples_leaf,\n",
    "                            random_state=1)\n",
    "rf.fit(X_train, y_train)"
   ]
  },
  {
   "cell_type": "code",
   "execution_count": 191,
   "id": "a256d48a",
   "metadata": {},
   "outputs": [
    {
     "data": {
      "text/plain": [
       "0.9621575285462232"
      ]
     },
     "execution_count": 191,
     "metadata": {},
     "output_type": "execute_result"
    }
   ],
   "source": [
    "y_pred = rf.predict_proba(X_val)[:, 1]\n",
    "auc = roc_auc_score(y_val, y_pred)\n",
    "auc"
   ]
  },
  {
   "cell_type": "markdown",
   "id": "30ef8542",
   "metadata": {},
   "source": [
    "### Gradient boosting trees"
   ]
  },
  {
   "cell_type": "code",
   "execution_count": 161,
   "id": "64002d48",
   "metadata": {},
   "outputs": [
    {
     "data": {
      "text/plain": [
       "array(['air_temperature_k', 'process_temperature_k',\n",
       "       'rotational_speed_rpm', 'tool_wear_min', 'torque_nm', 'type=H',\n",
       "       'type=L', 'type=M'], dtype=object)"
      ]
     },
     "execution_count": 161,
     "metadata": {},
     "output_type": "execute_result"
    }
   ],
   "source": [
    "dv.get_feature_names_out()"
   ]
  },
  {
   "cell_type": "code",
   "execution_count": 162,
   "id": "794687d0",
   "metadata": {},
   "outputs": [],
   "source": [
    "features = dv.get_feature_names_out()\n",
    "dtrain = xgb.DMatrix(X_train, label=y_train, feature_names=features)\n",
    "dval = xgb.DMatrix(X_val, label=y_val, feature_names=features)"
   ]
  },
  {
   "cell_type": "code",
   "execution_count": 163,
   "id": "109ebb6d",
   "metadata": {},
   "outputs": [],
   "source": [
    "xgb_params = {\n",
    "    'eta': 0.3, \n",
    "    'max_depth': 6,\n",
    "    'min_child_weight': 1,\n",
    "    \n",
    "    'objective': 'binary:logistic',\n",
    "    'nthread': 8,\n",
    "    \n",
    "    'seed': 1,\n",
    "    'verbosity': 1,\n",
    "}\n",
    "\n",
    "model_xgb = xgb.train(xgb_params, dtrain, num_boost_round=10)"
   ]
  },
  {
   "cell_type": "code",
   "execution_count": 164,
   "id": "19cd0f72",
   "metadata": {},
   "outputs": [],
   "source": [
    "y_pred = model_xgb.predict(dval)"
   ]
  },
  {
   "cell_type": "code",
   "execution_count": 166,
   "id": "238b5b00",
   "metadata": {},
   "outputs": [
    {
     "data": {
      "text/plain": [
       "0.9578631112886581"
      ]
     },
     "execution_count": 166,
     "metadata": {},
     "output_type": "execute_result"
    }
   ],
   "source": [
    "roc_auc_score(y_val, y_pred)"
   ]
  },
  {
   "cell_type": "markdown",
   "id": "f920c765",
   "metadata": {},
   "source": [
    "To evaluate model on each step we have to create a watchlist"
   ]
  },
  {
   "cell_type": "code",
   "execution_count": 167,
   "id": "3963786c",
   "metadata": {},
   "outputs": [],
   "source": [
    "watchlist = [(dtrain, 'train'), (dval, 'val')]"
   ]
  },
  {
   "cell_type": "code",
   "execution_count": 168,
   "id": "febdd87f",
   "metadata": {},
   "outputs": [
    {
     "name": "stdout",
     "output_type": "stream",
     "text": [
      "[0]\ttrain-auc:0.95538\tval-auc:0.94244\n",
      "[5]\ttrain-auc:0.98075\tval-auc:0.95552\n",
      "[10]\ttrain-auc:0.98432\tval-auc:0.95763\n",
      "[15]\ttrain-auc:0.99618\tval-auc:0.95636\n",
      "[20]\ttrain-auc:0.99794\tval-auc:0.95426\n",
      "[25]\ttrain-auc:0.99900\tval-auc:0.95086\n",
      "[30]\ttrain-auc:0.99943\tval-auc:0.94958\n",
      "[35]\ttrain-auc:0.99966\tval-auc:0.94634\n",
      "[40]\ttrain-auc:0.99991\tval-auc:0.94730\n",
      "[45]\ttrain-auc:0.99998\tval-auc:0.94570\n",
      "[50]\ttrain-auc:0.99999\tval-auc:0.94619\n",
      "[55]\ttrain-auc:1.00000\tval-auc:0.94547\n",
      "[60]\ttrain-auc:1.00000\tval-auc:0.94485\n",
      "[65]\ttrain-auc:1.00000\tval-auc:0.94303\n",
      "[70]\ttrain-auc:1.00000\tval-auc:0.94073\n",
      "[75]\ttrain-auc:1.00000\tval-auc:0.94054\n",
      "[80]\ttrain-auc:1.00000\tval-auc:0.93970\n",
      "[85]\ttrain-auc:1.00000\tval-auc:0.93919\n",
      "[90]\ttrain-auc:1.00000\tval-auc:0.93905\n",
      "[95]\ttrain-auc:1.00000\tval-auc:0.93871\n",
      "[100]\ttrain-auc:1.00000\tval-auc:0.93926\n",
      "[105]\ttrain-auc:1.00000\tval-auc:0.93850\n",
      "[110]\ttrain-auc:1.00000\tval-auc:0.93826\n",
      "[115]\ttrain-auc:1.00000\tval-auc:0.93758\n",
      "[120]\ttrain-auc:1.00000\tval-auc:0.93853\n",
      "[125]\ttrain-auc:1.00000\tval-auc:0.93831\n",
      "[130]\ttrain-auc:1.00000\tval-auc:0.93889\n",
      "[135]\ttrain-auc:1.00000\tval-auc:0.93805\n",
      "[140]\ttrain-auc:1.00000\tval-auc:0.93697\n",
      "[145]\ttrain-auc:1.00000\tval-auc:0.93786\n",
      "[150]\ttrain-auc:1.00000\tval-auc:0.93812\n",
      "[155]\ttrain-auc:1.00000\tval-auc:0.93829\n",
      "[160]\ttrain-auc:1.00000\tval-auc:0.93836\n",
      "[165]\ttrain-auc:1.00000\tval-auc:0.93806\n",
      "[170]\ttrain-auc:1.00000\tval-auc:0.93873\n",
      "[175]\ttrain-auc:1.00000\tval-auc:0.93887\n",
      "[180]\ttrain-auc:1.00000\tval-auc:0.93865\n",
      "[185]\ttrain-auc:1.00000\tval-auc:0.93788\n",
      "[190]\ttrain-auc:1.00000\tval-auc:0.93769\n",
      "[195]\ttrain-auc:1.00000\tval-auc:0.93685\n",
      "[199]\ttrain-auc:1.00000\tval-auc:0.93697\n"
     ]
    }
   ],
   "source": [
    "xgb_params = {\n",
    "    'eta': 0.3, \n",
    "    'max_depth': 6,\n",
    "    'min_child_weight': 1,\n",
    "    \n",
    "    'objective': 'binary:logistic',\n",
    "    'eval_metric': 'auc',\n",
    "\n",
    "    'nthread': 8,\n",
    "    'seed': 1,\n",
    "    'verbosity': 1,\n",
    "}\n",
    "\n",
    "model = xgb.train(xgb_params, dtrain, num_boost_round=200,\n",
    "                  verbose_eval=5, #print with every 5 steps\n",
    "                  evals=watchlist)"
   ]
  },
  {
   "cell_type": "code",
   "execution_count": 169,
   "id": "272ece58",
   "metadata": {},
   "outputs": [],
   "source": [
    "%%capture output \n",
    "\n",
    "xgb_params = {\n",
    "    'eta': 0.3, \n",
    "    'max_depth': 6,\n",
    "    'min_child_weight': 1,\n",
    "    \n",
    "    'objective': 'binary:logistic',\n",
    "    'eval_metric': 'auc',\n",
    "\n",
    "    'nthread': 8,\n",
    "    'seed': 1,\n",
    "    'verbosity': 1,\n",
    "}\n",
    "\n",
    "model = xgb.train(xgb_params, dtrain, num_boost_round=200,\n",
    "                  verbose_eval=5, #print with every 5 steps\n",
    "                  evals=watchlist)"
   ]
  },
  {
   "cell_type": "code",
   "execution_count": 170,
   "id": "3048b4fb",
   "metadata": {},
   "outputs": [
    {
     "data": {
      "text/plain": [
       "'[0]\\ttrain-auc:0.95538\\tval-auc:0.94244\\n[5]\\ttrain-auc:0.98075\\tval-auc:0.95552\\n[10]\\ttrain-auc:0.98432\\tval-auc:0.95763\\n[15]\\ttrain-auc:0.99618\\tval-auc:0.95636\\n[20]\\ttrain-auc:0.99794\\tval-auc:0.95426\\n[25]\\ttrain-auc:0.99900\\tval-auc:0.95086\\n[30]\\ttrain-auc:0.99943\\tval-auc:0.94958\\n[35]\\ttrain-auc:0.99966\\tval-auc:0.94634\\n[40]\\ttrain-auc:0.99991\\tval-auc:0.94730\\n[45]\\ttrain-auc:0.99998\\tval-auc:0.94570\\n[50]\\ttrain-auc:0.99999\\tval-auc:0.94619\\n[55]\\ttrain-auc:1.00000\\tval-auc:0.94547\\n[60]\\ttrain-auc:1.00000\\tval-auc:0.94485\\n[65]\\ttrain-auc:1.00000\\tval-auc:0.94303\\n[70]\\ttrain-auc:1.00000\\tval-auc:0.94073\\n[75]\\ttrain-auc:1.00000\\tval-auc:0.94054\\n[80]\\ttrain-auc:1.00000\\tval-auc:0.93970\\n[85]\\ttrain-auc:1.00000\\tval-auc:0.93919\\n[90]\\ttrain-auc:1.00000\\tval-auc:0.93905\\n[95]\\ttrain-auc:1.00000\\tval-auc:0.93871\\n[100]\\ttrain-auc:1.00000\\tval-auc:0.93926\\n[105]\\ttrain-auc:1.00000\\tval-auc:0.93850\\n[110]\\ttrain-auc:1.00000\\tval-auc:0.93826\\n[115]\\ttrain-auc:1.00000\\tval-auc:0.93758\\n[120]\\ttrain-auc:1.00000\\tval-auc:0.93853\\n[125]\\ttrain-auc:1.00000\\tval-auc:0.93831\\n[130]\\ttrain-auc:1.00000\\tval-auc:0.93889\\n[135]\\ttrain-auc:1.00000\\tval-auc:0.93805\\n[140]\\ttrain-auc:1.00000\\tval-auc:0.93697\\n[145]\\ttrain-auc:1.00000\\tval-auc:0.93786\\n[150]\\ttrain-auc:1.00000\\tval-auc:0.93812\\n[155]\\ttrain-auc:1.00000\\tval-auc:0.93829\\n[160]\\ttrain-auc:1.00000\\tval-auc:0.93836\\n[165]\\ttrain-auc:1.00000\\tval-auc:0.93806\\n[170]\\ttrain-auc:1.00000\\tval-auc:0.93873\\n[175]\\ttrain-auc:1.00000\\tval-auc:0.93887\\n[180]\\ttrain-auc:1.00000\\tval-auc:0.93865\\n[185]\\ttrain-auc:1.00000\\tval-auc:0.93788\\n[190]\\ttrain-auc:1.00000\\tval-auc:0.93769\\n[195]\\ttrain-auc:1.00000\\tval-auc:0.93685\\n[199]\\ttrain-auc:1.00000\\tval-auc:0.93697\\n'"
      ]
     },
     "execution_count": 170,
     "metadata": {},
     "output_type": "execute_result"
    }
   ],
   "source": [
    "output.stdout"
   ]
  },
  {
   "cell_type": "code",
   "execution_count": 171,
   "id": "2186e82e",
   "metadata": {},
   "outputs": [],
   "source": [
    "s = output.stdout"
   ]
  },
  {
   "cell_type": "code",
   "execution_count": 172,
   "id": "55c95831",
   "metadata": {},
   "outputs": [
    {
     "name": "stdout",
     "output_type": "stream",
     "text": [
      "[0]\ttrain-auc:0.95538\tval-auc:0.94244\n",
      "[5]\ttrain-auc:0.98075\tval-auc:0.95552\n",
      "[10]\ttrain-auc:0.98432\tval-auc:0.95763\n",
      "[15]\ttrain-auc:0.99618\tval-auc:0.95636\n",
      "[20]\ttrain-auc:0.99794\tval-auc:0.95426\n",
      "[25]\ttrain-auc:0.99900\tval-auc:0.95086\n",
      "[30]\ttrain-auc:0.9\n"
     ]
    }
   ],
   "source": [
    "print(s[:250])"
   ]
  },
  {
   "cell_type": "markdown",
   "id": "4149409c",
   "metadata": {},
   "source": [
    "Temp"
   ]
  },
  {
   "cell_type": "code",
   "execution_count": 173,
   "id": "f6c8303a",
   "metadata": {},
   "outputs": [
    {
     "data": {
      "text/plain": [
       "['[0]\\ttrain-auc:0.95538\\tval-auc:0.94244',\n",
       " '[5]\\ttrain-auc:0.98075\\tval-auc:0.95552',\n",
       " '[10]\\ttrain-auc:0.98432\\tval-auc:0.95763',\n",
       " '[15]\\ttrain-auc:0.99618\\tval-auc:0.95636',\n",
       " '[20]\\ttrain-auc:0.99794\\tval-auc:0.95426']"
      ]
     },
     "execution_count": 173,
     "metadata": {},
     "output_type": "execute_result"
    }
   ],
   "source": [
    "s.split('\\n')[:5]"
   ]
  },
  {
   "cell_type": "code",
   "execution_count": 174,
   "id": "bb01981f",
   "metadata": {},
   "outputs": [
    {
     "data": {
      "text/plain": [
       "'[0]\\ttrain-auc:0.95538\\tval-auc:0.94244'"
      ]
     },
     "execution_count": 174,
     "metadata": {},
     "output_type": "execute_result"
    }
   ],
   "source": [
    "line = s.split('\\n')[0]\n",
    "line"
   ]
  },
  {
   "cell_type": "code",
   "execution_count": 175,
   "id": "0a62d92e",
   "metadata": {},
   "outputs": [
    {
     "data": {
      "text/plain": [
       "['[0]', 'train-auc:0.95538', 'val-auc:0.94244']"
      ]
     },
     "execution_count": 175,
     "metadata": {},
     "output_type": "execute_result"
    }
   ],
   "source": [
    "line.split('\\t')"
   ]
  },
  {
   "cell_type": "code",
   "execution_count": 176,
   "id": "0f104d30",
   "metadata": {},
   "outputs": [],
   "source": [
    "num_iter, train_auc, val_auc = line.split('\\t')"
   ]
  },
  {
   "cell_type": "code",
   "execution_count": 177,
   "id": "8578b940",
   "metadata": {},
   "outputs": [
    {
     "data": {
      "text/plain": [
       "0"
      ]
     },
     "execution_count": 177,
     "metadata": {},
     "output_type": "execute_result"
    }
   ],
   "source": [
    "int(num_iter.strip('[]'))"
   ]
  },
  {
   "cell_type": "markdown",
   "id": "1d8dbb67",
   "metadata": {},
   "source": [
    "##### Very good pattern!"
   ]
  },
  {
   "cell_type": "code",
   "execution_count": 178,
   "id": "06882687",
   "metadata": {},
   "outputs": [
    {
     "data": {
      "text/plain": [
       "0.95538"
      ]
     },
     "execution_count": 178,
     "metadata": {},
     "output_type": "execute_result"
    }
   ],
   "source": [
    "float(train_auc.split(':')[1])"
   ]
  },
  {
   "cell_type": "code",
   "execution_count": 179,
   "id": "580afbce",
   "metadata": {},
   "outputs": [
    {
     "data": {
      "text/plain": [
       "0.94244"
      ]
     },
     "execution_count": 179,
     "metadata": {},
     "output_type": "execute_result"
    }
   ],
   "source": [
    "float(val_auc.split(':')[1])"
   ]
  },
  {
   "cell_type": "code",
   "execution_count": null,
   "id": "e40dbcbd",
   "metadata": {},
   "outputs": [],
   "source": []
  },
  {
   "cell_type": "code",
   "execution_count": 180,
   "id": "666aa895",
   "metadata": {},
   "outputs": [],
   "source": [
    "def parse_xgb_output(output):\n",
    "    results = []\n",
    "\n",
    "    for line in output.stdout.strip().split('\\n'):\n",
    "        it_line, train_line, val_line = line.split('\\t')\n",
    "\n",
    "        it = int(it_line.strip('[]'))\n",
    "        train = float(train_line.split(':')[1])\n",
    "        val = float(val_line.split(':')[1])\n",
    "\n",
    "        results.append((it, train, val))\n",
    "    \n",
    "    columns = ['num_iter', 'train_auc', 'val_auc']\n",
    "    df_results = pd.DataFrame(results, columns=columns)\n",
    "    return df_results"
   ]
  },
  {
   "cell_type": "code",
   "execution_count": 181,
   "id": "5e36f19a",
   "metadata": {},
   "outputs": [],
   "source": [
    "df_score = parse_xgb_output(output)"
   ]
  },
  {
   "cell_type": "code",
   "execution_count": 182,
   "id": "b476ac15",
   "metadata": {},
   "outputs": [
    {
     "data": {
      "text/html": [
       "<div>\n",
       "<style scoped>\n",
       "    .dataframe tbody tr th:only-of-type {\n",
       "        vertical-align: middle;\n",
       "    }\n",
       "\n",
       "    .dataframe tbody tr th {\n",
       "        vertical-align: top;\n",
       "    }\n",
       "\n",
       "    .dataframe thead th {\n",
       "        text-align: right;\n",
       "    }\n",
       "</style>\n",
       "<table border=\"1\" class=\"dataframe\">\n",
       "  <thead>\n",
       "    <tr style=\"text-align: right;\">\n",
       "      <th></th>\n",
       "      <th>num_iter</th>\n",
       "      <th>train_auc</th>\n",
       "      <th>val_auc</th>\n",
       "    </tr>\n",
       "  </thead>\n",
       "  <tbody>\n",
       "    <tr>\n",
       "      <th>0</th>\n",
       "      <td>0</td>\n",
       "      <td>0.95538</td>\n",
       "      <td>0.94244</td>\n",
       "    </tr>\n",
       "    <tr>\n",
       "      <th>1</th>\n",
       "      <td>5</td>\n",
       "      <td>0.98075</td>\n",
       "      <td>0.95552</td>\n",
       "    </tr>\n",
       "    <tr>\n",
       "      <th>2</th>\n",
       "      <td>10</td>\n",
       "      <td>0.98432</td>\n",
       "      <td>0.95763</td>\n",
       "    </tr>\n",
       "    <tr>\n",
       "      <th>3</th>\n",
       "      <td>15</td>\n",
       "      <td>0.99618</td>\n",
       "      <td>0.95636</td>\n",
       "    </tr>\n",
       "    <tr>\n",
       "      <th>4</th>\n",
       "      <td>20</td>\n",
       "      <td>0.99794</td>\n",
       "      <td>0.95426</td>\n",
       "    </tr>\n",
       "    <tr>\n",
       "      <th>5</th>\n",
       "      <td>25</td>\n",
       "      <td>0.99900</td>\n",
       "      <td>0.95086</td>\n",
       "    </tr>\n",
       "    <tr>\n",
       "      <th>6</th>\n",
       "      <td>30</td>\n",
       "      <td>0.99943</td>\n",
       "      <td>0.94958</td>\n",
       "    </tr>\n",
       "    <tr>\n",
       "      <th>7</th>\n",
       "      <td>35</td>\n",
       "      <td>0.99966</td>\n",
       "      <td>0.94634</td>\n",
       "    </tr>\n",
       "    <tr>\n",
       "      <th>8</th>\n",
       "      <td>40</td>\n",
       "      <td>0.99991</td>\n",
       "      <td>0.94730</td>\n",
       "    </tr>\n",
       "    <tr>\n",
       "      <th>9</th>\n",
       "      <td>45</td>\n",
       "      <td>0.99998</td>\n",
       "      <td>0.94570</td>\n",
       "    </tr>\n",
       "    <tr>\n",
       "      <th>10</th>\n",
       "      <td>50</td>\n",
       "      <td>0.99999</td>\n",
       "      <td>0.94619</td>\n",
       "    </tr>\n",
       "    <tr>\n",
       "      <th>11</th>\n",
       "      <td>55</td>\n",
       "      <td>1.00000</td>\n",
       "      <td>0.94547</td>\n",
       "    </tr>\n",
       "    <tr>\n",
       "      <th>12</th>\n",
       "      <td>60</td>\n",
       "      <td>1.00000</td>\n",
       "      <td>0.94485</td>\n",
       "    </tr>\n",
       "    <tr>\n",
       "      <th>13</th>\n",
       "      <td>65</td>\n",
       "      <td>1.00000</td>\n",
       "      <td>0.94303</td>\n",
       "    </tr>\n",
       "    <tr>\n",
       "      <th>14</th>\n",
       "      <td>70</td>\n",
       "      <td>1.00000</td>\n",
       "      <td>0.94073</td>\n",
       "    </tr>\n",
       "  </tbody>\n",
       "</table>\n",
       "</div>"
      ],
      "text/plain": [
       "    num_iter  train_auc  val_auc\n",
       "0          0    0.95538  0.94244\n",
       "1          5    0.98075  0.95552\n",
       "2         10    0.98432  0.95763\n",
       "3         15    0.99618  0.95636\n",
       "4         20    0.99794  0.95426\n",
       "5         25    0.99900  0.95086\n",
       "6         30    0.99943  0.94958\n",
       "7         35    0.99966  0.94634\n",
       "8         40    0.99991  0.94730\n",
       "9         45    0.99998  0.94570\n",
       "10        50    0.99999  0.94619\n",
       "11        55    1.00000  0.94547\n",
       "12        60    1.00000  0.94485\n",
       "13        65    1.00000  0.94303\n",
       "14        70    1.00000  0.94073"
      ]
     },
     "execution_count": 182,
     "metadata": {},
     "output_type": "execute_result"
    }
   ],
   "source": [
    "df_score.head(15)"
   ]
  },
  {
   "cell_type": "code",
   "execution_count": 183,
   "id": "072b2dfb",
   "metadata": {},
   "outputs": [
    {
     "data": {
      "text/plain": [
       "<matplotlib.legend.Legend at 0x23db1ff8af0>"
      ]
     },
     "execution_count": 183,
     "metadata": {},
     "output_type": "execute_result"
    },
    {
     "data": {
      "image/png": "[encoded data removed]",
      "text/plain": [
       "<Figure size 432x288 with 1 Axes>"
      ]
     },
     "metadata": {
      "needs_background": "light"
     },
     "output_type": "display_data"
    }
   ],
   "source": [
    "plt.plot(df_score.num_iter, df_score.train_auc, label='train')\n",
    "plt.plot(df_score.num_iter, df_score.val_auc, label='val')\n",
    "plt.legend()"
   ]
  },
  {
   "cell_type": "code",
   "execution_count": 184,
   "id": "82237681",
   "metadata": {},
   "outputs": [
    {
     "data": {
      "text/plain": [
       "<matplotlib.legend.Legend at 0x23db2002400>"
      ]
     },
     "execution_count": 184,
     "metadata": {},
     "output_type": "execute_result"
    },
    {
     "data": {
      "image/png": "[encoded data removed]",
      "text/plain": [
       "<Figure size 432x288 with 1 Axes>"
      ]
     },
     "metadata": {
      "needs_background": "light"
     },
     "output_type": "display_data"
    }
   ],
   "source": [
    "plt.plot(df_score.num_iter, df_score.val_auc, label='val')\n",
    "plt.legend()"
   ]
  },
  {
   "cell_type": "markdown",
   "id": "0ef53e5a",
   "metadata": {},
   "source": [
    "### XGBoost parameter tuning"
   ]
  },
  {
   "cell_type": "code",
   "execution_count": 185,
   "id": "1721a922",
   "metadata": {},
   "outputs": [],
   "source": [
    "xgb_params = {\n",
    "    'eta': 1.0, \n",
    "    'max_depth': 6,\n",
    "    'min_child_weight': 1,\n",
    "    \n",
    "    'objective': 'binary:logistic',\n",
    "    'eval_metric': 'auc',\n",
    "\n",
    "    'nthread': 8,\n",
    "    'seed': 1,\n",
    "    'verbosity': 1,\n",
    "}\n",
    "\n",
    "model_ = xgb.train(xgb_params, dtrain, num_boost_round=200)"
   ]
  },
  {
   "cell_type": "code",
   "execution_count": 186,
   "id": "a6d91fd5",
   "metadata": {},
   "outputs": [
    {
     "data": {
      "text/plain": [
       "0.9369652784713205"
      ]
     },
     "execution_count": 186,
     "metadata": {},
     "output_type": "execute_result"
    }
   ],
   "source": [
    "y_pred_xgb = model.predict(dval)\n",
    "roc_auc_score(y_val, y_pred_xgb)"
   ]
  },
  {
   "cell_type": "markdown",
   "id": "70a9e816",
   "metadata": {},
   "source": [
    "- This is a roc_auc_score with default parameters"
   ]
  },
  {
   "cell_type": "code",
   "execution_count": null,
   "id": "e8352cc5",
   "metadata": {},
   "outputs": [],
   "source": []
  },
  {
   "cell_type": "markdown",
   "id": "d6205d7b",
   "metadata": {},
   "source": [
    "#### XGBoost parameters tuning"
   ]
  },
  {
   "cell_type": "markdown",
   "id": "7709c978",
   "metadata": {},
   "source": [
    "Let's make the fit with different eta\n",
    "- 0.01\n",
    "- 0.05\n",
    "- 0.1\n",
    "- 0.3\n",
    "- 0.5\n",
    "- 1.0"
   ]
  },
  {
   "cell_type": "code",
   "execution_count": 187,
   "id": "e1d35311",
   "metadata": {},
   "outputs": [],
   "source": [
    "scores = {}"
   ]
  },
  {
   "cell_type": "code",
   "execution_count": 230,
   "id": "24e32f17",
   "metadata": {},
   "outputs": [],
   "source": [
    "%%capture output\n",
    "\n",
    "xgb_params = {\n",
    "    'eta': 1.0, \n",
    "    'max_depth': 6,\n",
    "    'min_child_weight': 1,\n",
    "    \n",
    "    'objective': 'binary:logistic',\n",
    "    'eval_metric': 'auc',\n",
    "\n",
    "    'nthread': 8,\n",
    "    'seed': 1,\n",
    "    'verbosity': 1,\n",
    "}\n",
    "\n",
    "model = xgb.train(xgb_params, dtrain, num_boost_round=200,\n",
    "                  verbose_eval=5,\n",
    "                  evals=watchlist)"
   ]
  },
  {
   "cell_type": "code",
   "execution_count": 231,
   "id": "0ec1f87b",
   "metadata": {},
   "outputs": [
    {
     "data": {
      "text/plain": [
       "'eta=1.0'"
      ]
     },
     "execution_count": 231,
     "metadata": {},
     "output_type": "execute_result"
    }
   ],
   "source": [
    "key = 'eta=%s' % (xgb_params['eta'])\n",
    "scores[key] = parse_xgb_output(output)\n",
    "key"
   ]
  },
  {
   "cell_type": "code",
   "execution_count": 232,
   "id": "9da0f733",
   "metadata": {},
   "outputs": [
    {
     "data": {
      "text/plain": [
       "dict_keys(['eta=0.01', 'eta=0.05', 'eta=0.1', 'eta=0.3', 'eta=0.5', 'eta=1.0'])"
      ]
     },
     "execution_count": 232,
     "metadata": {},
     "output_type": "execute_result"
    }
   ],
   "source": [
    "scores.keys()"
   ]
  },
  {
   "cell_type": "code",
   "execution_count": 233,
   "id": "ae00c18f",
   "metadata": {},
   "outputs": [
    {
     "data": {
      "text/plain": [
       "dict_items([('eta=0.01',     num_iter  train_auc  val_auc\n",
       "0          0    0.95538  0.94244\n",
       "1          5    0.95528  0.94158\n",
       "2         10    0.96288  0.94405\n",
       "3         15    0.96360  0.94505\n",
       "4         20    0.96387  0.94548\n",
       "5         25    0.96403  0.94577\n",
       "6         30    0.96470  0.94636\n",
       "7         35    0.96494  0.94694\n",
       "8         40    0.96724  0.94681\n",
       "9         45    0.96742  0.94693\n",
       "10        50    0.96768  0.95507\n",
       "11        55    0.96809  0.95557\n",
       "12        60    0.97283  0.95631\n",
       "13        65    0.97338  0.95633\n",
       "14        70    0.97368  0.95649\n",
       "15        75    0.97395  0.95711\n",
       "16        80    0.97448  0.95696\n",
       "17        85    0.97452  0.95709\n",
       "18        90    0.97460  0.95701\n",
       "19        95    0.97465  0.95725\n",
       "20       100    0.97470  0.95722\n",
       "21       105    0.97485  0.95733\n",
       "22       110    0.97488  0.95746\n",
       "23       115    0.97497  0.95741\n",
       "24       120    0.97496  0.95725\n",
       "25       125    0.97504  0.95725\n",
       "26       130    0.97537  0.95669\n",
       "27       135    0.97554  0.95656\n",
       "28       140    0.97566  0.95664\n",
       "29       145    0.97579  0.95667\n",
       "30       150    0.97931  0.95615\n",
       "31       155    0.97994  0.95604\n",
       "32       160    0.98014  0.95613\n",
       "33       165    0.98037  0.95632\n",
       "34       170    0.98061  0.95661\n",
       "35       175    0.98085  0.95667\n",
       "36       180    0.98103  0.95670\n",
       "37       185    0.98115  0.95652\n",
       "38       190    0.98134  0.95646\n",
       "39       195    0.98150  0.95662\n",
       "40       199    0.98164  0.95658), ('eta=0.05',     num_iter  train_auc  val_auc\n",
       "0          0    0.95538  0.94244\n",
       "1          5    0.96388  0.94591\n",
       "2         10    0.96751  0.95540\n",
       "3         15    0.97414  0.95664\n",
       "4         20    0.97474  0.95678\n",
       "5         25    0.97527  0.95617\n",
       "6         30    0.97932  0.95587\n",
       "7         35    0.98065  0.95641\n",
       "8         40    0.98165  0.95649\n",
       "9         45    0.98241  0.95664\n",
       "10        50    0.98297  0.95709\n",
       "11        55    0.98356  0.95728\n",
       "12        60    0.98401  0.95733\n",
       "13        65    0.98432  0.95758\n",
       "14        70    0.98453  0.95738\n",
       "15        75    0.99058  0.95609\n",
       "16        80    0.99408  0.95914\n",
       "17        85    0.99511  0.95796\n",
       "18        90    0.99569  0.95681\n",
       "19        95    0.99590  0.95915\n",
       "20       100    0.99606  0.95687\n",
       "21       105    0.99645  0.95974\n",
       "22       110    0.99663  0.95765\n",
       "23       115    0.99686  0.96159\n",
       "24       120    0.99718  0.96030\n",
       "25       125    0.99739  0.96033\n",
       "26       130    0.99760  0.96033\n",
       "27       135    0.99781  0.96009\n",
       "28       140    0.99800  0.95935\n",
       "29       145    0.99814  0.95865\n",
       "30       150    0.99832  0.95831\n",
       "31       155    0.99848  0.95798\n",
       "32       160    0.99861  0.95738\n",
       "33       165    0.99873  0.95645\n",
       "34       170    0.99882  0.95567\n",
       "35       175    0.99890  0.95439\n",
       "36       180    0.99894  0.95288\n",
       "37       185    0.99901  0.95209\n",
       "38       190    0.99909  0.95204\n",
       "39       195    0.99914  0.95163\n",
       "40       199    0.99922  0.95118), ('eta=0.1',     num_iter  train_auc  val_auc\n",
       "0          0    0.95538  0.94244\n",
       "1          5    0.96733  0.95498\n",
       "2         10    0.97448  0.95627\n",
       "3         15    0.97996  0.95579\n",
       "4         20    0.98174  0.95649\n",
       "5         25    0.98333  0.95718\n",
       "6         30    0.98392  0.95763\n",
       "7         35    0.98450  0.95700\n",
       "8         40    0.99410  0.95875\n",
       "9         45    0.99573  0.95638\n",
       "10        50    0.99650  0.95753\n",
       "11        55    0.99692  0.95703\n",
       "12        60    0.99732  0.95815\n",
       "13        65    0.99769  0.95966\n",
       "14        70    0.99797  0.96082\n",
       "15        75    0.99831  0.96072\n",
       "16        80    0.99861  0.95980\n",
       "17        85    0.99884  0.95952\n",
       "18        90    0.99900  0.95723\n",
       "19        95    0.99910  0.95611\n",
       "20       100    0.99923  0.95396\n",
       "21       105    0.99934  0.95267\n",
       "22       110    0.99946  0.95140\n",
       "23       115    0.99956  0.95054\n",
       "24       120    0.99964  0.94924\n",
       "25       125    0.99970  0.94932\n",
       "26       130    0.99975  0.94878\n",
       "27       135    0.99977  0.94813\n",
       "28       140    0.99981  0.94699\n",
       "29       145    0.99984  0.94545\n",
       "30       150    0.99989  0.94451\n",
       "31       155    0.99992  0.94490\n",
       "32       160    0.99994  0.94457\n",
       "33       165    0.99996  0.94469\n",
       "34       170    0.99997  0.94491\n",
       "35       175    0.99998  0.94444\n",
       "36       180    0.99999  0.94400\n",
       "37       185    0.99999  0.94348\n",
       "38       190    1.00000  0.94307\n",
       "39       195    1.00000  0.94216\n",
       "40       199    1.00000  0.94128), ('eta=0.3',     num_iter  train_auc  val_auc\n",
       "0          0    0.95538  0.94244\n",
       "1          5    0.98075  0.95552\n",
       "2         10    0.98432  0.95763\n",
       "3         15    0.99618  0.95636\n",
       "4         20    0.99794  0.95426\n",
       "5         25    0.99900  0.95086\n",
       "6         30    0.99943  0.94958\n",
       "7         35    0.99966  0.94634\n",
       "8         40    0.99991  0.94730\n",
       "9         45    0.99998  0.94570\n",
       "10        50    0.99999  0.94619\n",
       "11        55    1.00000  0.94547\n",
       "12        60    1.00000  0.94485\n",
       "13        65    1.00000  0.94303\n",
       "14        70    1.00000  0.94073\n",
       "15        75    1.00000  0.94054\n",
       "16        80    1.00000  0.93970\n",
       "17        85    1.00000  0.93919\n",
       "18        90    1.00000  0.93905\n",
       "19        95    1.00000  0.93871\n",
       "20       100    1.00000  0.93926\n",
       "21       105    1.00000  0.93850\n",
       "22       110    1.00000  0.93826\n",
       "23       115    1.00000  0.93758\n",
       "24       120    1.00000  0.93853\n",
       "25       125    1.00000  0.93831\n",
       "26       130    1.00000  0.93889\n",
       "27       135    1.00000  0.93805\n",
       "28       140    1.00000  0.93697\n",
       "29       145    1.00000  0.93786\n",
       "30       150    1.00000  0.93812\n",
       "31       155    1.00000  0.93829\n",
       "32       160    1.00000  0.93836\n",
       "33       165    1.00000  0.93806\n",
       "34       170    1.00000  0.93873\n",
       "35       175    1.00000  0.93887\n",
       "36       180    1.00000  0.93865\n",
       "37       185    1.00000  0.93788\n",
       "38       190    1.00000  0.93769\n",
       "39       195    1.00000  0.93685\n",
       "40       199    1.00000  0.93697), ('eta=0.5',     num_iter  train_auc  val_auc\n",
       "0          0    0.95538  0.94244\n",
       "1          5    0.98350  0.95638\n",
       "2         10    0.99630  0.95509\n",
       "3         15    0.99863  0.95563\n",
       "4         20    0.99919  0.94854\n",
       "5         25    0.99982  0.94972\n",
       "6         30    0.99999  0.94634\n",
       "7         35    1.00000  0.94453\n",
       "8         40    1.00000  0.94695\n",
       "9         45    1.00000  0.94477\n",
       "10        50    1.00000  0.94352\n",
       "11        55    1.00000  0.94211\n",
       "12        60    1.00000  0.94241\n",
       "13        65    1.00000  0.94205\n",
       "14        70    1.00000  0.94090\n",
       "15        75    1.00000  0.94009\n",
       "16        80    1.00000  0.93953\n",
       "17        85    1.00000  0.93969\n",
       "18        90    1.00000  0.93920\n",
       "19        95    1.00000  0.93774\n",
       "20       100    1.00000  0.93658\n",
       "21       105    1.00000  0.93693\n",
       "22       110    1.00000  0.93692\n",
       "23       115    1.00000  0.93642\n",
       "24       120    1.00000  0.93631\n",
       "25       125    1.00000  0.93526\n",
       "26       130    1.00000  0.93544\n",
       "27       135    1.00000  0.93486\n",
       "28       140    1.00000  0.93534\n",
       "29       145    1.00000  0.93545\n",
       "30       150    1.00000  0.93534\n",
       "31       155    1.00000  0.93488\n",
       "32       160    1.00000  0.93444\n",
       "33       165    1.00000  0.93514\n",
       "34       170    1.00000  0.93533\n",
       "35       175    1.00000  0.93526\n",
       "36       180    1.00000  0.93528\n",
       "37       185    1.00000  0.93513\n",
       "38       190    1.00000  0.93514\n",
       "39       195    1.00000  0.93537\n",
       "40       199    1.00000  0.93532), ('eta=1.0',     num_iter  train_auc  val_auc\n",
       "0          0    0.95538  0.94244\n",
       "1          5    0.99663  0.95838\n",
       "2         10    0.99983  0.94903\n",
       "3         15    1.00000  0.94441\n",
       "4         20    1.00000  0.94478\n",
       "5         25    1.00000  0.94370\n",
       "6         30    1.00000  0.94289\n",
       "7         35    1.00000  0.94264\n",
       "8         40    1.00000  0.93817\n",
       "9         45    1.00000  0.93995\n",
       "10        50    1.00000  0.93857\n",
       "11        55    1.00000  0.93803\n",
       "12        60    1.00000  0.93729\n",
       "13        65    1.00000  0.93755\n",
       "14        70    1.00000  0.93682\n",
       "15        75    1.00000  0.93736\n",
       "16        80    1.00000  0.93741\n",
       "17        85    1.00000  0.93645\n",
       "18        90    1.00000  0.93685\n",
       "19        95    1.00000  0.93702\n",
       "20       100    1.00000  0.93674\n",
       "21       105    1.00000  0.93741\n",
       "22       110    1.00000  0.93693\n",
       "23       115    1.00000  0.93700\n",
       "24       120    1.00000  0.93702\n",
       "25       125    1.00000  0.93703\n",
       "26       130    1.00000  0.93722\n",
       "27       135    1.00000  0.93750\n",
       "28       140    1.00000  0.93712\n",
       "29       145    1.00000  0.93702\n",
       "30       150    1.00000  0.93625\n",
       "31       155    1.00000  0.93564\n",
       "32       160    1.00000  0.93557\n",
       "33       165    1.00000  0.93582\n",
       "34       170    1.00000  0.93493\n",
       "35       175    1.00000  0.93520\n",
       "36       180    1.00000  0.93513\n",
       "37       185    1.00000  0.93541\n",
       "38       190    1.00000  0.93457\n",
       "39       195    1.00000  0.93421\n",
       "40       199    1.00000  0.93434)])"
      ]
     },
     "execution_count": 233,
     "metadata": {},
     "output_type": "execute_result"
    }
   ],
   "source": [
    "scores.items()"
   ]
  },
  {
   "cell_type": "code",
   "execution_count": 234,
   "id": "11d35988",
   "metadata": {},
   "outputs": [
    {
     "data": {
      "text/html": [
       "<div>\n",
       "<style scoped>\n",
       "    .dataframe tbody tr th:only-of-type {\n",
       "        vertical-align: middle;\n",
       "    }\n",
       "\n",
       "    .dataframe tbody tr th {\n",
       "        vertical-align: top;\n",
       "    }\n",
       "\n",
       "    .dataframe thead th {\n",
       "        text-align: right;\n",
       "    }\n",
       "</style>\n",
       "<table border=\"1\" class=\"dataframe\">\n",
       "  <thead>\n",
       "    <tr style=\"text-align: right;\">\n",
       "      <th></th>\n",
       "      <th>num_iter</th>\n",
       "      <th>train_auc</th>\n",
       "      <th>val_auc</th>\n",
       "    </tr>\n",
       "  </thead>\n",
       "  <tbody>\n",
       "    <tr>\n",
       "      <th>0</th>\n",
       "      <td>0</td>\n",
       "      <td>0.95538</td>\n",
       "      <td>0.94244</td>\n",
       "    </tr>\n",
       "    <tr>\n",
       "      <th>1</th>\n",
       "      <td>5</td>\n",
       "      <td>0.95528</td>\n",
       "      <td>0.94158</td>\n",
       "    </tr>\n",
       "    <tr>\n",
       "      <th>2</th>\n",
       "      <td>10</td>\n",
       "      <td>0.96288</td>\n",
       "      <td>0.94405</td>\n",
       "    </tr>\n",
       "    <tr>\n",
       "      <th>3</th>\n",
       "      <td>15</td>\n",
       "      <td>0.96360</td>\n",
       "      <td>0.94505</td>\n",
       "    </tr>\n",
       "    <tr>\n",
       "      <th>4</th>\n",
       "      <td>20</td>\n",
       "      <td>0.96387</td>\n",
       "      <td>0.94548</td>\n",
       "    </tr>\n",
       "    <tr>\n",
       "      <th>5</th>\n",
       "      <td>25</td>\n",
       "      <td>0.96403</td>\n",
       "      <td>0.94577</td>\n",
       "    </tr>\n",
       "    <tr>\n",
       "      <th>6</th>\n",
       "      <td>30</td>\n",
       "      <td>0.96470</td>\n",
       "      <td>0.94636</td>\n",
       "    </tr>\n",
       "    <tr>\n",
       "      <th>7</th>\n",
       "      <td>35</td>\n",
       "      <td>0.96494</td>\n",
       "      <td>0.94694</td>\n",
       "    </tr>\n",
       "    <tr>\n",
       "      <th>8</th>\n",
       "      <td>40</td>\n",
       "      <td>0.96724</td>\n",
       "      <td>0.94681</td>\n",
       "    </tr>\n",
       "    <tr>\n",
       "      <th>9</th>\n",
       "      <td>45</td>\n",
       "      <td>0.96742</td>\n",
       "      <td>0.94693</td>\n",
       "    </tr>\n",
       "  </tbody>\n",
       "</table>\n",
       "</div>"
      ],
      "text/plain": [
       "   num_iter  train_auc  val_auc\n",
       "0         0    0.95538  0.94244\n",
       "1         5    0.95528  0.94158\n",
       "2        10    0.96288  0.94405\n",
       "3        15    0.96360  0.94505\n",
       "4        20    0.96387  0.94548\n",
       "5        25    0.96403  0.94577\n",
       "6        30    0.96470  0.94636\n",
       "7        35    0.96494  0.94694\n",
       "8        40    0.96724  0.94681\n",
       "9        45    0.96742  0.94693"
      ]
     },
     "execution_count": 234,
     "metadata": {},
     "output_type": "execute_result"
    }
   ],
   "source": [
    "scores['eta=0.01'].head(10)"
   ]
  },
  {
   "cell_type": "code",
   "execution_count": 235,
   "id": "0a7028d6",
   "metadata": {},
   "outputs": [
    {
     "data": {
      "text/plain": [
       "{'eta=0.01':     num_iter  train_auc  val_auc\n",
       " 0          0    0.95538  0.94244\n",
       " 1          5    0.95528  0.94158\n",
       " 2         10    0.96288  0.94405\n",
       " 3         15    0.96360  0.94505\n",
       " 4         20    0.96387  0.94548\n",
       " 5         25    0.96403  0.94577\n",
       " 6         30    0.96470  0.94636\n",
       " 7         35    0.96494  0.94694\n",
       " 8         40    0.96724  0.94681\n",
       " 9         45    0.96742  0.94693\n",
       " 10        50    0.96768  0.95507\n",
       " 11        55    0.96809  0.95557\n",
       " 12        60    0.97283  0.95631\n",
       " 13        65    0.97338  0.95633\n",
       " 14        70    0.97368  0.95649\n",
       " 15        75    0.97395  0.95711\n",
       " 16        80    0.97448  0.95696\n",
       " 17        85    0.97452  0.95709\n",
       " 18        90    0.97460  0.95701\n",
       " 19        95    0.97465  0.95725\n",
       " 20       100    0.97470  0.95722\n",
       " 21       105    0.97485  0.95733\n",
       " 22       110    0.97488  0.95746\n",
       " 23       115    0.97497  0.95741\n",
       " 24       120    0.97496  0.95725\n",
       " 25       125    0.97504  0.95725\n",
       " 26       130    0.97537  0.95669\n",
       " 27       135    0.97554  0.95656\n",
       " 28       140    0.97566  0.95664\n",
       " 29       145    0.97579  0.95667\n",
       " 30       150    0.97931  0.95615\n",
       " 31       155    0.97994  0.95604\n",
       " 32       160    0.98014  0.95613\n",
       " 33       165    0.98037  0.95632\n",
       " 34       170    0.98061  0.95661\n",
       " 35       175    0.98085  0.95667\n",
       " 36       180    0.98103  0.95670\n",
       " 37       185    0.98115  0.95652\n",
       " 38       190    0.98134  0.95646\n",
       " 39       195    0.98150  0.95662\n",
       " 40       199    0.98164  0.95658,\n",
       " 'eta=0.05':     num_iter  train_auc  val_auc\n",
       " 0          0    0.95538  0.94244\n",
       " 1          5    0.96388  0.94591\n",
       " 2         10    0.96751  0.95540\n",
       " 3         15    0.97414  0.95664\n",
       " 4         20    0.97474  0.95678\n",
       " 5         25    0.97527  0.95617\n",
       " 6         30    0.97932  0.95587\n",
       " 7         35    0.98065  0.95641\n",
       " 8         40    0.98165  0.95649\n",
       " 9         45    0.98241  0.95664\n",
       " 10        50    0.98297  0.95709\n",
       " 11        55    0.98356  0.95728\n",
       " 12        60    0.98401  0.95733\n",
       " 13        65    0.98432  0.95758\n",
       " 14        70    0.98453  0.95738\n",
       " 15        75    0.99058  0.95609\n",
       " 16        80    0.99408  0.95914\n",
       " 17        85    0.99511  0.95796\n",
       " 18        90    0.99569  0.95681\n",
       " 19        95    0.99590  0.95915\n",
       " 20       100    0.99606  0.95687\n",
       " 21       105    0.99645  0.95974\n",
       " 22       110    0.99663  0.95765\n",
       " 23       115    0.99686  0.96159\n",
       " 24       120    0.99718  0.96030\n",
       " 25       125    0.99739  0.96033\n",
       " 26       130    0.99760  0.96033\n",
       " 27       135    0.99781  0.96009\n",
       " 28       140    0.99800  0.95935\n",
       " 29       145    0.99814  0.95865\n",
       " 30       150    0.99832  0.95831\n",
       " 31       155    0.99848  0.95798\n",
       " 32       160    0.99861  0.95738\n",
       " 33       165    0.99873  0.95645\n",
       " 34       170    0.99882  0.95567\n",
       " 35       175    0.99890  0.95439\n",
       " 36       180    0.99894  0.95288\n",
       " 37       185    0.99901  0.95209\n",
       " 38       190    0.99909  0.95204\n",
       " 39       195    0.99914  0.95163\n",
       " 40       199    0.99922  0.95118,\n",
       " 'eta=0.1':     num_iter  train_auc  val_auc\n",
       " 0          0    0.95538  0.94244\n",
       " 1          5    0.96733  0.95498\n",
       " 2         10    0.97448  0.95627\n",
       " 3         15    0.97996  0.95579\n",
       " 4         20    0.98174  0.95649\n",
       " 5         25    0.98333  0.95718\n",
       " 6         30    0.98392  0.95763\n",
       " 7         35    0.98450  0.95700\n",
       " 8         40    0.99410  0.95875\n",
       " 9         45    0.99573  0.95638\n",
       " 10        50    0.99650  0.95753\n",
       " 11        55    0.99692  0.95703\n",
       " 12        60    0.99732  0.95815\n",
       " 13        65    0.99769  0.95966\n",
       " 14        70    0.99797  0.96082\n",
       " 15        75    0.99831  0.96072\n",
       " 16        80    0.99861  0.95980\n",
       " 17        85    0.99884  0.95952\n",
       " 18        90    0.99900  0.95723\n",
       " 19        95    0.99910  0.95611\n",
       " 20       100    0.99923  0.95396\n",
       " 21       105    0.99934  0.95267\n",
       " 22       110    0.99946  0.95140\n",
       " 23       115    0.99956  0.95054\n",
       " 24       120    0.99964  0.94924\n",
       " 25       125    0.99970  0.94932\n",
       " 26       130    0.99975  0.94878\n",
       " 27       135    0.99977  0.94813\n",
       " 28       140    0.99981  0.94699\n",
       " 29       145    0.99984  0.94545\n",
       " 30       150    0.99989  0.94451\n",
       " 31       155    0.99992  0.94490\n",
       " 32       160    0.99994  0.94457\n",
       " 33       165    0.99996  0.94469\n",
       " 34       170    0.99997  0.94491\n",
       " 35       175    0.99998  0.94444\n",
       " 36       180    0.99999  0.94400\n",
       " 37       185    0.99999  0.94348\n",
       " 38       190    1.00000  0.94307\n",
       " 39       195    1.00000  0.94216\n",
       " 40       199    1.00000  0.94128,\n",
       " 'eta=0.3':     num_iter  train_auc  val_auc\n",
       " 0          0    0.95538  0.94244\n",
       " 1          5    0.98075  0.95552\n",
       " 2         10    0.98432  0.95763\n",
       " 3         15    0.99618  0.95636\n",
       " 4         20    0.99794  0.95426\n",
       " 5         25    0.99900  0.95086\n",
       " 6         30    0.99943  0.94958\n",
       " 7         35    0.99966  0.94634\n",
       " 8         40    0.99991  0.94730\n",
       " 9         45    0.99998  0.94570\n",
       " 10        50    0.99999  0.94619\n",
       " 11        55    1.00000  0.94547\n",
       " 12        60    1.00000  0.94485\n",
       " 13        65    1.00000  0.94303\n",
       " 14        70    1.00000  0.94073\n",
       " 15        75    1.00000  0.94054\n",
       " 16        80    1.00000  0.93970\n",
       " 17        85    1.00000  0.93919\n",
       " 18        90    1.00000  0.93905\n",
       " 19        95    1.00000  0.93871\n",
       " 20       100    1.00000  0.93926\n",
       " 21       105    1.00000  0.93850\n",
       " 22       110    1.00000  0.93826\n",
       " 23       115    1.00000  0.93758\n",
       " 24       120    1.00000  0.93853\n",
       " 25       125    1.00000  0.93831\n",
       " 26       130    1.00000  0.93889\n",
       " 27       135    1.00000  0.93805\n",
       " 28       140    1.00000  0.93697\n",
       " 29       145    1.00000  0.93786\n",
       " 30       150    1.00000  0.93812\n",
       " 31       155    1.00000  0.93829\n",
       " 32       160    1.00000  0.93836\n",
       " 33       165    1.00000  0.93806\n",
       " 34       170    1.00000  0.93873\n",
       " 35       175    1.00000  0.93887\n",
       " 36       180    1.00000  0.93865\n",
       " 37       185    1.00000  0.93788\n",
       " 38       190    1.00000  0.93769\n",
       " 39       195    1.00000  0.93685\n",
       " 40       199    1.00000  0.93697,\n",
       " 'eta=0.5':     num_iter  train_auc  val_auc\n",
       " 0          0    0.95538  0.94244\n",
       " 1          5    0.98350  0.95638\n",
       " 2         10    0.99630  0.95509\n",
       " 3         15    0.99863  0.95563\n",
       " 4         20    0.99919  0.94854\n",
       " 5         25    0.99982  0.94972\n",
       " 6         30    0.99999  0.94634\n",
       " 7         35    1.00000  0.94453\n",
       " 8         40    1.00000  0.94695\n",
       " 9         45    1.00000  0.94477\n",
       " 10        50    1.00000  0.94352\n",
       " 11        55    1.00000  0.94211\n",
       " 12        60    1.00000  0.94241\n",
       " 13        65    1.00000  0.94205\n",
       " 14        70    1.00000  0.94090\n",
       " 15        75    1.00000  0.94009\n",
       " 16        80    1.00000  0.93953\n",
       " 17        85    1.00000  0.93969\n",
       " 18        90    1.00000  0.93920\n",
       " 19        95    1.00000  0.93774\n",
       " 20       100    1.00000  0.93658\n",
       " 21       105    1.00000  0.93693\n",
       " 22       110    1.00000  0.93692\n",
       " 23       115    1.00000  0.93642\n",
       " 24       120    1.00000  0.93631\n",
       " 25       125    1.00000  0.93526\n",
       " 26       130    1.00000  0.93544\n",
       " 27       135    1.00000  0.93486\n",
       " 28       140    1.00000  0.93534\n",
       " 29       145    1.00000  0.93545\n",
       " 30       150    1.00000  0.93534\n",
       " 31       155    1.00000  0.93488\n",
       " 32       160    1.00000  0.93444\n",
       " 33       165    1.00000  0.93514\n",
       " 34       170    1.00000  0.93533\n",
       " 35       175    1.00000  0.93526\n",
       " 36       180    1.00000  0.93528\n",
       " 37       185    1.00000  0.93513\n",
       " 38       190    1.00000  0.93514\n",
       " 39       195    1.00000  0.93537\n",
       " 40       199    1.00000  0.93532,\n",
       " 'eta=1.0':     num_iter  train_auc  val_auc\n",
       " 0          0    0.95538  0.94244\n",
       " 1          5    0.99663  0.95838\n",
       " 2         10    0.99983  0.94903\n",
       " 3         15    1.00000  0.94441\n",
       " 4         20    1.00000  0.94478\n",
       " 5         25    1.00000  0.94370\n",
       " 6         30    1.00000  0.94289\n",
       " 7         35    1.00000  0.94264\n",
       " 8         40    1.00000  0.93817\n",
       " 9         45    1.00000  0.93995\n",
       " 10        50    1.00000  0.93857\n",
       " 11        55    1.00000  0.93803\n",
       " 12        60    1.00000  0.93729\n",
       " 13        65    1.00000  0.93755\n",
       " 14        70    1.00000  0.93682\n",
       " 15        75    1.00000  0.93736\n",
       " 16        80    1.00000  0.93741\n",
       " 17        85    1.00000  0.93645\n",
       " 18        90    1.00000  0.93685\n",
       " 19        95    1.00000  0.93702\n",
       " 20       100    1.00000  0.93674\n",
       " 21       105    1.00000  0.93741\n",
       " 22       110    1.00000  0.93693\n",
       " 23       115    1.00000  0.93700\n",
       " 24       120    1.00000  0.93702\n",
       " 25       125    1.00000  0.93703\n",
       " 26       130    1.00000  0.93722\n",
       " 27       135    1.00000  0.93750\n",
       " 28       140    1.00000  0.93712\n",
       " 29       145    1.00000  0.93702\n",
       " 30       150    1.00000  0.93625\n",
       " 31       155    1.00000  0.93564\n",
       " 32       160    1.00000  0.93557\n",
       " 33       165    1.00000  0.93582\n",
       " 34       170    1.00000  0.93493\n",
       " 35       175    1.00000  0.93520\n",
       " 36       180    1.00000  0.93513\n",
       " 37       185    1.00000  0.93541\n",
       " 38       190    1.00000  0.93457\n",
       " 39       195    1.00000  0.93421\n",
       " 40       199    1.00000  0.93434}"
      ]
     },
     "execution_count": 235,
     "metadata": {},
     "output_type": "execute_result"
    }
   ],
   "source": [
    "scores"
   ]
  },
  {
   "cell_type": "code",
   "execution_count": 241,
   "id": "b807dc32",
   "metadata": {},
   "outputs": [
    {
     "data": {
      "text/plain": [
       "<matplotlib.legend.Legend at 0x23dbae44370>"
      ]
     },
     "execution_count": 241,
     "metadata": {},
     "output_type": "execute_result"
    },
    {
     "data": {
      "image/png": "[encoded data removed]",
      "text/plain": [
       "<Figure size 432x288 with 1 Axes>"
      ]
     },
     "metadata": {
      "needs_background": "light"
     },
     "output_type": "display_data"
    }
   ],
   "source": [
    "for key, df_score in scores.items():\n",
    "    plt.plot(df_score.num_iter, df_score.val_auc, label=key)\n",
    "plt.legend()"
   ]
  },
  {
   "cell_type": "markdown",
   "id": "103bddd9",
   "metadata": {},
   "source": [
    "- So, eta = 0.05 is the best.\n",
    "- Let's find out what the best max_depth is\n",
    "- max_depth = 3, 4, 6, 8, 10"
   ]
  },
  {
   "cell_type": "code",
   "execution_count": null,
   "id": "508d1dce",
   "metadata": {},
   "outputs": [],
   "source": []
  },
  {
   "cell_type": "code",
   "execution_count": 248,
   "id": "2902a230",
   "metadata": {},
   "outputs": [],
   "source": [
    "scores1 = {}"
   ]
  },
  {
   "cell_type": "code",
   "execution_count": 265,
   "id": "42565ded",
   "metadata": {},
   "outputs": [],
   "source": [
    "%%capture output\n",
    "\n",
    "xgb_params = {\n",
    "    'eta': 0.05, \n",
    "    'max_depth': 10,\n",
    "    'min_child_weight': 1,\n",
    "    \n",
    "    'objective': 'binary:logistic',\n",
    "    'eval_metric': 'auc',\n",
    "\n",
    "    'nthread': 8,\n",
    "    'seed': 1,\n",
    "    'verbosity': 1,\n",
    "}\n",
    "\n",
    "model = xgb.train(xgb_params, dtrain, num_boost_round=200,\n",
    "                  verbose_eval=5,\n",
    "                  evals=watchlist)"
   ]
  },
  {
   "cell_type": "code",
   "execution_count": 266,
   "id": "54281343",
   "metadata": {},
   "outputs": [
    {
     "data": {
      "text/plain": [
       "'max_depth=10'"
      ]
     },
     "execution_count": 266,
     "metadata": {},
     "output_type": "execute_result"
    }
   ],
   "source": [
    "key1 = 'max_depth=%s' % (xgb_params['max_depth'])\n",
    "scores1[key1] = parse_xgb_output(output)\n",
    "key1"
   ]
  },
  {
   "cell_type": "code",
   "execution_count": 267,
   "id": "1b9f5dcd",
   "metadata": {},
   "outputs": [
    {
     "data": {
      "text/plain": [
       "dict_keys(['max_depth=3', 'max_depth=4', 'max_depth=6', 'max_depth=8', 'max_depth=10'])"
      ]
     },
     "execution_count": 267,
     "metadata": {},
     "output_type": "execute_result"
    }
   ],
   "source": [
    "scores1.keys()"
   ]
  },
  {
   "cell_type": "code",
   "execution_count": 268,
   "id": "37b23a06",
   "metadata": {},
   "outputs": [
    {
     "data": {
      "text/plain": [
       "{'max_depth=3':     num_iter  train_auc  val_auc\n",
       " 0          0    0.83468  0.80043\n",
       " 1          5    0.92515  0.90956\n",
       " 2         10    0.93758  0.91353\n",
       " 3         15    0.95474  0.93532\n",
       " 4         20    0.95678  0.93652\n",
       " 5         25    0.96230  0.94856\n",
       " 6         30    0.96300  0.94902\n",
       " 7         35    0.96818  0.95352\n",
       " 8         40    0.96957  0.95420\n",
       " 9         45    0.96984  0.95438\n",
       " 10        50    0.97231  0.95429\n",
       " 11        55    0.97273  0.95442\n",
       " 12        60    0.97300  0.95492\n",
       " 13        65    0.97525  0.95139\n",
       " 14        70    0.97583  0.95232\n",
       " 15        75    0.97798  0.95369\n",
       " 16        80    0.97800  0.95952\n",
       " 17        85    0.97949  0.95912\n",
       " 18        90    0.98144  0.95616\n",
       " 19        95    0.98076  0.95761\n",
       " 20       100    0.98065  0.95800\n",
       " 21       105    0.98117  0.95800\n",
       " 22       110    0.98301  0.95799\n",
       " 23       115    0.98316  0.95768\n",
       " 24       120    0.98339  0.95749\n",
       " 25       125    0.98364  0.95705\n",
       " 26       130    0.98386  0.95721\n",
       " 27       135    0.98406  0.95740\n",
       " 28       140    0.98417  0.95805\n",
       " 29       145    0.98440  0.95751\n",
       " 30       150    0.98456  0.95763\n",
       " 31       155    0.98472  0.95786\n",
       " 32       160    0.98500  0.95790\n",
       " 33       165    0.98513  0.95782\n",
       " 34       170    0.98532  0.95825\n",
       " 35       175    0.98555  0.95846\n",
       " 36       180    0.98587  0.95792\n",
       " 37       185    0.98592  0.95801\n",
       " 38       190    0.98617  0.95825\n",
       " 39       195    0.98629  0.95818\n",
       " 40       199    0.98652  0.95853,\n",
       " 'max_depth=4':     num_iter  train_auc  val_auc\n",
       " 0          0    0.88380  0.82069\n",
       " 1          5    0.94669  0.93002\n",
       " 2         10    0.95397  0.93900\n",
       " 3         15    0.95394  0.93949\n",
       " 4         20    0.95398  0.94004\n",
       " 5         25    0.96004  0.94991\n",
       " 6         30    0.96983  0.95411\n",
       " 7         35    0.97142  0.95547\n",
       " 8         40    0.97274  0.95619\n",
       " 9         45    0.97356  0.95609\n",
       " 10        50    0.97401  0.95665\n",
       " 11        55    0.97789  0.95589\n",
       " 12        60    0.97875  0.95599\n",
       " 13        65    0.97928  0.95652\n",
       " 14        70    0.97979  0.95667\n",
       " 15        75    0.98011  0.95705\n",
       " 16        80    0.98311  0.95493\n",
       " 17        85    0.98327  0.95446\n",
       " 18        90    0.98474  0.95371\n",
       " 19        95    0.98590  0.96153\n",
       " 20       100    0.98710  0.96528\n",
       " 21       105    0.98846  0.96120\n",
       " 22       110    0.98911  0.96211\n",
       " 23       115    0.99017  0.95914\n",
       " 24       120    0.99081  0.96143\n",
       " 25       125    0.99122  0.96160\n",
       " 26       130    0.99152  0.96040\n",
       " 27       135    0.99180  0.95974\n",
       " 28       140    0.99223  0.95832\n",
       " 29       145    0.99243  0.95661\n",
       " 30       150    0.99271  0.95597\n",
       " 31       155    0.99298  0.95531\n",
       " 32       160    0.99307  0.95548\n",
       " 33       165    0.99329  0.95566\n",
       " 34       170    0.99338  0.95500\n",
       " 35       175    0.99369  0.95346\n",
       " 36       180    0.99374  0.95336\n",
       " 37       185    0.99393  0.95185\n",
       " 38       190    0.99414  0.95106\n",
       " 39       195    0.99425  0.95067\n",
       " 40       199    0.99435  0.95001,\n",
       " 'max_depth=6':     num_iter  train_auc  val_auc\n",
       " 0          0    0.95538  0.94244\n",
       " 1          5    0.96388  0.94591\n",
       " 2         10    0.96751  0.95540\n",
       " 3         15    0.97414  0.95664\n",
       " 4         20    0.97474  0.95678\n",
       " 5         25    0.97527  0.95617\n",
       " 6         30    0.97932  0.95587\n",
       " 7         35    0.98065  0.95641\n",
       " 8         40    0.98165  0.95649\n",
       " 9         45    0.98241  0.95664\n",
       " 10        50    0.98297  0.95709\n",
       " 11        55    0.98356  0.95728\n",
       " 12        60    0.98401  0.95733\n",
       " 13        65    0.98432  0.95758\n",
       " 14        70    0.98453  0.95738\n",
       " 15        75    0.99058  0.95609\n",
       " 16        80    0.99408  0.95914\n",
       " 17        85    0.99511  0.95796\n",
       " 18        90    0.99569  0.95681\n",
       " 19        95    0.99590  0.95915\n",
       " 20       100    0.99606  0.95687\n",
       " 21       105    0.99645  0.95974\n",
       " 22       110    0.99663  0.95765\n",
       " 23       115    0.99686  0.96159\n",
       " 24       120    0.99718  0.96030\n",
       " 25       125    0.99739  0.96033\n",
       " 26       130    0.99760  0.96033\n",
       " 27       135    0.99781  0.96009\n",
       " 28       140    0.99800  0.95935\n",
       " 29       145    0.99814  0.95865\n",
       " 30       150    0.99832  0.95831\n",
       " 31       155    0.99848  0.95798\n",
       " 32       160    0.99861  0.95738\n",
       " 33       165    0.99873  0.95645\n",
       " 34       170    0.99882  0.95567\n",
       " 35       175    0.99890  0.95439\n",
       " 36       180    0.99894  0.95288\n",
       " 37       185    0.99901  0.95209\n",
       " 38       190    0.99909  0.95204\n",
       " 39       195    0.99914  0.95163\n",
       " 40       199    0.99922  0.95118,\n",
       " 'max_depth=8':     num_iter  train_auc  val_auc\n",
       " 0          0    0.96006  0.94647\n",
       " 1          5    0.96774  0.94947\n",
       " 2         10    0.97072  0.95121\n",
       " 3         15    0.97731  0.95051\n",
       " 4         20    0.97788  0.95951\n",
       " 5         25    0.97825  0.95993\n",
       " 6         30    0.97871  0.95964\n",
       " 7         35    0.97947  0.95959\n",
       " 8         40    0.97984  0.95909\n",
       " 9         45    0.98441  0.95826\n",
       " 10        50    0.98474  0.95791\n",
       " 11        55    0.98505  0.95783\n",
       " 12        60    0.98527  0.95767\n",
       " 13        65    0.98538  0.95723\n",
       " 14        70    0.98548  0.95721\n",
       " 15        75    0.99407  0.95660\n",
       " 16        80    0.99580  0.95912\n",
       " 17        85    0.99645  0.95914\n",
       " 18        90    0.99680  0.95911\n",
       " 19        95    0.99710  0.95722\n",
       " 20       100    0.99736  0.95802\n",
       " 21       105    0.99773  0.95863\n",
       " 22       110    0.99802  0.95801\n",
       " 23       115    0.99832  0.95726\n",
       " 24       120    0.99854  0.95794\n",
       " 25       125    0.99875  0.95945\n",
       " 26       130    0.99899  0.96075\n",
       " 27       135    0.99912  0.96043\n",
       " 28       140    0.99924  0.96076\n",
       " 29       145    0.99936  0.95998\n",
       " 30       150    0.99948  0.95890\n",
       " 31       155    0.99958  0.95819\n",
       " 32       160    0.99965  0.95741\n",
       " 33       165    0.99972  0.95756\n",
       " 34       170    0.99976  0.95725\n",
       " 35       175    0.99980  0.95648\n",
       " 36       180    0.99982  0.95573\n",
       " 37       185    0.99986  0.95493\n",
       " 38       190    0.99989  0.95457\n",
       " 39       195    0.99991  0.95435\n",
       " 40       199    0.99993  0.95433,\n",
       " 'max_depth=10':     num_iter  train_auc  val_auc\n",
       " 0          0    0.96074  0.94783\n",
       " 1          5    0.96792  0.95084\n",
       " 2         10    0.97118  0.95245\n",
       " 3         15    0.97816  0.95239\n",
       " 4         20    0.97864  0.96042\n",
       " 5         25    0.97883  0.95962\n",
       " 6         30    0.97936  0.95982\n",
       " 7         35    0.97993  0.95949\n",
       " 8         40    0.98228  0.95902\n",
       " 9         45    0.98492  0.95839\n",
       " 10        50    0.98530  0.95810\n",
       " 11        55    0.98553  0.95784\n",
       " 12        60    0.98568  0.95756\n",
       " 13        65    0.98575  0.95704\n",
       " 14        70    0.98580  0.95663\n",
       " 15        75    0.99598  0.95443\n",
       " 16        80    0.99636  0.95552\n",
       " 17        85    0.99673  0.95957\n",
       " 18        90    0.99708  0.95739\n",
       " 19        95    0.99759  0.95974\n",
       " 20       100    0.99782  0.95993\n",
       " 21       105    0.99806  0.95945\n",
       " 22       110    0.99831  0.95914\n",
       " 23       115    0.99854  0.95848\n",
       " 24       120    0.99874  0.95843\n",
       " 25       125    0.99894  0.96013\n",
       " 26       130    0.99910  0.96026\n",
       " 27       135    0.99926  0.95947\n",
       " 28       140    0.99940  0.95866\n",
       " 29       145    0.99952  0.95800\n",
       " 30       150    0.99962  0.95680\n",
       " 31       155    0.99969  0.95593\n",
       " 32       160    0.99976  0.95520\n",
       " 33       165    0.99981  0.95507\n",
       " 34       170    0.99986  0.95466\n",
       " 35       175    0.99990  0.95472\n",
       " 36       180    0.99994  0.95407\n",
       " 37       185    0.99996  0.95375\n",
       " 38       190    0.99998  0.95354\n",
       " 39       195    0.99999  0.95382\n",
       " 40       199    0.99999  0.95363}"
      ]
     },
     "execution_count": 268,
     "metadata": {},
     "output_type": "execute_result"
    }
   ],
   "source": [
    "scores1"
   ]
  },
  {
   "cell_type": "code",
   "execution_count": 282,
   "id": "96b96cdd",
   "metadata": {},
   "outputs": [
    {
     "data": {
      "text/plain": [
       "<matplotlib.legend.Legend at 0x23dbdaa3850>"
      ]
     },
     "execution_count": 282,
     "metadata": {},
     "output_type": "execute_result"
    },
    {
     "data": {
      "image/png": "[encoded data removed]",
      "text/plain": [
       "<Figure size 432x288 with 1 Axes>"
      ]
     },
     "metadata": {
      "needs_background": "light"
     },
     "output_type": "display_data"
    }
   ],
   "source": [
    "for key, df_score in scores1.items():\n",
    "    plt.plot(df_score.num_iter, df_score.val_auc, label=key)\n",
    "plt.ylim(0.93, 0.98)\n",
    "plt.legend()"
   ]
  },
  {
   "cell_type": "markdown",
   "id": "af419071",
   "metadata": {},
   "source": [
    "- So, max_depth = 4 is the best\n",
    "- Let's find out what the best min_child_weight is\n",
    "- min_child_weight = 1, 10, 30"
   ]
  },
  {
   "cell_type": "code",
   "execution_count": 272,
   "id": "06605302",
   "metadata": {},
   "outputs": [],
   "source": [
    "scores2 = {}"
   ]
  },
  {
   "cell_type": "code",
   "execution_count": 279,
   "id": "7d79fa01",
   "metadata": {},
   "outputs": [],
   "source": [
    "%%capture output\n",
    "\n",
    "xgb_params = {\n",
    "    'eta': 0.05, \n",
    "    'max_depth': 4,\n",
    "    'min_child_weight': 30,\n",
    "    \n",
    "    'objective': 'binary:logistic',\n",
    "    'eval_metric': 'auc',\n",
    "\n",
    "    'nthread': 8,\n",
    "    'seed': 1,\n",
    "    'verbosity': 1,\n",
    "}\n",
    "\n",
    "model = xgb.train(xgb_params, dtrain, num_boost_round=200,\n",
    "                  verbose_eval=5,\n",
    "                  evals=watchlist)"
   ]
  },
  {
   "cell_type": "code",
   "execution_count": 280,
   "id": "e395b306",
   "metadata": {},
   "outputs": [
    {
     "data": {
      "text/plain": [
       "'min_child_weight=30'"
      ]
     },
     "execution_count": 280,
     "metadata": {},
     "output_type": "execute_result"
    }
   ],
   "source": [
    "key = 'min_child_weight=%s' % (xgb_params['min_child_weight'])\n",
    "scores2[key] = parse_xgb_output(output)\n",
    "key"
   ]
  },
  {
   "cell_type": "code",
   "execution_count": 281,
   "id": "1e641f2c",
   "metadata": {},
   "outputs": [
    {
     "data": {
      "text/plain": [
       "dict_keys(['min_child_weight=1', 'min_child_weight=10', 'min_child_weight=30'])"
      ]
     },
     "execution_count": 281,
     "metadata": {},
     "output_type": "execute_result"
    }
   ],
   "source": [
    "scores2.keys()"
   ]
  },
  {
   "cell_type": "code",
   "execution_count": 284,
   "id": "a0aa1986",
   "metadata": {},
   "outputs": [
    {
     "data": {
      "text/plain": [
       "<matplotlib.legend.Legend at 0x23dbdb99b20>"
      ]
     },
     "execution_count": 284,
     "metadata": {},
     "output_type": "execute_result"
    },
    {
     "data": {
      "image/png": "[encoded data removed]",
      "text/plain": [
       "<Figure size 432x288 with 1 Axes>"
      ]
     },
     "metadata": {
      "needs_background": "light"
     },
     "output_type": "display_data"
    }
   ],
   "source": [
    "for key, df_score in scores2.items():\n",
    "    plt.plot(df_score.num_iter, df_score.val_auc, label=key)\n",
    "\n",
    "plt.ylim(0.93, 0.97)\n",
    "plt.legend()"
   ]
  },
  {
   "cell_type": "markdown",
   "id": "e94c051c",
   "metadata": {},
   "source": [
    "- So, min_child_weight = 1 is the best\n",
    "#### Final XGB Model"
   ]
  },
  {
   "cell_type": "code",
   "execution_count": 292,
   "id": "21451af1",
   "metadata": {},
   "outputs": [
    {
     "name": "stdout",
     "output_type": "stream",
     "text": [
      "[0]\ttrain-auc:0.89333\tval-auc:0.83364\n",
      "[5]\ttrain-auc:0.90589\tval-auc:0.85271\n",
      "[10]\ttrain-auc:0.95736\tval-auc:0.94238\n",
      "[15]\ttrain-auc:0.96020\tval-auc:0.94287\n",
      "[20]\ttrain-auc:0.95950\tval-auc:0.94277\n",
      "[25]\ttrain-auc:0.96281\tval-auc:0.94664\n",
      "[30]\ttrain-auc:0.96781\tval-auc:0.94910\n",
      "[35]\ttrain-auc:0.96846\tval-auc:0.94947\n",
      "[40]\ttrain-auc:0.96947\tval-auc:0.95012\n",
      "[45]\ttrain-auc:0.96975\tval-auc:0.95055\n",
      "[50]\ttrain-auc:0.97183\tval-auc:0.95045\n",
      "[55]\ttrain-auc:0.97221\tval-auc:0.95096\n",
      "[60]\ttrain-auc:0.97429\tval-auc:0.95112\n",
      "[65]\ttrain-auc:0.97623\tval-auc:0.95101\n",
      "[70]\ttrain-auc:0.98072\tval-auc:0.95143\n",
      "[75]\ttrain-auc:0.98146\tval-auc:0.95076\n",
      "[80]\ttrain-auc:0.98214\tval-auc:0.95490\n",
      "[85]\ttrain-auc:0.98161\tval-auc:0.95567\n",
      "[90]\ttrain-auc:0.98141\tval-auc:0.95458\n",
      "[95]\ttrain-auc:0.98131\tval-auc:0.95557\n",
      "[100]\ttrain-auc:0.98168\tval-auc:0.95519\n",
      "[105]\ttrain-auc:0.98203\tval-auc:0.95403\n",
      "[110]\ttrain-auc:0.98240\tval-auc:0.95231\n",
      "[115]\ttrain-auc:0.98280\tval-auc:0.95150\n",
      "[120]\ttrain-auc:0.98307\tval-auc:0.95236\n",
      "[125]\ttrain-auc:0.98379\tval-auc:0.95355\n",
      "[130]\ttrain-auc:0.98394\tval-auc:0.95260\n",
      "[135]\ttrain-auc:0.98402\tval-auc:0.95175\n",
      "[140]\ttrain-auc:0.98428\tval-auc:0.95173\n",
      "[145]\ttrain-auc:0.98444\tval-auc:0.95134\n",
      "[150]\ttrain-auc:0.98459\tval-auc:0.94975\n",
      "[155]\ttrain-auc:0.98468\tval-auc:0.94951\n",
      "[160]\ttrain-auc:0.98481\tval-auc:0.95011\n",
      "[165]\ttrain-auc:0.98498\tval-auc:0.94917\n",
      "[170]\ttrain-auc:0.98500\tval-auc:0.94947\n",
      "[175]\ttrain-auc:0.98506\tval-auc:0.94960\n",
      "[180]\ttrain-auc:0.98536\tval-auc:0.95013\n",
      "[185]\ttrain-auc:0.98547\tval-auc:0.94964\n",
      "[190]\ttrain-auc:0.98563\tval-auc:0.94949\n",
      "[195]\ttrain-auc:0.98580\tval-auc:0.94999\n",
      "[199]\ttrain-auc:0.98581\tval-auc:0.94938\n"
     ]
    }
   ],
   "source": [
    "xgb_params = {\n",
    "    'eta': 0.05, \n",
    "    'max_depth': 4,\n",
    "    'min_child_weight': 10,\n",
    "    \n",
    "    'objective': 'binary:logistic',\n",
    "    'eval_metric': 'auc',\n",
    "\n",
    "    'nthread': 8,\n",
    "    'seed': 1,\n",
    "    'verbosity': 1,\n",
    "}\n",
    "\n",
    "model = xgb.train(xgb_params, dtrain, num_boost_round=200,\n",
    "                  verbose_eval=5,\n",
    "                  evals=watchlist)"
   ]
  },
  {
   "cell_type": "code",
   "execution_count": 297,
   "id": "6eebe79e",
   "metadata": {},
   "outputs": [],
   "source": [
    "xgb_params = {\n",
    "    'eta': 0.05, \n",
    "    'max_depth': 4,\n",
    "    'min_child_weight': 1,\n",
    "    \n",
    "    'colsample_bytree': 1, #default\n",
    "    'subsample': 1, #default\n",
    "    'lambda': 1, #default\n",
    "    'alpha': 0, #default\n",
    "\n",
    "    'objective': 'binary:logistic',\n",
    "    'eval_metric': 'auc',\n",
    "\n",
    "    'nthread': 8,\n",
    "    'seed': 1,\n",
    "    'verbosity': 1,\n",
    "}\n",
    "\n",
    "model = xgb.train(xgb_params, dtrain, num_boost_round=110)"
   ]
  },
  {
   "cell_type": "code",
   "execution_count": 298,
   "id": "bb1a6ec7",
   "metadata": {},
   "outputs": [
    {
     "data": {
      "text/plain": [
       "0.9587452977795533"
      ]
     },
     "execution_count": 298,
     "metadata": {},
     "output_type": "execute_result"
    }
   ],
   "source": [
    "y_pred_xgb = model.predict(dval)\n",
    "roc_auc_score(y_val, y_pred_xgb)"
   ]
  },
  {
   "cell_type": "code",
   "execution_count": null,
   "id": "dacd0f06",
   "metadata": {},
   "outputs": [],
   "source": []
  },
  {
   "cell_type": "markdown",
   "id": "35fc1359",
   "metadata": {},
   "source": [
    "## Selecting the best model"
   ]
  },
  {
   "cell_type": "code",
   "execution_count": 300,
   "id": "ab040bb6",
   "metadata": {},
   "outputs": [
    {
     "data": {
      "text/plain": [
       "LogisticRegression(solver='liblinear')"
      ]
     },
     "execution_count": 300,
     "metadata": {},
     "output_type": "execute_result"
    }
   ],
   "source": [
    "model = LogisticRegression(solver='liblinear')\n",
    "model.fit(X_train, y_train)"
   ]
  },
  {
   "cell_type": "code",
   "execution_count": 302,
   "id": "f4747b11",
   "metadata": {},
   "outputs": [
    {
     "data": {
      "text/plain": [
       "0.8741469423083325"
      ]
     },
     "execution_count": 302,
     "metadata": {},
     "output_type": "execute_result"
    }
   ],
   "source": [
    "y_pred_lr = model.predict_proba(X_val)[:, 1]\n",
    "roc_auc_score(y_val, y_pred_lr)"
   ]
  },
  {
   "cell_type": "code",
   "execution_count": null,
   "id": "043e7594",
   "metadata": {},
   "outputs": [],
   "source": []
  },
  {
   "cell_type": "code",
   "execution_count": 305,
   "id": "7ba6d5b9",
   "metadata": {},
   "outputs": [
    {
     "data": {
      "text/plain": [
       "DecisionTreeClassifier(max_depth=10, min_samples_leaf=15)"
      ]
     },
     "execution_count": 305,
     "metadata": {},
     "output_type": "execute_result"
    }
   ],
   "source": [
    "dt = DecisionTreeClassifier(max_depth=10, min_samples_leaf=15)\n",
    "dt.fit(X_train, y_train)"
   ]
  },
  {
   "cell_type": "code",
   "execution_count": 306,
   "id": "96711121",
   "metadata": {},
   "outputs": [
    {
     "data": {
      "text/plain": [
       "0.9429533273411232"
      ]
     },
     "execution_count": 306,
     "metadata": {},
     "output_type": "execute_result"
    }
   ],
   "source": [
    "y_pred_dt = dt.predict_proba(X_val)[:, 1]\n",
    "roc_auc_score(y_val, y_pred_dt)"
   ]
  },
  {
   "cell_type": "code",
   "execution_count": null,
   "id": "0c75664f",
   "metadata": {},
   "outputs": [],
   "source": []
  },
  {
   "cell_type": "code",
   "execution_count": 307,
   "id": "6d80bcae",
   "metadata": {},
   "outputs": [
    {
     "data": {
      "text/plain": [
       "RandomForestClassifier(max_depth=10, min_samples_leaf=10, n_estimators=80,\n",
       "                       random_state=1)"
      ]
     },
     "execution_count": 307,
     "metadata": {},
     "output_type": "execute_result"
    }
   ],
   "source": [
    "rf = RandomForestClassifier(n_estimators=80,\n",
    "                            max_depth=max_depth,\n",
    "                            min_samples_leaf=min_samples_leaf,\n",
    "                            random_state=1)\n",
    "rf.fit(X_train, y_train)"
   ]
  },
  {
   "cell_type": "code",
   "execution_count": 308,
   "id": "e84c6cf2",
   "metadata": {},
   "outputs": [
    {
     "data": {
      "text/plain": [
       "0.9621575285462232"
      ]
     },
     "execution_count": 308,
     "metadata": {},
     "output_type": "execute_result"
    }
   ],
   "source": [
    "y_pred_rf = rf.predict_proba(X_val)[:, 1]\n",
    "roc_auc_score(y_val, y_pred_rf)"
   ]
  },
  {
   "cell_type": "code",
   "execution_count": null,
   "id": "de42f4c9",
   "metadata": {},
   "outputs": [],
   "source": []
  },
  {
   "cell_type": "code",
   "execution_count": 309,
   "id": "d470a2b7",
   "metadata": {},
   "outputs": [],
   "source": [
    "xgb_params = {\n",
    "    'eta': 0.05, \n",
    "    'max_depth': 4,\n",
    "    'min_child_weight': 1,\n",
    "    \n",
    "    'colsample_bytree': 1, #default\n",
    "    'subsample': 1, #default\n",
    "    'lambda': 1, #default\n",
    "    'alpha': 0, #default\n",
    "\n",
    "    'objective': 'binary:logistic',\n",
    "    'eval_metric': 'auc',\n",
    "\n",
    "    'nthread': 8,\n",
    "    'seed': 1,\n",
    "    'verbosity': 1,\n",
    "}\n",
    "\n",
    "model = xgb.train(xgb_params, dtrain, num_boost_round=110)"
   ]
  },
  {
   "cell_type": "code",
   "execution_count": 310,
   "id": "f8695f8e",
   "metadata": {},
   "outputs": [
    {
     "data": {
      "text/plain": [
       "0.9587452977795533"
      ]
     },
     "execution_count": 310,
     "metadata": {},
     "output_type": "execute_result"
    }
   ],
   "source": [
    "y_pred_xgb = model.predict(dval)\n",
    "roc_auc_score(y_val, y_pred_xgb)"
   ]
  },
  {
   "cell_type": "markdown",
   "id": "58f19ffc",
   "metadata": {},
   "source": [
    "#### So, RF has the best roc_auc_score"
   ]
  },
  {
   "cell_type": "code",
   "execution_count": 311,
   "id": "15db1ec5",
   "metadata": {
    "scrolled": true
   },
   "outputs": [
    {
     "data": {
      "text/html": [
       "<div>\n",
       "<style scoped>\n",
       "    .dataframe tbody tr th:only-of-type {\n",
       "        vertical-align: middle;\n",
       "    }\n",
       "\n",
       "    .dataframe tbody tr th {\n",
       "        vertical-align: top;\n",
       "    }\n",
       "\n",
       "    .dataframe thead th {\n",
       "        text-align: right;\n",
       "    }\n",
       "</style>\n",
       "<table border=\"1\" class=\"dataframe\">\n",
       "  <thead>\n",
       "    <tr style=\"text-align: right;\">\n",
       "      <th></th>\n",
       "      <th>type</th>\n",
       "      <th>air_temperature_k</th>\n",
       "      <th>process_temperature_k</th>\n",
       "      <th>rotational_speed_rpm</th>\n",
       "      <th>torque_nm</th>\n",
       "      <th>tool_wear_min</th>\n",
       "      <th>twf</th>\n",
       "      <th>hdf</th>\n",
       "      <th>pwf</th>\n",
       "      <th>osf</th>\n",
       "      <th>rnf</th>\n",
       "      <th>target</th>\n",
       "    </tr>\n",
       "  </thead>\n",
       "  <tbody>\n",
       "    <tr>\n",
       "      <th>2694</th>\n",
       "      <td>M</td>\n",
       "      <td>300.1</td>\n",
       "      <td>309.6</td>\n",
       "      <td>1625</td>\n",
       "      <td>38.0</td>\n",
       "      <td>46</td>\n",
       "      <td>0</td>\n",
       "      <td>0</td>\n",
       "      <td>0</td>\n",
       "      <td>0</td>\n",
       "      <td>0</td>\n",
       "      <td>0</td>\n",
       "    </tr>\n",
       "    <tr>\n",
       "      <th>5140</th>\n",
       "      <td>M</td>\n",
       "      <td>304.3</td>\n",
       "      <td>313.6</td>\n",
       "      <td>1585</td>\n",
       "      <td>32.1</td>\n",
       "      <td>202</td>\n",
       "      <td>0</td>\n",
       "      <td>0</td>\n",
       "      <td>0</td>\n",
       "      <td>0</td>\n",
       "      <td>0</td>\n",
       "      <td>0</td>\n",
       "    </tr>\n",
       "    <tr>\n",
       "      <th>2568</th>\n",
       "      <td>L</td>\n",
       "      <td>299.6</td>\n",
       "      <td>309.2</td>\n",
       "      <td>1450</td>\n",
       "      <td>43.1</td>\n",
       "      <td>160</td>\n",
       "      <td>0</td>\n",
       "      <td>0</td>\n",
       "      <td>0</td>\n",
       "      <td>0</td>\n",
       "      <td>0</td>\n",
       "      <td>0</td>\n",
       "    </tr>\n",
       "    <tr>\n",
       "      <th>3671</th>\n",
       "      <td>M</td>\n",
       "      <td>302.3</td>\n",
       "      <td>311.7</td>\n",
       "      <td>1486</td>\n",
       "      <td>39.6</td>\n",
       "      <td>147</td>\n",
       "      <td>0</td>\n",
       "      <td>0</td>\n",
       "      <td>0</td>\n",
       "      <td>0</td>\n",
       "      <td>0</td>\n",
       "      <td>0</td>\n",
       "    </tr>\n",
       "    <tr>\n",
       "      <th>7427</th>\n",
       "      <td>L</td>\n",
       "      <td>300.0</td>\n",
       "      <td>311.4</td>\n",
       "      <td>1634</td>\n",
       "      <td>31.9</td>\n",
       "      <td>0</td>\n",
       "      <td>0</td>\n",
       "      <td>0</td>\n",
       "      <td>0</td>\n",
       "      <td>0</td>\n",
       "      <td>0</td>\n",
       "      <td>0</td>\n",
       "    </tr>\n",
       "    <tr>\n",
       "      <th>...</th>\n",
       "      <td>...</td>\n",
       "      <td>...</td>\n",
       "      <td>...</td>\n",
       "      <td>...</td>\n",
       "      <td>...</td>\n",
       "      <td>...</td>\n",
       "      <td>...</td>\n",
       "      <td>...</td>\n",
       "      <td>...</td>\n",
       "      <td>...</td>\n",
       "      <td>...</td>\n",
       "      <td>...</td>\n",
       "    </tr>\n",
       "    <tr>\n",
       "      <th>2895</th>\n",
       "      <td>M</td>\n",
       "      <td>300.7</td>\n",
       "      <td>309.6</td>\n",
       "      <td>1473</td>\n",
       "      <td>48.1</td>\n",
       "      <td>87</td>\n",
       "      <td>0</td>\n",
       "      <td>0</td>\n",
       "      <td>0</td>\n",
       "      <td>0</td>\n",
       "      <td>0</td>\n",
       "      <td>0</td>\n",
       "    </tr>\n",
       "    <tr>\n",
       "      <th>7813</th>\n",
       "      <td>L</td>\n",
       "      <td>300.0</td>\n",
       "      <td>311.5</td>\n",
       "      <td>1455</td>\n",
       "      <td>41.7</td>\n",
       "      <td>130</td>\n",
       "      <td>0</td>\n",
       "      <td>0</td>\n",
       "      <td>0</td>\n",
       "      <td>0</td>\n",
       "      <td>0</td>\n",
       "      <td>0</td>\n",
       "    </tr>\n",
       "    <tr>\n",
       "      <th>905</th>\n",
       "      <td>L</td>\n",
       "      <td>295.6</td>\n",
       "      <td>306.1</td>\n",
       "      <td>1474</td>\n",
       "      <td>41.2</td>\n",
       "      <td>156</td>\n",
       "      <td>0</td>\n",
       "      <td>0</td>\n",
       "      <td>0</td>\n",
       "      <td>0</td>\n",
       "      <td>0</td>\n",
       "      <td>0</td>\n",
       "    </tr>\n",
       "    <tr>\n",
       "      <th>5192</th>\n",
       "      <td>L</td>\n",
       "      <td>303.9</td>\n",
       "      <td>313.1</td>\n",
       "      <td>1310</td>\n",
       "      <td>62.9</td>\n",
       "      <td>130</td>\n",
       "      <td>0</td>\n",
       "      <td>0</td>\n",
       "      <td>0</td>\n",
       "      <td>0</td>\n",
       "      <td>0</td>\n",
       "      <td>0</td>\n",
       "    </tr>\n",
       "    <tr>\n",
       "      <th>235</th>\n",
       "      <td>M</td>\n",
       "      <td>298.1</td>\n",
       "      <td>308.3</td>\n",
       "      <td>1680</td>\n",
       "      <td>33.7</td>\n",
       "      <td>185</td>\n",
       "      <td>0</td>\n",
       "      <td>0</td>\n",
       "      <td>0</td>\n",
       "      <td>0</td>\n",
       "      <td>0</td>\n",
       "      <td>0</td>\n",
       "    </tr>\n",
       "  </tbody>\n",
       "</table>\n",
       "<p>8000 rows × 12 columns</p>\n",
       "</div>"
      ],
      "text/plain": [
       "     type  air_temperature_k  process_temperature_k  rotational_speed_rpm  \\\n",
       "2694    M              300.1                  309.6                  1625   \n",
       "5140    M              304.3                  313.6                  1585   \n",
       "2568    L              299.6                  309.2                  1450   \n",
       "3671    M              302.3                  311.7                  1486   \n",
       "7427    L              300.0                  311.4                  1634   \n",
       "...   ...                ...                    ...                   ...   \n",
       "2895    M              300.7                  309.6                  1473   \n",
       "7813    L              300.0                  311.5                  1455   \n",
       "905     L              295.6                  306.1                  1474   \n",
       "5192    L              303.9                  313.1                  1310   \n",
       "235     M              298.1                  308.3                  1680   \n",
       "\n",
       "      torque_nm  tool_wear_min  twf  hdf  pwf  osf  rnf  target  \n",
       "2694       38.0             46    0    0    0    0    0       0  \n",
       "5140       32.1            202    0    0    0    0    0       0  \n",
       "2568       43.1            160    0    0    0    0    0       0  \n",
       "3671       39.6            147    0    0    0    0    0       0  \n",
       "7427       31.9              0    0    0    0    0    0       0  \n",
       "...         ...            ...  ...  ...  ...  ...  ...     ...  \n",
       "2895       48.1             87    0    0    0    0    0       0  \n",
       "7813       41.7            130    0    0    0    0    0       0  \n",
       "905        41.2            156    0    0    0    0    0       0  \n",
       "5192       62.9            130    0    0    0    0    0       0  \n",
       "235        33.7            185    0    0    0    0    0       0  \n",
       "\n",
       "[8000 rows x 12 columns]"
      ]
     },
     "execution_count": 311,
     "metadata": {},
     "output_type": "execute_result"
    }
   ],
   "source": [
    "df_full_train"
   ]
  },
  {
   "cell_type": "code",
   "execution_count": null,
   "id": "1c20d819",
   "metadata": {},
   "outputs": [],
   "source": []
  },
  {
   "cell_type": "markdown",
   "id": "d4ceee62",
   "metadata": {},
   "source": [
    "### Test the RF model on the test dataset"
   ]
  },
  {
   "cell_type": "code",
   "execution_count": 312,
   "id": "52ced3b9",
   "metadata": {},
   "outputs": [],
   "source": [
    "df_full_train = df_full_train.reset_index(drop=True)"
   ]
  },
  {
   "cell_type": "code",
   "execution_count": 314,
   "id": "803feb36",
   "metadata": {},
   "outputs": [],
   "source": [
    "y_full_train = df_full_train.target.values"
   ]
  },
  {
   "cell_type": "code",
   "execution_count": 315,
   "id": "515c0360",
   "metadata": {},
   "outputs": [],
   "source": [
    "del df_full_train['target']"
   ]
  },
  {
   "cell_type": "code",
   "execution_count": 316,
   "id": "1e85c1b3",
   "metadata": {},
   "outputs": [],
   "source": [
    "dicts_full_train = df_full_train.to_dict(orient='records')\n",
    "\n",
    "dv = DictVectorizer(sparse=False)\n",
    "X_full_train = dv.fit_transform(dicts_full_train)\n",
    "\n",
    "dicts_test = df_test.to_dict(orient='records')\n",
    "X_test = dv.transform(dicts_test)"
   ]
  },
  {
   "cell_type": "code",
   "execution_count": 317,
   "id": "d7effd22",
   "metadata": {},
   "outputs": [
    {
     "data": {
      "text/plain": [
       "RandomForestClassifier(max_depth=10, min_samples_leaf=10, n_estimators=80,\n",
       "                       random_state=1)"
      ]
     },
     "execution_count": 317,
     "metadata": {},
     "output_type": "execute_result"
    }
   ],
   "source": [
    "rf = RandomForestClassifier(n_estimators=80,\n",
    "                            max_depth=max_depth,\n",
    "                            min_samples_leaf=min_samples_leaf,\n",
    "                            random_state=1)\n",
    "rf.fit(X_full_train, y_full_train)"
   ]
  },
  {
   "cell_type": "code",
   "execution_count": 318,
   "id": "d59515c0",
   "metadata": {},
   "outputs": [
    {
     "data": {
      "text/plain": [
       "0.9399549073051708"
      ]
     },
     "execution_count": 318,
     "metadata": {},
     "output_type": "execute_result"
    }
   ],
   "source": [
    "y_pred_rf_test = rf.predict_proba(X_test)[:, 1]\n",
    "roc_auc_score(y_test, y_pred_rf_test)"
   ]
  },
  {
   "cell_type": "code",
   "execution_count": null,
   "id": "cf982818",
   "metadata": {},
   "outputs": [],
   "source": []
  },
  {
   "cell_type": "markdown",
   "id": "d68d42d4",
   "metadata": {},
   "source": [
    "#### Save file"
   ]
  },
  {
   "cell_type": "code",
   "execution_count": 192,
   "id": "184cd4a8",
   "metadata": {},
   "outputs": [],
   "source": [
    "output_file = 'project1_model_FR.bin'"
   ]
  },
  {
   "cell_type": "code",
   "execution_count": 193,
   "id": "79e83bbb",
   "metadata": {},
   "outputs": [],
   "source": [
    "with open(output_file, 'wb') as f_out:\n",
    "    pickle.dump((dv, rf), f_out)"
   ]
  },
  {
   "cell_type": "code",
   "execution_count": null,
   "id": "2ef3dae2",
   "metadata": {},
   "outputs": [],
   "source": []
  }
 ],
 "metadata": {
  "kernelspec": {
   "display_name": "Python 3 (ipykernel)",
   "language": "python",
   "name": "python3"
  },
  "language_info": {
   "codemirror_mode": {
    "name": "ipython",
    "version": 3
   },
   "file_extension": ".py",
   "mimetype": "text/x-python",
   "name": "python",
   "nbconvert_exporter": "python",
   "pygments_lexer": "ipython3",
   "version": "3.9.12"
  }
 },
 "nbformat": 4,
 "nbformat_minor": 5
}
