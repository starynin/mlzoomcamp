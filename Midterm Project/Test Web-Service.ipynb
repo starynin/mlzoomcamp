{
 "cells": [
  {
   "cell_type": "code",
   "execution_count": 3,
   "id": "be0a2f80",
   "metadata": {},
   "outputs": [
    {
     "data": {
      "application/javascript": [
       "IPython.notebook.set_autosave_interval(0)"
      ]
     },
     "metadata": {},
     "output_type": "display_data"
    },
    {
     "name": "stdout",
     "output_type": "stream",
     "text": [
      "Autosave disabled\n"
     ]
    }
   ],
   "source": [
    "%autosave 0"
   ]
  },
  {
   "cell_type": "code",
   "execution_count": 1,
   "id": "d2d9f16b",
   "metadata": {},
   "outputs": [],
   "source": [
    "import requests"
   ]
  },
  {
   "cell_type": "code",
   "execution_count": 15,
   "id": "961e13f2",
   "metadata": {},
   "outputs": [],
   "source": [
    "url = 'http://localhost:9696/predict'"
   ]
  },
  {
   "cell_type": "code",
   "execution_count": 23,
   "id": "3cb139da",
   "metadata": {},
   "outputs": [],
   "source": [
    "test_json = {\"type\": 'L',\n",
    " \"air_temperature\": 222.7,\n",
    " \"process_temperature\": 391.1,\n",
    " \"rotational_speed\": 16030,\n",
    " \"torque\": 380.5,\n",
    " \"tool_wear\": 1700}"
   ]
  },
  {
   "cell_type": "code",
   "execution_count": 24,
   "id": "728528ee",
   "metadata": {},
   "outputs": [
    {
     "name": "stdout",
     "output_type": "stream",
     "text": [
      "{'failure': False, 'failure_probability': 0.37335737786548284}\n"
     ]
    }
   ],
   "source": [
    "response = requests.post(url, json=test_json).json()\n",
    "print(response)"
   ]
  },
  {
   "cell_type": "code",
   "execution_count": 25,
   "id": "ade3f14e",
   "metadata": {},
   "outputs": [
    {
     "name": "stdout",
     "output_type": "stream",
     "text": [
      "The tool is not going to be broken\n"
     ]
    }
   ],
   "source": [
    "if response['failure'] == True:\n",
    "    print('The tool IS going to be broken')\n",
    "else:\n",
    "    print('The tool is not going to be broken')"
   ]
  },
  {
   "cell_type": "code",
   "execution_count": null,
   "id": "4a88b11b",
   "metadata": {},
   "outputs": [],
   "source": []
  }
 ],
 "metadata": {
  "kernelspec": {
   "display_name": "Python 3 (ipykernel)",
   "language": "python",
   "name": "python3"
  },
  "language_info": {
   "codemirror_mode": {
    "name": "ipython",
    "version": 3
   },
   "file_extension": ".py",
   "mimetype": "text/x-python",
   "name": "python",
   "nbconvert_exporter": "python",
   "pygments_lexer": "ipython3",
   "version": "3.9.12"
  }
 },
 "nbformat": 4,
 "nbformat_minor": 5
}
